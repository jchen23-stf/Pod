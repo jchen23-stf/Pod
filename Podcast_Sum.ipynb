{
  "nbformat": 4,
  "nbformat_minor": 0,
  "metadata": {
    "colab": {
      "name": "Podcast Sum",
      "provenance": [],
      "collapsed_sections": [],
      "include_colab_link": true
    },
    "language_info": {
      "name": "python"
    },
    "kernelspec": {
      "name": "python3",
      "display_name": "Python 3"
    },
    "widgets": {
      "application/vnd.jupyter.widget-state+json": {
        "951e13f1652f44fb900158b9ccaf5b31": {
          "model_module": "@jupyter-widgets/controls",
          "model_name": "VBoxModel",
          "model_module_version": "1.5.0",
          "state": {
            "_view_name": "VBoxView",
            "_dom_classes": [],
            "_model_name": "VBoxModel",
            "_view_module": "@jupyter-widgets/controls",
            "_model_module_version": "1.5.0",
            "_view_count": null,
            "_view_module_version": "1.5.0",
            "box_style": "",
            "layout": "IPY_MODEL_7d569e7c4370406996c01b12ada78585",
            "_model_module": "@jupyter-widgets/controls",
            "children": [
              "IPY_MODEL_0e9efc7435da49b2a36cb2ad7e20df5b",
              "IPY_MODEL_e2618ed9e1fb4c7497d3baa2d3917314",
              "IPY_MODEL_275d4bea69334e51b4a761e4edeb3ffb"
            ]
          }
        },
        "7d569e7c4370406996c01b12ada78585": {
          "model_module": "@jupyter-widgets/base",
          "model_name": "LayoutModel",
          "model_module_version": "1.2.0",
          "state": {
            "_view_name": "LayoutView",
            "grid_template_rows": null,
            "right": null,
            "justify_content": null,
            "_view_module": "@jupyter-widgets/base",
            "overflow": null,
            "_model_module_version": "1.2.0",
            "_view_count": null,
            "flex_flow": "column",
            "width": "50%",
            "min_width": null,
            "border": null,
            "align_items": "center",
            "bottom": null,
            "_model_module": "@jupyter-widgets/base",
            "top": null,
            "grid_column": null,
            "overflow_y": null,
            "overflow_x": null,
            "grid_auto_flow": null,
            "grid_area": null,
            "grid_template_columns": null,
            "flex": null,
            "_model_name": "LayoutModel",
            "justify_items": null,
            "grid_row": null,
            "max_height": null,
            "align_content": null,
            "visibility": null,
            "align_self": null,
            "height": null,
            "min_height": null,
            "padding": null,
            "grid_auto_rows": null,
            "grid_gap": null,
            "max_width": null,
            "order": null,
            "_view_module_version": "1.2.0",
            "grid_template_areas": null,
            "object_position": null,
            "object_fit": null,
            "grid_auto_columns": null,
            "margin": null,
            "display": "flex",
            "left": null
          }
        },
        "0e9efc7435da49b2a36cb2ad7e20df5b": {
          "model_module": "@jupyter-widgets/controls",
          "model_name": "HTMLModel",
          "model_module_version": "1.5.0",
          "state": {
            "_view_name": "HTMLView",
            "style": "IPY_MODEL_9eab1bb360ff42edacb4923473955977",
            "_dom_classes": [],
            "description": "",
            "_model_name": "HTMLModel",
            "placeholder": "​",
            "_view_module": "@jupyter-widgets/controls",
            "_model_module_version": "1.5.0",
            "value": "<center>\n<img src=https://huggingface.co/front/assets/huggingface_logo-noborder.svg alt='Hugging Face'>\n<br>\n<b>The AI community building the future</b>\n<br>\nImmediately click login after typing your password or it might be stored in plain text in this notebook file.\n</center>",
            "_view_count": null,
            "_view_module_version": "1.5.0",
            "description_tooltip": null,
            "_model_module": "@jupyter-widgets/controls",
            "layout": "IPY_MODEL_50bd83195ef34fb8a7a03a50015b4061"
          }
        },
        "e2618ed9e1fb4c7497d3baa2d3917314": {
          "model_module": "@jupyter-widgets/controls",
          "model_name": "HBoxModel",
          "model_module_version": "1.5.0",
          "state": {
            "_view_name": "HBoxView",
            "_dom_classes": [],
            "_model_name": "HBoxModel",
            "_view_module": "@jupyter-widgets/controls",
            "_model_module_version": "1.5.0",
            "_view_count": null,
            "_view_module_version": "1.5.0",
            "box_style": "",
            "layout": "IPY_MODEL_6e526377e6cb4be998c172800157d7e2",
            "_model_module": "@jupyter-widgets/controls",
            "children": [
              "IPY_MODEL_7ef3a6965dda4c1c933982f6b50ce46b",
              "IPY_MODEL_f54e3c7fe59b47fba5680be3cf5fab3d"
            ]
          }
        },
        "275d4bea69334e51b4a761e4edeb3ffb": {
          "model_module": "@jupyter-widgets/controls",
          "model_name": "ButtonModel",
          "model_module_version": "1.5.0",
          "state": {
            "_view_name": "ButtonView",
            "style": "IPY_MODEL_3f93482a6777482394289729f4266341",
            "_dom_classes": [],
            "description": "Login",
            "_model_name": "ButtonModel",
            "button_style": "",
            "_view_module": "@jupyter-widgets/controls",
            "_model_module_version": "1.5.0",
            "tooltip": "",
            "_view_count": null,
            "disabled": false,
            "_view_module_version": "1.5.0",
            "layout": "IPY_MODEL_2749b03f970c47dab97a0973293625d2",
            "_model_module": "@jupyter-widgets/controls",
            "icon": ""
          }
        },
        "9eab1bb360ff42edacb4923473955977": {
          "model_module": "@jupyter-widgets/controls",
          "model_name": "DescriptionStyleModel",
          "model_module_version": "1.5.0",
          "state": {
            "_view_name": "StyleView",
            "_model_name": "DescriptionStyleModel",
            "description_width": "",
            "_view_module": "@jupyter-widgets/base",
            "_model_module_version": "1.5.0",
            "_view_count": null,
            "_view_module_version": "1.2.0",
            "_model_module": "@jupyter-widgets/controls"
          }
        },
        "50bd83195ef34fb8a7a03a50015b4061": {
          "model_module": "@jupyter-widgets/base",
          "model_name": "LayoutModel",
          "model_module_version": "1.2.0",
          "state": {
            "_view_name": "LayoutView",
            "grid_template_rows": null,
            "right": null,
            "justify_content": null,
            "_view_module": "@jupyter-widgets/base",
            "overflow": null,
            "_model_module_version": "1.2.0",
            "_view_count": null,
            "flex_flow": null,
            "width": null,
            "min_width": null,
            "border": null,
            "align_items": null,
            "bottom": null,
            "_model_module": "@jupyter-widgets/base",
            "top": null,
            "grid_column": null,
            "overflow_y": null,
            "overflow_x": null,
            "grid_auto_flow": null,
            "grid_area": null,
            "grid_template_columns": null,
            "flex": null,
            "_model_name": "LayoutModel",
            "justify_items": null,
            "grid_row": null,
            "max_height": null,
            "align_content": null,
            "visibility": null,
            "align_self": null,
            "height": null,
            "min_height": null,
            "padding": null,
            "grid_auto_rows": null,
            "grid_gap": null,
            "max_width": null,
            "order": null,
            "_view_module_version": "1.2.0",
            "grid_template_areas": null,
            "object_position": null,
            "object_fit": null,
            "grid_auto_columns": null,
            "margin": null,
            "display": null,
            "left": null
          }
        },
        "6e526377e6cb4be998c172800157d7e2": {
          "model_module": "@jupyter-widgets/base",
          "model_name": "LayoutModel",
          "model_module_version": "1.2.0",
          "state": {
            "_view_name": "LayoutView",
            "grid_template_rows": null,
            "right": null,
            "justify_content": null,
            "_view_module": "@jupyter-widgets/base",
            "overflow": null,
            "_model_module_version": "1.2.0",
            "_view_count": null,
            "flex_flow": null,
            "width": null,
            "min_width": null,
            "border": null,
            "align_items": null,
            "bottom": null,
            "_model_module": "@jupyter-widgets/base",
            "top": null,
            "grid_column": null,
            "overflow_y": null,
            "overflow_x": null,
            "grid_auto_flow": null,
            "grid_area": null,
            "grid_template_columns": null,
            "flex": null,
            "_model_name": "LayoutModel",
            "justify_items": null,
            "grid_row": null,
            "max_height": null,
            "align_content": null,
            "visibility": null,
            "align_self": null,
            "height": null,
            "min_height": null,
            "padding": null,
            "grid_auto_rows": null,
            "grid_gap": null,
            "max_width": null,
            "order": null,
            "_view_module_version": "1.2.0",
            "grid_template_areas": null,
            "object_position": null,
            "object_fit": null,
            "grid_auto_columns": null,
            "margin": null,
            "display": null,
            "left": null
          }
        },
        "7ef3a6965dda4c1c933982f6b50ce46b": {
          "model_module": "@jupyter-widgets/controls",
          "model_name": "TextModel",
          "model_module_version": "1.5.0",
          "state": {
            "_view_name": "TextView",
            "style": "IPY_MODEL_c7d026af6bc149659cd7fde66d9bbe4a",
            "_dom_classes": [],
            "description": "Username:",
            "_model_name": "TextModel",
            "placeholder": "​",
            "_view_module": "@jupyter-widgets/controls",
            "_model_module_version": "1.5.0",
            "value": "",
            "_view_count": null,
            "disabled": false,
            "_view_module_version": "1.5.0",
            "continuous_update": true,
            "description_tooltip": null,
            "_model_module": "@jupyter-widgets/controls",
            "layout": "IPY_MODEL_695d3e74b9534968beda51bb63b9ccbd"
          }
        },
        "f54e3c7fe59b47fba5680be3cf5fab3d": {
          "model_module": "@jupyter-widgets/controls",
          "model_name": "PasswordModel",
          "model_module_version": "1.5.0",
          "state": {
            "_view_name": "PasswordView",
            "style": "IPY_MODEL_b28d82ce862c40758428e024929ce87b",
            "_dom_classes": [],
            "description": "Password:",
            "_model_name": "PasswordModel",
            "placeholder": "​",
            "_view_module": "@jupyter-widgets/controls",
            "_model_module_version": "1.5.0",
            "value": "",
            "_view_count": null,
            "disabled": false,
            "_view_module_version": "1.5.0",
            "continuous_update": true,
            "description_tooltip": null,
            "_model_module": "@jupyter-widgets/controls",
            "layout": "IPY_MODEL_3eb55fa9f3cb453c86dba18f27d235ec"
          }
        },
        "3f93482a6777482394289729f4266341": {
          "model_module": "@jupyter-widgets/controls",
          "model_name": "ButtonStyleModel",
          "model_module_version": "1.5.0",
          "state": {
            "_view_name": "StyleView",
            "_model_name": "ButtonStyleModel",
            "_view_module": "@jupyter-widgets/base",
            "_model_module_version": "1.5.0",
            "_view_count": null,
            "button_color": null,
            "font_weight": "",
            "_view_module_version": "1.2.0",
            "_model_module": "@jupyter-widgets/controls"
          }
        },
        "2749b03f970c47dab97a0973293625d2": {
          "model_module": "@jupyter-widgets/base",
          "model_name": "LayoutModel",
          "model_module_version": "1.2.0",
          "state": {
            "_view_name": "LayoutView",
            "grid_template_rows": null,
            "right": null,
            "justify_content": null,
            "_view_module": "@jupyter-widgets/base",
            "overflow": null,
            "_model_module_version": "1.2.0",
            "_view_count": null,
            "flex_flow": null,
            "width": null,
            "min_width": null,
            "border": null,
            "align_items": null,
            "bottom": null,
            "_model_module": "@jupyter-widgets/base",
            "top": null,
            "grid_column": null,
            "overflow_y": null,
            "overflow_x": null,
            "grid_auto_flow": null,
            "grid_area": null,
            "grid_template_columns": null,
            "flex": null,
            "_model_name": "LayoutModel",
            "justify_items": null,
            "grid_row": null,
            "max_height": null,
            "align_content": null,
            "visibility": null,
            "align_self": null,
            "height": null,
            "min_height": null,
            "padding": null,
            "grid_auto_rows": null,
            "grid_gap": null,
            "max_width": null,
            "order": null,
            "_view_module_version": "1.2.0",
            "grid_template_areas": null,
            "object_position": null,
            "object_fit": null,
            "grid_auto_columns": null,
            "margin": null,
            "display": null,
            "left": null
          }
        },
        "c7d026af6bc149659cd7fde66d9bbe4a": {
          "model_module": "@jupyter-widgets/controls",
          "model_name": "DescriptionStyleModel",
          "model_module_version": "1.5.0",
          "state": {
            "_view_name": "StyleView",
            "_model_name": "DescriptionStyleModel",
            "description_width": "",
            "_view_module": "@jupyter-widgets/base",
            "_model_module_version": "1.5.0",
            "_view_count": null,
            "_view_module_version": "1.2.0",
            "_model_module": "@jupyter-widgets/controls"
          }
        },
        "695d3e74b9534968beda51bb63b9ccbd": {
          "model_module": "@jupyter-widgets/base",
          "model_name": "LayoutModel",
          "model_module_version": "1.2.0",
          "state": {
            "_view_name": "LayoutView",
            "grid_template_rows": null,
            "right": null,
            "justify_content": null,
            "_view_module": "@jupyter-widgets/base",
            "overflow": null,
            "_model_module_version": "1.2.0",
            "_view_count": null,
            "flex_flow": null,
            "width": null,
            "min_width": null,
            "border": null,
            "align_items": null,
            "bottom": null,
            "_model_module": "@jupyter-widgets/base",
            "top": null,
            "grid_column": null,
            "overflow_y": null,
            "overflow_x": null,
            "grid_auto_flow": null,
            "grid_area": null,
            "grid_template_columns": null,
            "flex": null,
            "_model_name": "LayoutModel",
            "justify_items": null,
            "grid_row": null,
            "max_height": null,
            "align_content": null,
            "visibility": null,
            "align_self": null,
            "height": null,
            "min_height": null,
            "padding": null,
            "grid_auto_rows": null,
            "grid_gap": null,
            "max_width": null,
            "order": null,
            "_view_module_version": "1.2.0",
            "grid_template_areas": null,
            "object_position": null,
            "object_fit": null,
            "grid_auto_columns": null,
            "margin": null,
            "display": null,
            "left": null
          }
        },
        "b28d82ce862c40758428e024929ce87b": {
          "model_module": "@jupyter-widgets/controls",
          "model_name": "DescriptionStyleModel",
          "model_module_version": "1.5.0",
          "state": {
            "_view_name": "StyleView",
            "_model_name": "DescriptionStyleModel",
            "description_width": "",
            "_view_module": "@jupyter-widgets/base",
            "_model_module_version": "1.5.0",
            "_view_count": null,
            "_view_module_version": "1.2.0",
            "_model_module": "@jupyter-widgets/controls"
          }
        },
        "3eb55fa9f3cb453c86dba18f27d235ec": {
          "model_module": "@jupyter-widgets/base",
          "model_name": "LayoutModel",
          "model_module_version": "1.2.0",
          "state": {
            "_view_name": "LayoutView",
            "grid_template_rows": null,
            "right": null,
            "justify_content": null,
            "_view_module": "@jupyter-widgets/base",
            "overflow": null,
            "_model_module_version": "1.2.0",
            "_view_count": null,
            "flex_flow": null,
            "width": null,
            "min_width": null,
            "border": null,
            "align_items": null,
            "bottom": null,
            "_model_module": "@jupyter-widgets/base",
            "top": null,
            "grid_column": null,
            "overflow_y": null,
            "overflow_x": null,
            "grid_auto_flow": null,
            "grid_area": null,
            "grid_template_columns": null,
            "flex": null,
            "_model_name": "LayoutModel",
            "justify_items": null,
            "grid_row": null,
            "max_height": null,
            "align_content": null,
            "visibility": null,
            "align_self": null,
            "height": null,
            "min_height": null,
            "padding": null,
            "grid_auto_rows": null,
            "grid_gap": null,
            "max_width": null,
            "order": null,
            "_view_module_version": "1.2.0",
            "grid_template_areas": null,
            "object_position": null,
            "object_fit": null,
            "grid_auto_columns": null,
            "margin": null,
            "display": null,
            "left": null
          }
        },
        "75d83fba0eda4f3590de5048a8875bae": {
          "model_module": "@jupyter-widgets/controls",
          "model_name": "HBoxModel",
          "model_module_version": "1.5.0",
          "state": {
            "_view_name": "HBoxView",
            "_dom_classes": [],
            "_model_name": "HBoxModel",
            "_view_module": "@jupyter-widgets/controls",
            "_model_module_version": "1.5.0",
            "_view_count": null,
            "_view_module_version": "1.5.0",
            "box_style": "",
            "layout": "IPY_MODEL_0a08be8ab13c405db7fdfffc43fb6403",
            "_model_module": "@jupyter-widgets/controls",
            "children": [
              "IPY_MODEL_2bdcb45dcb054269bfc8dc0f4a9ec111",
              "IPY_MODEL_a8afceeaafcf4c4d93a420229c3d06c9",
              "IPY_MODEL_e07b23798bab4c9ebbcf690fe542de08"
            ]
          }
        },
        "0a08be8ab13c405db7fdfffc43fb6403": {
          "model_module": "@jupyter-widgets/base",
          "model_name": "LayoutModel",
          "model_module_version": "1.2.0",
          "state": {
            "_view_name": "LayoutView",
            "grid_template_rows": null,
            "right": null,
            "justify_content": null,
            "_view_module": "@jupyter-widgets/base",
            "overflow": null,
            "_model_module_version": "1.2.0",
            "_view_count": null,
            "flex_flow": null,
            "width": null,
            "min_width": null,
            "border": null,
            "align_items": null,
            "bottom": null,
            "_model_module": "@jupyter-widgets/base",
            "top": null,
            "grid_column": null,
            "overflow_y": null,
            "overflow_x": null,
            "grid_auto_flow": null,
            "grid_area": null,
            "grid_template_columns": null,
            "flex": null,
            "_model_name": "LayoutModel",
            "justify_items": null,
            "grid_row": null,
            "max_height": null,
            "align_content": null,
            "visibility": null,
            "align_self": null,
            "height": null,
            "min_height": null,
            "padding": null,
            "grid_auto_rows": null,
            "grid_gap": null,
            "max_width": null,
            "order": null,
            "_view_module_version": "1.2.0",
            "grid_template_areas": null,
            "object_position": null,
            "object_fit": null,
            "grid_auto_columns": null,
            "margin": null,
            "display": null,
            "left": null
          }
        },
        "2bdcb45dcb054269bfc8dc0f4a9ec111": {
          "model_module": "@jupyter-widgets/controls",
          "model_name": "HTMLModel",
          "model_module_version": "1.5.0",
          "state": {
            "_view_name": "HTMLView",
            "style": "IPY_MODEL_b16b86db7a3d44769c4b98daf84d25ad",
            "_dom_classes": [],
            "description": "",
            "_model_name": "HTMLModel",
            "placeholder": "​",
            "_view_module": "@jupyter-widgets/controls",
            "_model_module_version": "1.5.0",
            "value": "100%",
            "_view_count": null,
            "_view_module_version": "1.5.0",
            "description_tooltip": null,
            "_model_module": "@jupyter-widgets/controls",
            "layout": "IPY_MODEL_d306d84f8bef406bbf0ed0bc46195d04"
          }
        },
        "a8afceeaafcf4c4d93a420229c3d06c9": {
          "model_module": "@jupyter-widgets/controls",
          "model_name": "FloatProgressModel",
          "model_module_version": "1.5.0",
          "state": {
            "_view_name": "ProgressView",
            "style": "IPY_MODEL_6c4802e0b0504bed97f45c6de1366939",
            "_dom_classes": [],
            "description": "",
            "_model_name": "FloatProgressModel",
            "bar_style": "success",
            "max": 3,
            "_view_module": "@jupyter-widgets/controls",
            "_model_module_version": "1.5.0",
            "value": 3,
            "_view_count": null,
            "_view_module_version": "1.5.0",
            "orientation": "horizontal",
            "min": 0,
            "description_tooltip": null,
            "_model_module": "@jupyter-widgets/controls",
            "layout": "IPY_MODEL_bcc57490406c43e48a8d63f46db07bc5"
          }
        },
        "e07b23798bab4c9ebbcf690fe542de08": {
          "model_module": "@jupyter-widgets/controls",
          "model_name": "HTMLModel",
          "model_module_version": "1.5.0",
          "state": {
            "_view_name": "HTMLView",
            "style": "IPY_MODEL_a1fc8081ff83423ab525c9fe9636fe1c",
            "_dom_classes": [],
            "description": "",
            "_model_name": "HTMLModel",
            "placeholder": "​",
            "_view_module": "@jupyter-widgets/controls",
            "_model_module_version": "1.5.0",
            "value": " 3/3 [00:00&lt;00:00, 31.61it/s]",
            "_view_count": null,
            "_view_module_version": "1.5.0",
            "description_tooltip": null,
            "_model_module": "@jupyter-widgets/controls",
            "layout": "IPY_MODEL_79af2f14f1a245128441dc0258a84bb6"
          }
        },
        "b16b86db7a3d44769c4b98daf84d25ad": {
          "model_module": "@jupyter-widgets/controls",
          "model_name": "DescriptionStyleModel",
          "model_module_version": "1.5.0",
          "state": {
            "_view_name": "StyleView",
            "_model_name": "DescriptionStyleModel",
            "description_width": "",
            "_view_module": "@jupyter-widgets/base",
            "_model_module_version": "1.5.0",
            "_view_count": null,
            "_view_module_version": "1.2.0",
            "_model_module": "@jupyter-widgets/controls"
          }
        },
        "d306d84f8bef406bbf0ed0bc46195d04": {
          "model_module": "@jupyter-widgets/base",
          "model_name": "LayoutModel",
          "model_module_version": "1.2.0",
          "state": {
            "_view_name": "LayoutView",
            "grid_template_rows": null,
            "right": null,
            "justify_content": null,
            "_view_module": "@jupyter-widgets/base",
            "overflow": null,
            "_model_module_version": "1.2.0",
            "_view_count": null,
            "flex_flow": null,
            "width": null,
            "min_width": null,
            "border": null,
            "align_items": null,
            "bottom": null,
            "_model_module": "@jupyter-widgets/base",
            "top": null,
            "grid_column": null,
            "overflow_y": null,
            "overflow_x": null,
            "grid_auto_flow": null,
            "grid_area": null,
            "grid_template_columns": null,
            "flex": null,
            "_model_name": "LayoutModel",
            "justify_items": null,
            "grid_row": null,
            "max_height": null,
            "align_content": null,
            "visibility": null,
            "align_self": null,
            "height": null,
            "min_height": null,
            "padding": null,
            "grid_auto_rows": null,
            "grid_gap": null,
            "max_width": null,
            "order": null,
            "_view_module_version": "1.2.0",
            "grid_template_areas": null,
            "object_position": null,
            "object_fit": null,
            "grid_auto_columns": null,
            "margin": null,
            "display": null,
            "left": null
          }
        },
        "6c4802e0b0504bed97f45c6de1366939": {
          "model_module": "@jupyter-widgets/controls",
          "model_name": "ProgressStyleModel",
          "model_module_version": "1.5.0",
          "state": {
            "_view_name": "StyleView",
            "_model_name": "ProgressStyleModel",
            "description_width": "",
            "_view_module": "@jupyter-widgets/base",
            "_model_module_version": "1.5.0",
            "_view_count": null,
            "_view_module_version": "1.2.0",
            "bar_color": null,
            "_model_module": "@jupyter-widgets/controls"
          }
        },
        "bcc57490406c43e48a8d63f46db07bc5": {
          "model_module": "@jupyter-widgets/base",
          "model_name": "LayoutModel",
          "model_module_version": "1.2.0",
          "state": {
            "_view_name": "LayoutView",
            "grid_template_rows": null,
            "right": null,
            "justify_content": null,
            "_view_module": "@jupyter-widgets/base",
            "overflow": null,
            "_model_module_version": "1.2.0",
            "_view_count": null,
            "flex_flow": null,
            "width": null,
            "min_width": null,
            "border": null,
            "align_items": null,
            "bottom": null,
            "_model_module": "@jupyter-widgets/base",
            "top": null,
            "grid_column": null,
            "overflow_y": null,
            "overflow_x": null,
            "grid_auto_flow": null,
            "grid_area": null,
            "grid_template_columns": null,
            "flex": null,
            "_model_name": "LayoutModel",
            "justify_items": null,
            "grid_row": null,
            "max_height": null,
            "align_content": null,
            "visibility": null,
            "align_self": null,
            "height": null,
            "min_height": null,
            "padding": null,
            "grid_auto_rows": null,
            "grid_gap": null,
            "max_width": null,
            "order": null,
            "_view_module_version": "1.2.0",
            "grid_template_areas": null,
            "object_position": null,
            "object_fit": null,
            "grid_auto_columns": null,
            "margin": null,
            "display": null,
            "left": null
          }
        },
        "a1fc8081ff83423ab525c9fe9636fe1c": {
          "model_module": "@jupyter-widgets/controls",
          "model_name": "DescriptionStyleModel",
          "model_module_version": "1.5.0",
          "state": {
            "_view_name": "StyleView",
            "_model_name": "DescriptionStyleModel",
            "description_width": "",
            "_view_module": "@jupyter-widgets/base",
            "_model_module_version": "1.5.0",
            "_view_count": null,
            "_view_module_version": "1.2.0",
            "_model_module": "@jupyter-widgets/controls"
          }
        },
        "79af2f14f1a245128441dc0258a84bb6": {
          "model_module": "@jupyter-widgets/base",
          "model_name": "LayoutModel",
          "model_module_version": "1.2.0",
          "state": {
            "_view_name": "LayoutView",
            "grid_template_rows": null,
            "right": null,
            "justify_content": null,
            "_view_module": "@jupyter-widgets/base",
            "overflow": null,
            "_model_module_version": "1.2.0",
            "_view_count": null,
            "flex_flow": null,
            "width": null,
            "min_width": null,
            "border": null,
            "align_items": null,
            "bottom": null,
            "_model_module": "@jupyter-widgets/base",
            "top": null,
            "grid_column": null,
            "overflow_y": null,
            "overflow_x": null,
            "grid_auto_flow": null,
            "grid_area": null,
            "grid_template_columns": null,
            "flex": null,
            "_model_name": "LayoutModel",
            "justify_items": null,
            "grid_row": null,
            "max_height": null,
            "align_content": null,
            "visibility": null,
            "align_self": null,
            "height": null,
            "min_height": null,
            "padding": null,
            "grid_auto_rows": null,
            "grid_gap": null,
            "max_width": null,
            "order": null,
            "_view_module_version": "1.2.0",
            "grid_template_areas": null,
            "object_position": null,
            "object_fit": null,
            "grid_auto_columns": null,
            "margin": null,
            "display": null,
            "left": null
          }
        }
      }
    }
  },
  "cells": [
    {
      "cell_type": "markdown",
      "metadata": {
        "id": "view-in-github",
        "colab_type": "text"
      },
      "source": [
        "<a href=\"https://colab.research.google.com/github/jchen23-stf/Pod/blob/main/Podcast_Sum.ipynb\" target=\"_parent\"><img src=\"https://colab.research.google.com/assets/colab-badge.svg\" alt=\"Open In Colab\"/></a>"
      ]
    },
    {
      "cell_type": "markdown",
      "metadata": {
        "id": "X4cRE8IbIrIV"
      },
      "source": [
        "If you're opening this Notebook on colab, you will probably need to install 🤗 Transformers and 🤗 Datasets as well as other dependencies. Uncomment the following cell and run it."
      ]
    },
    {
      "cell_type": "code",
      "metadata": {
        "id": "MOsHUjgdIrIW",
        "colab": {
          "base_uri": "https://localhost:8080/"
        },
        "outputId": "8a88b2ab-00bd-4cd3-b997-0a89900728bb"
      },
      "source": [
        "! pip install datasets transformers rouge-score nltk"
      ],
      "execution_count": 1,
      "outputs": [
        {
          "output_type": "stream",
          "name": "stdout",
          "text": [
            "Requirement already satisfied: datasets in /usr/local/lib/python3.7/dist-packages (1.16.1)\n",
            "Requirement already satisfied: transformers in /usr/local/lib/python3.7/dist-packages (4.12.5)\n",
            "Requirement already satisfied: rouge-score in /usr/local/lib/python3.7/dist-packages (0.0.4)\n",
            "Requirement already satisfied: nltk in /usr/local/lib/python3.7/dist-packages (3.2.5)\n",
            "Requirement already satisfied: requests>=2.19.0 in /usr/local/lib/python3.7/dist-packages (from datasets) (2.23.0)\n",
            "Requirement already satisfied: tqdm>=4.62.1 in /usr/local/lib/python3.7/dist-packages (from datasets) (4.62.3)\n",
            "Requirement already satisfied: fsspec[http]>=2021.05.0 in /usr/local/lib/python3.7/dist-packages (from datasets) (2021.11.1)\n",
            "Requirement already satisfied: xxhash in /usr/local/lib/python3.7/dist-packages (from datasets) (2.0.2)\n",
            "Requirement already satisfied: pandas in /usr/local/lib/python3.7/dist-packages (from datasets) (1.1.5)\n",
            "Requirement already satisfied: aiohttp in /usr/local/lib/python3.7/dist-packages (from datasets) (3.8.1)\n",
            "Requirement already satisfied: dill in /usr/local/lib/python3.7/dist-packages (from datasets) (0.3.4)\n",
            "Requirement already satisfied: huggingface-hub<1.0.0,>=0.1.0 in /usr/local/lib/python3.7/dist-packages (from datasets) (0.1.2)\n",
            "Requirement already satisfied: packaging in /usr/local/lib/python3.7/dist-packages (from datasets) (21.3)\n",
            "Requirement already satisfied: pyarrow!=4.0.0,>=3.0.0 in /usr/local/lib/python3.7/dist-packages (from datasets) (3.0.0)\n",
            "Requirement already satisfied: importlib-metadata in /usr/local/lib/python3.7/dist-packages (from datasets) (4.8.2)\n",
            "Requirement already satisfied: numpy>=1.17 in /usr/local/lib/python3.7/dist-packages (from datasets) (1.19.5)\n",
            "Requirement already satisfied: multiprocess in /usr/local/lib/python3.7/dist-packages (from datasets) (0.70.12.2)\n",
            "Requirement already satisfied: filelock in /usr/local/lib/python3.7/dist-packages (from huggingface-hub<1.0.0,>=0.1.0->datasets) (3.4.0)\n",
            "Requirement already satisfied: pyyaml in /usr/local/lib/python3.7/dist-packages (from huggingface-hub<1.0.0,>=0.1.0->datasets) (6.0)\n",
            "Requirement already satisfied: typing-extensions>=3.7.4.3 in /usr/local/lib/python3.7/dist-packages (from huggingface-hub<1.0.0,>=0.1.0->datasets) (3.10.0.2)\n",
            "Requirement already satisfied: pyparsing!=3.0.5,>=2.0.2 in /usr/local/lib/python3.7/dist-packages (from packaging->datasets) (3.0.6)\n",
            "Requirement already satisfied: certifi>=2017.4.17 in /usr/local/lib/python3.7/dist-packages (from requests>=2.19.0->datasets) (2021.10.8)\n",
            "Requirement already satisfied: chardet<4,>=3.0.2 in /usr/local/lib/python3.7/dist-packages (from requests>=2.19.0->datasets) (3.0.4)\n",
            "Requirement already satisfied: idna<3,>=2.5 in /usr/local/lib/python3.7/dist-packages (from requests>=2.19.0->datasets) (2.10)\n",
            "Requirement already satisfied: urllib3!=1.25.0,!=1.25.1,<1.26,>=1.21.1 in /usr/local/lib/python3.7/dist-packages (from requests>=2.19.0->datasets) (1.24.3)\n",
            "Requirement already satisfied: tokenizers<0.11,>=0.10.1 in /usr/local/lib/python3.7/dist-packages (from transformers) (0.10.3)\n",
            "Requirement already satisfied: regex!=2019.12.17 in /usr/local/lib/python3.7/dist-packages (from transformers) (2019.12.20)\n",
            "Requirement already satisfied: sacremoses in /usr/local/lib/python3.7/dist-packages (from transformers) (0.0.46)\n",
            "Requirement already satisfied: absl-py in /usr/local/lib/python3.7/dist-packages (from rouge-score) (0.12.0)\n",
            "Requirement already satisfied: six>=1.14.0 in /usr/local/lib/python3.7/dist-packages (from rouge-score) (1.15.0)\n",
            "Requirement already satisfied: async-timeout<5.0,>=4.0.0a3 in /usr/local/lib/python3.7/dist-packages (from aiohttp->datasets) (4.0.1)\n",
            "Requirement already satisfied: aiosignal>=1.1.2 in /usr/local/lib/python3.7/dist-packages (from aiohttp->datasets) (1.2.0)\n",
            "Requirement already satisfied: yarl<2.0,>=1.0 in /usr/local/lib/python3.7/dist-packages (from aiohttp->datasets) (1.7.2)\n",
            "Requirement already satisfied: frozenlist>=1.1.1 in /usr/local/lib/python3.7/dist-packages (from aiohttp->datasets) (1.2.0)\n",
            "Requirement already satisfied: charset-normalizer<3.0,>=2.0 in /usr/local/lib/python3.7/dist-packages (from aiohttp->datasets) (2.0.7)\n",
            "Requirement already satisfied: multidict<7.0,>=4.5 in /usr/local/lib/python3.7/dist-packages (from aiohttp->datasets) (5.2.0)\n",
            "Requirement already satisfied: attrs>=17.3.0 in /usr/local/lib/python3.7/dist-packages (from aiohttp->datasets) (21.2.0)\n",
            "Requirement already satisfied: asynctest==0.13.0 in /usr/local/lib/python3.7/dist-packages (from aiohttp->datasets) (0.13.0)\n",
            "Requirement already satisfied: zipp>=0.5 in /usr/local/lib/python3.7/dist-packages (from importlib-metadata->datasets) (3.6.0)\n",
            "Requirement already satisfied: pytz>=2017.2 in /usr/local/lib/python3.7/dist-packages (from pandas->datasets) (2018.9)\n",
            "Requirement already satisfied: python-dateutil>=2.7.3 in /usr/local/lib/python3.7/dist-packages (from pandas->datasets) (2.8.2)\n",
            "Requirement already satisfied: click in /usr/local/lib/python3.7/dist-packages (from sacremoses->transformers) (7.1.2)\n",
            "Requirement already satisfied: joblib in /usr/local/lib/python3.7/dist-packages (from sacremoses->transformers) (1.1.0)\n"
          ]
        }
      ]
    },
    {
      "cell_type": "markdown",
      "metadata": {
        "id": "F-gvQyWoUfck"
      },
      "source": [
        "If you're opening this notebook locally, make sure your environment has an install from the last version of those libraries.\n",
        "\n",
        "To be able to share your model with the community and generate results like the one shown in the picture below via the inference API, there are a few more steps to follow.\n",
        "\n",
        "First you have to store your authentication token from the Hugging Face website (sign up [here](https://huggingface.co/join) if you haven't already!) then execute the following cell and input your username and password:"
      ]
    },
    {
      "cell_type": "code",
      "metadata": {
        "id": "h9V8LHp0Ufck",
        "colab": {
          "base_uri": "https://localhost:8080/",
          "height": 282,
          "referenced_widgets": [
            "951e13f1652f44fb900158b9ccaf5b31",
            "7d569e7c4370406996c01b12ada78585",
            "0e9efc7435da49b2a36cb2ad7e20df5b",
            "e2618ed9e1fb4c7497d3baa2d3917314",
            "275d4bea69334e51b4a761e4edeb3ffb",
            "9eab1bb360ff42edacb4923473955977",
            "50bd83195ef34fb8a7a03a50015b4061",
            "6e526377e6cb4be998c172800157d7e2",
            "7ef3a6965dda4c1c933982f6b50ce46b",
            "f54e3c7fe59b47fba5680be3cf5fab3d",
            "3f93482a6777482394289729f4266341",
            "2749b03f970c47dab97a0973293625d2",
            "c7d026af6bc149659cd7fde66d9bbe4a",
            "695d3e74b9534968beda51bb63b9ccbd",
            "b28d82ce862c40758428e024929ce87b",
            "3eb55fa9f3cb453c86dba18f27d235ec"
          ]
        },
        "outputId": "6191925a-367e-41b5-ef62-8b590f5882ba"
      },
      "source": [
        "from huggingface_hub import notebook_login\n",
        "\n",
        "notebook_login()"
      ],
      "execution_count": 2,
      "outputs": [
        {
          "output_type": "display_data",
          "data": {
            "application/vnd.jupyter.widget-view+json": {
              "model_id": "951e13f1652f44fb900158b9ccaf5b31",
              "version_minor": 0,
              "version_major": 2
            },
            "text/plain": [
              "VBox(children=(HTML(value=\"<center>\\n<img src=https://huggingface.co/front/assets/huggingface_logo-noborder.sv…"
            ]
          },
          "metadata": {}
        }
      ]
    },
    {
      "cell_type": "markdown",
      "metadata": {
        "id": "6ufaCWItUfcl"
      },
      "source": [
        "Then you need to install Git-LFS. Uncomment the following instructions:"
      ]
    },
    {
      "cell_type": "code",
      "metadata": {
        "id": "NqJt2BEGUfcl"
      },
      "source": [
        "# !apt install git-lfs"
      ],
      "execution_count": 3,
      "outputs": []
    },
    {
      "cell_type": "markdown",
      "metadata": {
        "id": "9RAwezNaUfcl"
      },
      "source": [
        "Make sure your version of Transformers is at least 4.11.0 since the functionality was introduced in that version:"
      ]
    },
    {
      "cell_type": "code",
      "metadata": {
        "id": "rYf5nEbwUfcm",
        "colab": {
          "base_uri": "https://localhost:8080/"
        },
        "outputId": "ba349069-78a2-40fd-9b44-e4e2cb474b47"
      },
      "source": [
        "import transformers\n",
        "\n",
        "print(transformers.__version__)"
      ],
      "execution_count": 4,
      "outputs": [
        {
          "output_type": "stream",
          "name": "stdout",
          "text": [
            "4.12.5\n"
          ]
        }
      ]
    },
    {
      "cell_type": "markdown",
      "metadata": {
        "id": "HFASsisvIrIb"
      },
      "source": [
        "You can find a script version of this notebook to fine-tune your model in a distributed fashion using multiple GPUs or TPUs [here](https://github.com/huggingface/transformers/tree/master/examples/seq2seq)."
      ]
    },
    {
      "cell_type": "markdown",
      "metadata": {
        "id": "rEJBSTyZIrIb"
      },
      "source": [
        "# Fine-tuning a model on a summarization task"
      ]
    },
    {
      "cell_type": "markdown",
      "metadata": {
        "id": "kTCFado4IrIc"
      },
      "source": [
        "In this notebook, we will see how to fine-tune one of the [🤗 Transformers](https://github.com/huggingface/transformers) model for a summarization task. We will use the [XSum dataset](https://arxiv.org/pdf/1808.08745.pdf) (for extreme summarization) which contains BBC articles accompanied with single-sentence summaries.\n",
        "\n",
        "![Widget inference on a summarization task](https://github.com/huggingface/notebooks/blob/master/examples/images/summarization.png?raw=1)\n",
        "\n",
        "We will see how to easily load the dataset for this task using 🤗 Datasets and how to fine-tune a model on it using the `Trainer` API."
      ]
    },
    {
      "cell_type": "code",
      "metadata": {
        "id": "BaCtuzX9Ufco"
      },
      "source": [
        "model_checkpoint = \"t5-small\""
      ],
      "execution_count": 5,
      "outputs": []
    },
    {
      "cell_type": "markdown",
      "metadata": {
        "id": "4RRkXuteIrIh"
      },
      "source": [
        "This notebook is built to run  with any model checkpoint from the [Model Hub](https://huggingface.co/models) as long as that model has a sequence-to-sequence version in the Transformers library. Here we picked the [`t5-small`](https://huggingface.co/t5-small) checkpoint. "
      ]
    },
    {
      "cell_type": "markdown",
      "metadata": {
        "id": "whPRbBNbIrIl"
      },
      "source": [
        "## Loading the dataset"
      ]
    },
    {
      "cell_type": "markdown",
      "metadata": {
        "id": "W7QYTpxXIrIl"
      },
      "source": [
        "We will use the [🤗 Datasets](https://github.com/huggingface/datasets) library to download the data and get the metric we need to use for evaluation (to compare our model to the benchmark). This can be easily done with the functions `load_dataset` and `load_metric`.  "
      ]
    },
    {
      "cell_type": "code",
      "metadata": {
        "id": "IreSlFmlIrIm",
        "colab": {
          "base_uri": "https://localhost:8080/",
          "height": 347,
          "referenced_widgets": [
            "75d83fba0eda4f3590de5048a8875bae",
            "0a08be8ab13c405db7fdfffc43fb6403",
            "2bdcb45dcb054269bfc8dc0f4a9ec111",
            "a8afceeaafcf4c4d93a420229c3d06c9",
            "e07b23798bab4c9ebbcf690fe542de08",
            "b16b86db7a3d44769c4b98daf84d25ad",
            "d306d84f8bef406bbf0ed0bc46195d04",
            "6c4802e0b0504bed97f45c6de1366939",
            "bcc57490406c43e48a8d63f46db07bc5",
            "a1fc8081ff83423ab525c9fe9636fe1c",
            "79af2f14f1a245128441dc0258a84bb6"
          ]
        },
        "outputId": "131a8c80-4ff6-448f-c4e8-0f44e977c649"
      },
      "source": [
        "from datasets import load_dataset, load_metric\n",
        "\n",
        "#train_dataset = load_dataset('json', data_files = 'spotify-data.json')\n",
        "#test_dataset = load_dataset('json', data_files = 'spotify-data.json')\n",
        "#validation_dataset = load_dataset('json', data_files = 'spotify-data.json')\n",
        "#raw_datasets = datasets.DatasetDict({\"train\": train_dataset, \"validation\": validation_dataset, \"test\": test_dataset})\n",
        "raw_datasets = load_dataset('json', data_files={'train': 'spotify-data-1100-train.json',\n",
        "                                                'validation': 'spotify-data-1100-validation.json',\n",
        "                                                'test': 'spotify-data-1100-test.json'})\n",
        "metric = load_metric(\"rouge\")\n",
        "raw_datasets"
      ],
      "execution_count": 6,
      "outputs": [
        {
          "output_type": "stream",
          "name": "stderr",
          "text": [
            "Using custom data configuration default-87b4d7ad970ac453\n",
            "Reusing dataset json (/root/.cache/huggingface/datasets/json/default-87b4d7ad970ac453/0.0.0/c2d554c3377ea79c7664b93dc65d0803b45e3279000f993c7bfd18937fd7f426)\n"
          ]
        },
        {
          "output_type": "display_data",
          "data": {
            "application/vnd.jupyter.widget-view+json": {
              "model_id": "75d83fba0eda4f3590de5048a8875bae",
              "version_minor": 0,
              "version_major": 2
            },
            "text/plain": [
              "  0%|          | 0/3 [00:00<?, ?it/s]"
            ]
          },
          "metadata": {}
        },
        {
          "output_type": "execute_result",
          "data": {
            "text/plain": [
              "DatasetDict({\n",
              "    train: Dataset({\n",
              "        features: ['document', 'summary', 'id'],\n",
              "        num_rows: 1000\n",
              "    })\n",
              "    validation: Dataset({\n",
              "        features: ['document', 'summary', 'id'],\n",
              "        num_rows: 50\n",
              "    })\n",
              "    test: Dataset({\n",
              "        features: ['document', 'summary', 'id'],\n",
              "        num_rows: 50\n",
              "    })\n",
              "})"
            ]
          },
          "metadata": {},
          "execution_count": 6
        }
      ]
    },
    {
      "cell_type": "markdown",
      "metadata": {
        "id": "RzfPtOMoIrIu"
      },
      "source": [
        "The `dataset` object itself is [`DatasetDict`](https://huggingface.co/docs/datasets/package_reference/main_classes.html#datasetdict), which contains one key for the training, validation and test set:"
      ]
    },
    {
      "cell_type": "code",
      "metadata": {
        "id": "GWiVUF0jIrIv",
        "colab": {
          "base_uri": "https://localhost:8080/"
        },
        "outputId": "f83aa8bf-9281-46c7-85c2-ca9c2e52e606"
      },
      "source": [
        "raw_datasets"
      ],
      "execution_count": 7,
      "outputs": [
        {
          "output_type": "execute_result",
          "data": {
            "text/plain": [
              "DatasetDict({\n",
              "    train: Dataset({\n",
              "        features: ['document', 'summary', 'id'],\n",
              "        num_rows: 1000\n",
              "    })\n",
              "    validation: Dataset({\n",
              "        features: ['document', 'summary', 'id'],\n",
              "        num_rows: 50\n",
              "    })\n",
              "    test: Dataset({\n",
              "        features: ['document', 'summary', 'id'],\n",
              "        num_rows: 50\n",
              "    })\n",
              "})"
            ]
          },
          "metadata": {},
          "execution_count": 7
        }
      ]
    },
    {
      "cell_type": "markdown",
      "metadata": {
        "id": "u3EtYfeHIrIz"
      },
      "source": [
        "To access an actual element, you need to select a split first, then give an index:"
      ]
    },
    {
      "cell_type": "code",
      "metadata": {
        "id": "X6HrpprwIrIz",
        "colab": {
          "base_uri": "https://localhost:8080/"
        },
        "outputId": "1549d207-6160-4f73-e371-eff63d667565"
      },
      "source": [
        "raw_datasets[\"train\"][0]"
      ],
      "execution_count": 8,
      "outputs": [
        {
          "output_type": "execute_result",
          "data": {
            "text/plain": [
              "{'document': \"Dad, I have a question. How does Google work great question the hey everybody. I'm Spencer and I'm Luke and on today's episode of dad. I have a question. My question is how does Google work? So why don't we split this one up into two topics the cookie will start with head of the Google search results work. So why do you see what you see when you use Google and a second topic maybe in a second episode. We'll see how much time we have is how does Google make money? Okay. So I've enlisted you could like boostPart of it and then you can listen to the right firm if you want. Okay. So first question is how did the Google search results work? So Google is called a search engine and long before you were Paris right now so far. I would call a web browser. There's a whole other. Okay, actually that's a good topic for a future discussion as what is a web browser. And how do they work? But let's put that aside. So let's just focus on search engines put it on the list unless before you were born when the internet was little this is the mid 90s. There were a bunch of other search engines before there was Google believe it or not and and the goal seems so like I call it at this point. Yeah. I've no idea. How can you search engines? Can you believe in there was a time before it when there was the internet but it was before Google so parents or adults listen to this will will recall some early search engines that you've never heard of Luke like Alta Vista and excite what and like us are these and and Yahoo! You probably heard of y'all, right? Yeah. Okay. So those were all search engines before before Google got started and those early search engines. They tried to organize information on the Internet by having a home page just like the Google homepage. But but the internet was so small back. Then there were so few web pages that they would actually hand classify website. So if you went to excite or Alta Vista, for example, you would go to like you click on a button that says Sports and there would be like the 30 Sports websites and you click On a button that would say like entertainment to be like 2821 sets search sports. No, you didn't you just like you collect and you and you went to these different categories. So that was how early search worked. But why do you think that isn't the way it works anymore? What went? Well what happens so much easier for me because like I can say like basketball game results of last night instead of like sports and just like hope that it's they're basically that's right search results are so much better. Was better, but what else changed about the internet from the early days in the early days there were ecology now the internet was smaller back then our small right there were just way way fewer websites and now there are like a nearly infinite number of websites so that that category hand categorizing things didn't work anymore. So Along Came Google in who still had no. No Yahoo! What I'm going to describe now is how modern search engines work and Google and Yahoo, and Bing are the three. Biggest there are a couple others also and actually Yahoo! Uses Bings technology now anyway, so it's basically Google is what we're going to talk about. So Google came along and the to cofounders of Google realize that hand categorizing websites was not going to work and so they came up with a new idea and their idea was to change the search results on the website first people to do this. Yes based on how many Different other websites linked to different web pages because they said okay if you have a website and you choose to link to another website that is a vote. That's you voting and saying I think this other website is pretty cool. So like you got your running website a and let's say it's a News website where you write an article and you're like and the articles about links in blue. Yes in the article is about, you know, great vacation destinations and your and the article is like Oh, baba, baba. This was a great vacation destination is Greece and you choose to make Greece be a link to Greece.com. Okay some website about Greece. Yeah. So that's you voting. That's you saying I think res.com is a great website. And so what Google does is it has a program called a spider and it goes out onto the internet and it clicks and click some pics and clicks and it goes to a web page and it goes and it looks for a link and it clicks not bad obviously, but like A virus comes sort of like a virus. Yeah, but it's well, so it's like a like a like a like a good virus like a benevolent virus. So it goes to a website. Let's say it starts it newyorktimes.com. Okay, it goes to your times.com and it scans the page and it clicks and it goes from here to a second page and maybe that's an internal link. It goes to another page on New York times.com and then it clicks from there to Greece.com that clicks from there to ESPN and then it clicks from there. She's really fast. It goes super super super fast and it's constantly. In fact, I looked up I looked at how fast it's doing. So about Google The Google index search is about a hundred and thirty trillion pages on the web. That's a lot of a hundred billion times a month. It's cats a lot what the index is doing with the Google index is doing is it's constantly constantly spy during the web and looking at links and click click click. Click. Click. Click click. And what it's doing is each of those links is basically a vote and a vote from a good website a popular website is worth more. So let's say the New York Times website links to Greece.com if you searched Gris Gris Gris.com with come on. Yes, exactly. It's more likely but but yeah when New York Times cop or would Grease.com come on. It depends how many other websites link to New York Times. So if a lot of other websites link to that That Noble article about this is our our website a it's like the website. That's the way to think about it is there is no website a because the spider is constantly never stops. It's constantly crawling its way around the web and so so it looks so it gives different weight to the votes based on the prominence of the different website. So let's say there's a website that has a ton of links that go to it and then that website popular. Yeah and that way site links to some other website well in that case that that next website it matters a lot because I got to Amazon if Amazon if Amazon His company said oh, yeah, if you don't let you know if like it's if it says when you're searching like erasers go go buy them from this eraser store that would matter a lot. Yes exactly. Google would say whoa, if Amazon likes that eraser store's website, that's pretty important. Now the other things that that the the Google index cares about is in addition to the prominence of the website of the inbound link you're talking about how you talk. Not how much how many websites the spider the spider thing does per month, but I see this bite you it's my not the only commuters I know where I've seen this but like when you search something it's like it says like five five million results or something like 1.2 seconds. Yeah, that's Google basically bragging to tell you how quick Google is and Google is telling you how big their index was for that search term and if you take a look at those numbers there poop. Really fast well here so here that's an interesting interesting you brought that up. One of the interesting things about search engines is you should understand that. They're not really searching the web when you enter that search. Let's say you go to Google and you type you know, who won the basketball game yesterday. Yeah. It's not actually at that moment click searching 5 billion websites. Yeah, what it's doing is it's searching its index. So that index for the spider is constantly crawling and it's basically storing a day in a database. Google's database all that information. So when you enter a query on Google it squaring itself. It's not really querying the internet if it actually called the internet it would take too long. So it's cached that is ca ca g is the word that that you already founded. Yeah. Yeah, like it already kind of knows the answer. So it's just checking. It's just asking itself. Basically it's not asking the web anyway, so what I'm saying is that they're already spidered it exactly exactly so there's a couple things that really matter for. To determine who which websites Google you know shows at the top of the list versus not one is the prominence of the websites that link to that website the second one Amazon versus some random website. Exactly. Exactly. Actually, you can look up the prominence of these websites. It's called page Rank and it's named after Larry Page. Larry Page is one of the cofounders of Google and and it's kind of a pun in a website's page rank. It refers to how important is the page and So let's because of Larry Page. So I think if I remember correctly page rank goes 1 to 9 and so like you know Zillow for example is I think an eight or a nine page rank, which means it's like really prominent. It means that Google thinks it's a really popular website. And so if Zillow links to you know, grease.com or whatever, you know, then that's going to be an important link so you can actually look up different websites page ranks. Okay. So one thing that Google really cares about is the prominence of the inbound links. The second thing Google really cares about is the number Of inbound links. So how many different websites link to your website? Right? Look if Amazon like degrees.com and Yahoo link to Greece dog rb2. There'll be two two really big websites. Right and those two big lengths would be worth way more than thousands and thousands of small website links. The next thing that matters is called the anchor text and the anchor text is the words that are actually clickable. So like let's say Google is trying to figure out what this web page is about and let's say the web page is about it's an article about About whatever about whether you know blue socks are better than Red Sox. So, okay. So Google could could the spider could actually read all the words on the page and try to figure out that's what the article is about. But what it really more importantly what it does is it looks at how let's say that the ten other web pages link to that page and let's say the anchor text of one of those articles that link to it was blue socks better than yeah blue Sox versus Red Sox or something like that and that's what the click. The clickable link is Google notices that that's the anchor text and that Google cares a lot about that. So now if you go to Google and you type blue socks first Red Sox the fact that that anchor text link to that blog post that you wrote really matter. So it's the number of links the prominence the websites the anchor text and then Google does actually also read the page itself. And this is why if you have your noticed on like TripAdvisor or Zillow in the upper left-hand corner, like on Zillow, for example, it'll say United States - - California - Los Angeles - - one two, three main street kind of like all in a row. Yep, and those are called breadcrumbs look it up in the computer. Yeah, or look at it on TripAdvisor go to a hotel page on trip advisor and will be like, you know United States, California Los Angeles, you know, LAX Marriott Hotel and basically those little breadcrumbs are kind of like Clues to show Google when the Google index when the spider comes that web page Google notices that and it teaches Google that that is a web page about that hotel or about that address. And and so that's another important clue that that the index reads. So I watch em, why why is it that like Google has like specific like specific answers like Nas because like, you know, if you search you search when will Avengers for come out? Okay great question. Great says it right there. But when you say like, but you know when you when you say certain things I know because this happens to me a lot. It's annoying when you sir when you search something that's like maybe a little longer maybe like the duck that doesn't have an exact answer. Yes, like it just it's a great question. So those are called one box because they're showing an answer in one box or sometimes they call them Rich Snippets. Yeah, and and what and Bing does it too and those are basically basically Google and Bing these efforts to provide an even better answer. So if you you know, for example, here's a good tip listeners. Here's a really good tip for me. If you want to know the flight time the flight status and let's say it's United Airlines flight 16 just go to Google and type of you a16 enter and it'll give you the status of that flight like right there in the one box. It's super cool. And and so the reason they do that is because they just think that's a better search results. So Google has basically gone category by category. It sounds easier for me and what there's a lot of manual work that goes there. So Google has gone category by category and and actually like classified different things. So like in the case of flight times, they specifically pull that information in from a database anyway, so so that actually is a really good point. Why do you think Google tries to do that? Why would they bother like I would say is so it is way easier for me and And I like using Google because they're yeah, you like it, right? So Google is what if I was using one of these other if I was using a different search result and they didn't give me an answer that there is like an answer to like what time is it? You know, like you mean it didn't give me the time I wouldn't use that so that's exactly right. So Google has about 70 percent query share in the US and Bing has about 10 to 20% which is why people use Google and yeah, and so being actually is trying hard. To use these one box results to try to gain share about against Google. This is one of the things big strategies but Google is fighting back by doing the same thing as you're pointing out. So those actually I'm glad you brought up the one-box rich Snippets. That's something that I think is an important part of this there a couple other things. I want to hit on before we run out of time this whole thing everything we're talking about is called SEO which stands for search engine optimization and believe it or not. There's a whole giant industry of experts and conferences and has eans and blogs and podcasts called SEO is going to become apparent in the next episode, which is how does Google make money because why do you think if a website shows up first for Google? What do you think happens to that website? What if a website shows up cert if you know at the top of a search result for Google on Google what happens to that website they get money it won't Ton of traffic right tons of people go to people going. Yeah. So this whole industry is exactly SEO industry is super important because it drives a lot of traffic. Let's see a couple couple other things. I want to hit on Crawl time. So when the when the spider comes to your website, let's say the spider the ghost spider comes to Zilla it pops around bounced around click click click click click click click, you know, and it is bouncing all around it's going from the map page to the list page the back and forth back forth. I don't know. Oh about you list years. I just love imagining this in my head spider crawling around the computer. It usually stays so it stays on a big website a popular website for like three four five six, maybe seven minutes. And so really I thought you said to move really fast it is using moving really fast. So like Zillow for example has hundreds of millions of pages. But at any point in time only tens of millions or maybe single-digit millions are in the index. And so it's very important for these websites to be fast for the spider. Because you only have like a couple minutes and you want the Google index to hit as many of your pages as possible so that the information is in the Google Index right cached. So this is one of the reasons why websites work so hard to be fast is to try to get as many of their Pages indexed during the short period of time that the spider is on their website and then the other interesting thing to think about is personalization. If you're any website you want to make it as fast as possible. And actually there's a here's a little tip. There's something called robots dot text robots Dot txt. And you can see this in the source code on websites with that means is that you can make a link nofollow which means let's say Google comes to one of your pages and you really there. Let's say there's like 50 different links on the page to other pages on your website, but you know, the Google only has time to click on one of them. So you really want Google to click The right one to go to the page that you want it to go to maybe you want to go to the Los Angeles page. And then what you do is you make all of the other links no followed, which means that you're telling the robot. That's why they call it robots dot txt. You're giving a little message the Google robot. It says don't to the spider just don't click on this link. So consumers regular people can click on it, but you but in the code, you're telling the googlebot to not click on it. That's cool. And that's that's called a no followed link. That's cool. And okay last thing is personalization. Have you ever gone to Google and you've done a search and it's like you feel like it's kind of creepy personalized for you. Like like let's say you go to Google and you type of hotels targeted advertising. Yeah, like like Target advertising but this is like targeted search results. So like let's say you go to Google and you type hotels and it just shows you hotels nearby but you didn't say hotels and you know in this city, basically it's pulling in your debt your location so or if you were sir. Chatting about like, you know, if you're researching about like hotels in Los Angeles the day before and then you said like, you know, and then you said and then you searched about like, you know some ups and then you search about some other place. It will also give you like hotels. Yes, it would know from your prior search history. So this is one of the things that Google works really hard on is to personalize your search results kind of the same reason why they do the one-box rich Snippets because they want to just be better than their competitors and then Have you noticed that a lot of your time is no longer spent at the desktop computer. It is spent on a what phone right and also where else do you sometimes search in our kitchen you talk to Alexa Alexa or you ask? What's the name of the guy on the iPhone Siri Siri, right or you ask an Android phone? You say Hey Google. So all of those are voice search and Google as more and more search activity is moving from desktop onto mobile and search. This opens up a whole other new category of discussion, which is how to mobile and voice search results work, which maybe we can talk about some others also. Um, I they're just I was just thinking about how it like does personalize that stuff. There are ways to prevent that aren't there like I like if you do command h on most computers, you can look in your search history. Yes. Um, and you can go Incognito. Yes, you can do incognito mode and Google Chrome and that or you can log out of Google and that on personal Is it the results most the and then also most things on your own once you're in your Google history, you can get rid of it. If you want. That's sure you can clear your history. Okay, so why don't you summarize when you enter a question in Google one thing that it does do is like I was doing I was doing a I was doing this report once a couple of years couple years ago and I kept searching in the same the same thing over and over again. It was this book about Peg Pegasus. I think and I kept searching. I kept kept searching the name of the book over and over and over again. And then I said, um, and then I was like draw and then I searched about and I was searching about somebody else. I was like drawing it was like drawing characters from and then the name my book I was like, whoa what? Yeah, so it knows that you are recently searching the Pegasus Books or if I if I search in like the first letter of the name of the book like P4 Pegasus, It would be like Pegasus. Yes, like know what impressive well, it's amazing. Right? It's amazing. Google is amazing. All right. So when you search something in Google and then you hit enter and you see the search results want you summarize what are some of the key attributes that determine what websites are listed there well inspires going over the websites and your website is advertised by a big web site like Amazon or like you go you're not really advertise but link to yeah, but like like yeah. Yeah Google takes Is that like Google takes that really seriously like if you if a website has a link from Amazon or TripAdvisor something to your website. Then your website will come up when they say when they searched something related to your website. So the number and the quality of links. Yeah, and also the content on your pages as well. Okay. Thanks everybody. We will so we will give you the second part of my what is Google question, which is going to take longer than we thought in. Our second episode so part 1 part 2. Okay. Thanks for listening. Bye. Bye guys.\",\n",
              " 'id': 'show_4oQ5t19UTpj13BXR2yx05X:00U0O3WzkxYm5ZrfJXCS11',\n",
              " 'summary': 'We discuss how google search results work. In the next episode, we will discuss how google makes money.   ---   Send in a voice message: https://anchor.fm/spencer-rascoff/message'}"
            ]
          },
          "metadata": {},
          "execution_count": 8
        }
      ]
    },
    {
      "cell_type": "markdown",
      "metadata": {
        "id": "WHUmphG3IrI3"
      },
      "source": [
        "To get a sense of what the data looks like, the following function will show some examples picked randomly in the dataset."
      ]
    },
    {
      "cell_type": "code",
      "metadata": {
        "id": "i3j8APAoIrI3"
      },
      "source": [
        "import datasets\n",
        "import random\n",
        "import pandas as pd\n",
        "from IPython.display import display, HTML\n",
        "\n",
        "def show_random_elements(dataset, num_examples=5):\n",
        "    assert num_examples <= len(dataset), \"Can't pick more elements than there are in the dataset.\"\n",
        "    picks = []\n",
        "    for _ in range(num_examples):\n",
        "        pick = random.randint(0, len(dataset)-1)\n",
        "        while pick in picks:\n",
        "            pick = random.randint(0, len(dataset)-1)\n",
        "        picks.append(pick)\n",
        "    \n",
        "    df = pd.DataFrame(dataset[picks])\n",
        "    for column, typ in dataset.features.items():\n",
        "        if isinstance(typ, datasets.ClassLabel):\n",
        "            df[column] = df[column].transform(lambda i: typ.names[i])\n",
        "    display(HTML(df.to_html()))"
      ],
      "execution_count": 9,
      "outputs": []
    },
    {
      "cell_type": "code",
      "metadata": {
        "id": "SZy5tRB_IrI7",
        "colab": {
          "base_uri": "https://localhost:8080/",
          "height": 1000
        },
        "outputId": "d5804405-ab0d-4533-9a40-c9a738e2bfee"
      },
      "source": [
        "show_random_elements(raw_datasets[\"train\"])"
      ],
      "execution_count": 10,
      "outputs": [
        {
          "output_type": "display_data",
          "data": {
            "text/html": [
              "<table border=\"1\" class=\"dataframe\">\n",
              "  <thead>\n",
              "    <tr style=\"text-align: right;\">\n",
              "      <th></th>\n",
              "      <th>document</th>\n",
              "      <th>summary</th>\n",
              "      <th>id</th>\n",
              "    </tr>\n",
              "  </thead>\n",
              "  <tbody>\n",
              "    <tr>\n",
              "      <th>0</th>\n",
              "      <td>This is optimal Finance daily episode 926 does owning a vacation home make sense. Bye Daryl Kirkpatrick of can I retire yet.com and I'm Dan. I'm your host and narrator of some of the very best blogs on Personal Finance. Happy Monday. Hope you're having a great start to the week and a big thanks to iconic where you can find designer eyewear and contact lenses at the best price our producer Justin ordered a pair through iconic and after having glasses for almost 30 years. He said this This is his favorite pair ever and the easiest ordering process to with a really cool. Try on tool that he'd never seen anywhere before I'll share more about that. After today's reading visit iconic.com /o f d ey e Co ni c.com ofd to shop for name brand glasses contacts and sunglasses and save money by using the code ofd to get ten percent off your entire order for now. Let's get right to it as we start optimizing your life. Does owning a vacation home make sense? Bye Daryl Kirkpatrick of can I retire yet.com? It was a crisp cloudless autumn day in 2004. My son and I set off on mountain bikes from a Trailhead in rugged North Georgia. We climb gradually on an abandoned Logging Road. It led up through beautiful old hardwood forest to near the summit of a stately Mountain we leveled out then began The Descent toward Lake Blue Ridge, we glided down hill on perfect Trails hugging the Contours coasting through the fall leaves after a few minutes. We veered across the back of the mountain ahead. We spied an odd. Notch in the slope cut by heavy equipment arriving there shortly. We found ourselves at a cul-de-sac in a new vacation home Community a half dozen half million dollar homes were spread across the Mountainside rustic Timbers green Lawns and white driveways beckoning the houses were furnished. But this was a ghost town. The driveways were empty and the homes were uninhabited in my Decades of mountain rambling. I've become more and more accustomed to hiking biking or climbing to reach remote locations and discovering neighborhoods of some Joshua's properties carved out of the Wilderness the vast majority of the time the homes are unoccupied empty monuments to the wealth being created in far-off cities. At first I'll admit I was a little jealous there were certainly some lovely homes in some spectacular locations at one point stressed and bored by my regular job. I began to consider buying a vacation property of our own. I was earning enough we could get a mortgage easily maybe even pay cash perhaps a vacation home would cheer me up a cute little place in the mountains where we could get away. Weekends or longer. I spent a few days checking out properties near some of my favorite North Carolina mountain towns, then the economic and psychological reality hit me. I was just trying to anesthetize myself to my job by throwing money and time into another project. I was looking at dropping a six-digit some and substantial time and effort into buying and maintaining a remote property and I would be doing that mostly so I could daydream about it while I was at work if I was lucky I'd spend a few weeks and a few weekends there each year. Year, the novelty would probably wear off after a few visits then the other 40 to 50 weeks of the year. I'd be paying for it that didn't sound like the short path to True freedom and happiness recent statistics on vacation home ownership confirm my realization. If you buy a vacation property, there is some possibility that you can defray your expenses by renting it out occasionally, but there is little realistic hope that it will pay for itself entirely while not burdening your finances or free time in some form HomeAway reports that only about Half a vacation home owners are able to cover even three quarters of their mortgage payments by renting their home and that doesn't include management or maintenance costs. The reason that vacation home owners struggle to cover their costs is simple occupancy rates are very low don't be fooled by statistics about occupancy rates during season you loan your vacation home and pay its costs year round according to the footnote at home away. The average owner is able to rent their home to other vacationers just 18 weeks out of the calendar year. Adding insult to injury. It says quote vacation rental owners spend an average of nine hours per week marketing and managing their vacation rental properties and quote. That's a full workday and more than one-third of those owners aren't even able to spend as much as two weeks at their own vacation home over the course of the year a real estate expert writing at Zillow reports that the operating costs of a vacation property are like the hotel business with expenses in the range of 60 to 75 percent of Revenue by contrast a modest single home. Apartment rental has expenses in the range of 35 to 45 percent the detailed analysis of a vacation rental in San Diego shows a cash on cash return of negative 10 percent High expenses high workload Lo fun. That's the vacation home ownership experience on average. You might do better there are success stories, but you need to investigate very carefully because the odds are against you for starters to run the real numbers on a property of Interest. You'll need full disclosure from the existing owner on occupancy. Rates and expenses and that may be hard to get yet L admit to the Allure of owning a personal vacation property as described. I was tempted at one low point in my career. Ultimately. We identified a more reasonable getaway solution for us which came in the form of a small Class B RV. It has many of the positive attributes of a vacation home without some of the liabilities The Upfront and maintenance costs are decidedly lower and more importantly an RV is of course mobile. We aren't stuck with taking all our vacations in one place in the Enter or for short getaways. We still have our pick of beautiful vacation rental homes on the web yet. An RV does have some vacation home liabilities. Like it depreciates quickly. We bought ours used and you can't typically rent it out. There are real ongoing maintenance headaches as well. When I went to get hours out of winter storage this year. The tires had deteriorated and air spring was leaking and the windshield was cracked total cost about 1,500 bucks. We owned one of the smallest cheapest RVs to operate even at that due to maintenance costs and relatively low gas mileage. We have to use it carefully to ensure we actually break even on vacations as with most real estate decisions. There is no simple rule of thumb for buying vacation properties. The odds are stacked against you financially But ultimately you've got to run your own numbers on renting versus owning and consult your heart many of the arguments for homeownership vacation or otherwise are more emotional than financial. There are reasons why you could choose to own a vacation home despite the costs like pride of ownership. Up repeat vacations the joy of sharing with family and friends as a fixer-upper hobby or to lock in an ideal retirement location for the future just be advised that liquidity and investment Capital are more important than home ownership to a successful retirement many boomers are finding themselves with most of their wealth stuck in property house Furnishings cars and other stuff trying to prepare for retirement by buying still more property years in advance could be an exercise in futility. We didn't truly understand. Where we wanted to retire until we had been on the road exploring our options for six months after our retirement even now though. We love our ideal retirement location. We are happy to rent here because we don't know for sure what the future will bring. You just listen to The Post titled does owning a vacation home makes sense by Darrow Kirkpatrick of can I retire yet.com and thanks again to our friends at iconic the right pair of prescription glasses or sunglasses is a quick way to switch up your style. If you're looking for contact lenses, you'll find them at iconic to our producer Justin ordered a pair of glasses and he loved the entire process. He said it's his favorite pair ever. He used ikonics try on tool to see how the glasses looked on him before ordering. Instead it worked perfectly the glasses. He got were exactly as expected and arrived fast in a beautiful case. He said he's definitely getting his next pair from Iconic and highly recommends them. Visit iconic.com /o f d ey e Co ni c.com ofd to shop for Quality glasses contacts and sunglasses and save up to 220 dollars with your vision insurance don't have insurance use code ofd to get ten percent off your entire order iconic. Nick is looking out for your eyes and that will do it for today. Hope you are having a great start to your week. And thank you so much for being here and being a subscriber. I'll see you right back here tomorrow where your optimal life awaits.</td>\n",
              "      <td>Darrow Kirkpatrick of Can I Retire Yet shares if owning a vacation home makes sense. Episode 926: Does Owning a Vacation Home Make Sense? by Darrow Kirkpatrick of Can I Retire Yet on Buying A 2nd House Darrow Kirkpatrick is the founder of CanIRetireYet.com. He began serious investing in his mid-30s and retired at age 50. He's not a dot com millionaire and didn't become financially independent by flipping real estate or trading hot stocks. He did it the traditional way: hard work, frugality, prudent investing, and patience.  When it comes to personal finance, his top priorities are simplicity, reliability, and safety. Now his mission is to help others become financially independent as he did. More recently, Chris Mamula has been managing the blog and he's a frequent writer on the site. Chris used principles of traditional retirement planning, combined with creative lifestyle design, to retire from a career as a physical therapist at age 41. After poor experiences with the financial industry early in his professional life, he educated himself on investing and tax planning. Now he draws on his experience to write about wealth building, DIY investing, financial planning, early retirement, and lifestyle design. The original post is located here: https://www.caniretireyet.com/does-owning-a-vacation-home-make-sense/ Please Rate &amp; Review the Show! Visit Me Online at OLDPodcast.com &amp; in The O.L.D. Podcasts Facebook Group! and Join the Ol' Family to get your Free Gifts Visit Eyeconic.com/OFD to shop name brand glasses, contacts, and sunglasses and save money when you apply your insurance. No insurance? Use the code OFD to get 10% off your entire order!  ---   Support this podcast: https://anchor.fm/optimal-finance-daily/support</td>\n",
              "      <td>show_6o8lC0CcRlIclZsbkEOaRL:049DdZ9Ulcj1anlBpg3yC2</td>\n",
              "    </tr>\n",
              "    <tr>\n",
              "      <th>1</th>\n",
              "      <td>Its Behavior bitches Hey guys, it's Lia Ott. And Casey. We're here and we are back baby. What episode is it? It's episode 6. Oh, yeah. Okay, six great. We're a little late you guys in the game here. We are 12 freaking aware. She left for 10 days and decided she didn't have any responsibilities here and now she's back and she's paying the price. Yeah. I wish it like that more like I went for my brother-in-law's wedding. So if you guys are wondering what I've been up to. If you haven't been following on Instagram, I like to pretend like I'm the celebrity that people care about but I know no one gives a shit. But anyways, I went for my brother-in-law's wedding to Israel, which I didn't really feel like going anyways, because I was already satiated. I had just been there like two months ago. I didn't have a chance to miss it. I got married there not two months ago a few months ago and I was there for a month, but I went my luggage went missing for a few days while about but then also in my carry-on bag my new Macbook I was so Proud of that. I've bragged Casey about for so long. She may not a bad one. But yeah, I only had it for two months. So not that long got stolen out of my luggage then my SIM card wouldn't work in the phone there. So I just really felt disconnected and then I ended up in the hospital there. You know how Loop is goes hashtag Loop is problems. So everything went wrong, but you handled it really? Well. I will say you were helping like I'm just going to look on the bright side in the I could have been dead or something horrible Could Happen unlike over here. Like fuck that. That was my F-bomb. Like I would be a mess and you're just like I don't have clothes. I'm wearing Mickey Mouse pajamas every day. I think he wore them for two days straight. First of all the girls in Israel and by girls, I mean like women are obsessed with Mickey Mouse is like bizarre to me. That's creepy. Like they all love Mickey Mouse. I'm like, I feel whatever actually never mind. I'm not gonna say too much. I know a lot of people actually really love Disney and I've seen that a lot in the study notes group. Just throw Get out there as always guys. We are doing the review of the day the five star review of the day this probably reinforcing us. This one was so so so good hash tag not hashtag / relatable by Brie big she says, I'm obsessed with this podcast such a good resource for people studying for bcba exam. And also just to hilarious gals to listen to when driving around I can't wait for more episodes free. We love you. Thanks for thinking we're funny. I know sometimes That's five starts this shit. You guys think it's small. That's the thing right? It's not just money. This is reinforcing for us to do right? Here we go. Yeah reviews give us those lights follow us on Instagram. We love that shit. We eat it up. Actually, we just hit over a thousand followers on Instagram. I know that's like, you know, but I remember when we first started this I did okay, maybe a month or two ago, and I like was reinforcing our for our hundredth follower. If I was on my game, I would have done it thousands follower, but We're so happy and we just love providing this fun relatable content for a difficult and hard field, but we're all here. You're not alone. We got you the behavior bitches hashtag. Don't be an asshole. They have you been up to so, okay before we get into today's topic. All I've been up to basically is trying to learn how to be a bcba and I swear to God it's not getting any easier because I'm working. Company where I'm the only bcba and I am the director of the program which I've worked at for five years, but not in that level more as a direct support, which was the best job ever now that I'm a bcba. I can say that I mean things are better financially, but the stress and the the learning curve now you have a yacht right? Oh, yeah. Yep, huge shout out there. Actually. It's an inflatable kayak. So get in there pretty fast. I will say that, you know, I'm just trying to make sure everyone. Parted family staff clients. I feel like I got liad. Is it because she's mode so you can say v a podcast. So definitely I'm learning each day growing each day trying to prioritize where like the crisis has and what needs to be done immediately while also just trying to also be a good fiance. Maybe try to have a baby. I don't know that's good. Definitely on the back burner now. I do think that it will get easier and hopefully our guest when we bring her on can attest to maybe it's getting easier but we are doing great things in the world today. I'm walking our shit together today. I was walking out of my apartment and this is random lady. She has a brain injury. She's so cute though, and she goes she calls me the misbehavior lady and she goes who doubt I'll tell them why it says misbehavior. Also your boat is that oh, yeah, my fiance builds boats, they're not there. Toy boats, they're like RC racing boats, but he made me one that said it's misbehaving and then girl on a stripper pole which I wanted like a Naughty Teacher, but that's what he picked for me. But anyways, though the lady in this building that we live in calls me misbehavior lady and today. She's like, oh my goodness. I get a hundred jobs a day for be CPAs in this area She's Gotta make it one OT 1pt, but all my goodness like it's crazy and it's it is crazy. Are so many pcbs that are needed in this world and I think in my area in New Hampshire, there are very little so right now like I'm saying, I'm the only one and I need more so if any of you guys are listening and you're in New Hampshire and your bcba, I'm Casey. I'm not trying to be a bitch but you're going to have to buy ad space. If you hadn't talking about this heard her you're cracking yourself up guys before we get into today's topic. Let's talk business we plan on doing An episode a week as you know, last week didn't go that way but everything went the wrong way. You're never allowed to travel again. Yeah, I'm not traveling again. Seriously punished that behavior that's five sure like really for sure get it anyways, so we love making the podcast right now. But right now we are paying personally as much as we love all of you. We would love if we could do this and you know get reinforced for doing it. So we Some options you can sponsor an episode. It's fifty dollars an episode. You can make a donation with an amount you feel comfortable with or you can buy advertising with us right now. We know it's really nice that you listened without any commercials, but hey A girl's got to eat. So you guys know how those primary reinforcers go. So if you are interested in advertising with us, please reach out you could go to behavior bitches.com and Act us through the website we Casey how many listeners do we have now? I'm pulling it up right now. Actually that we need the data. Okay guys, this is amazing. And so exciting right now. We have had fourteen thousand viewers listen, so that is amazing. You guys could be hurt by 14,000 people in the field of Applied Behavior Analysis. Actually a lot of people actually are In the field of Applied Behavior Analysis, because we've done a good enough job of keeping it General enough that this shit applies to anyone. So if you are interested in getting in with us and you want to tell the world about a product that's amazing that we would stand behind first. We need to make sure that we like it. Yeah, we're not going to be selling any bullshit. Sorry. We haven't done it up until then we're going to keep it real. Yeah. We're going to keep it real if you're someone trying to screw someone else over. Sorry. Sorry, not sorry, you know, but anyways, if you have something good to sell we're totes down to help you and we would love to get our podcasts covered. Let's be real just a friendly reminder to subscribe to our freaking podcast. All you need to do is go into the Apple podcast app and type in Behavior bitches and click subscribe while you're at it leave a five star review, obviously, duh. We know you love us you can find us on Instagram at Behavior. But just podcast Facebook Behavior which is podcast and we love hearing from you guys. What you want to hear more of what you want to see us talk about just let us know and we will make you guys Happy. Anyways, that's it. Let's get back to the show now. But anyways you guys today we have an awesome guest on I let Leo introduce her because she knows more about her than I do but I'm looking at it right now and she's a beautiful amazing person doing great work in this world right now. So Leah tell us who she is and also what we're talking about today because that's important, right it is. Okay. So today we have dr. How cool that's a doctor. That's what I said earlier when I was reading it to Casey. I was like, that's so cool. Dr. Maggie Pavone. Dr. Maggie Pavone She when I'm on tell you all these things about her you're going to be like, oh my God, she sounds so intimidating and so cool and that she does all this stuff but she's so real that's the best part about it. Tell me about her. I'm like, oh my God, she's so then I saw her on like a few things on like the daily be a and I was like, wait what she's actually coming on her podcast. I was like really really really pumped. Yeah, like we're like a big deal, you know, we are a big effing deal. We have dr. Maggie Pavone here. Anyways, okay, so Maggie, Pavone Maggie. Hi. Hi. Thanks for having me. Of course. I can survive being happy. Oh, I'm gonna say a little bit about you, but then you're going to add in because I think you probably know yourself better than I know you, but I'm so excited to have Maggie here. Can I call you Maggie, or do you want me to call you like Doc? No, please call me baggy. Okay, I don't even let my students call me. Dr. So Yeah, you earned that shit. Okay, so why Maggie is so cool. I mean I could go through this and you could also read the show notes if you want to read about her specifically, but I'm gonna tell you what really sticks out to me and is really cool to see in the field. What I like about Maggie is Maggie is a duck. You're a doctor and IO psychology, right? It's for your PhD is yep. So a little psychology. Can you tell them what i o stands for? Yeah, so it's not that common in Behavior Analysis, but I also like is industrial organizational psychology. So psychology applied to workplaces. Perfect. And Maggie is a b c d a also who said like she just has like the full spectrum of things that she does which is really cool. So she owns an OB M consulting company for anyone who does not know OBM is organizational behavior management. This is one application of ABA and Maggie will definitely tell you more about it. I'm not going to waste my breath because we have Maggie here. Why would we need me to do it Maggie also has a small private practice and she addresses complex behavioral concerns. This is also really cool to me that it's not the typical autism you hear about so I love it obviously anxiety depression eating disorders and preventing of chronic health issues. Wait, did I not know that and I'm reading it right now for the first time? Okay, we should totally Talk about this later. I won't make this episode about me and Maggie really hard for you. Not to do that though. Yeah, I know right? I'm okay with that. I can be in the background. No, no, no, no, no. No, we are so happy to have you here. So anyways, today's topic is organizational behavior management and how to keep employees happy and a bunch of other awesome things. But let's just get that out there right now. Oh, yeah, just so you know, okay today is about organizational behavior management, but I'm just telling them about her quickly and Maggie does. A lot of great work disseminating the science letting people know about it. I mean I have only heard the best things from her students. Maggie is also she teaches for Simmons College Maggie. Not only teaches you're also the program chair for the Masters. Yeah, so I tell them out. I'm the program chair for the Masters and education specialist program in Behavior Analysis at Lindenwood University. So we're we're really small I only 16 to 20 students a year. So if you think you're awesome and you love what liat is doing feel free to get in touch with me if you don't have it that degree yet because we're looking for people like that. That's actually not that I don't think that's that small mine was like I think we started at 20 and then attending graduation. I think there was 11 of us that actually made it but can I tell you something the most special thing about Maggie and Maggie probably gonna like start blushing on here, and also I can't I should open my Google Hangout Hang out so I could actually see Maggie in case she does blush when I say this, but I'm bright rug you've already done that. Okay, Maggie reached out to me. I don't know how you found me initially was study notes ABA and she was like, I like what you're doing. I want to see what you're doing. I really care about my students that are in my cohort or whatever you called. It may be a cohort. Yeah. I want to get them all into your classes or like I want to see how you're doing it. Can you organize a class for them? Can I get them into your classes? Like I've And Maggie literally was like I want to pay for my students to do this. So now everyone's gonna be like now I want to go to her program right now. They're all going to come to you but it's just amazing to see how you really care about your student. And I was like, well, we got to look at it. Behaviourally. Like are they going to be feel like they really want to do it if they didn't invest in the course work themselves, but I just thought that was really special about you. So yeah, I've been really lucky and had some great mentors invest in me. So I kind of try to pass that on my I mean I totally agree with that and I think that is amazing that I just had to share that because I don't know if you knew that Casey that Maggie did that I think you might have told me that and I was like, wow, I wish my program director offered that but again Maggie who are some of your mentors actually I'm so I kind of have a who I call my scholarly. Mentor and my practice Mentor I was really lucky to have an amazing. Bcba who got me when I first got in this field at 17 Melissa Weber. She's actually an adjunct instructor in my program now, but she is just one of those phenomenal be cba's that you meet and she does not shy away from any problem Behavior. She will take whatever comes in her door. And and really make a difference for folks that have been because I've fallen through the cracks or people have given up on them. So she really was my first exposure to the field and I can't be more grateful for that being kind of my first intro but I also really benefited a lot from dr. Guy Bruce who is also an organizational behavior management professional or he would say, he's a performance management or instructional design Guru, but He's definitely one of the reasons that I'm into research and kind of getting out of are seeing Behavior Analysis at something other than just how do you serve people with Autism? So he's done some awesome. He's got some books out and things if people want to look that up, it's maybe we can put some of that in the show notes to - no. No, it's okay. So let's get started with a very basic question. In for anyone who maybe doesn't know and I actually I actually think that more people than we think actually would not know because what is OBM I think people might have heard of I/O like you said industrial organization. What does it it? Does your organization? No psych right? Yep more than they've heard of OBM and I know I took two courses on OBM and I was fascinated by it. So I'm just so happy to have you here. So what is OBM So OBM is this is my own definition. So and we don't want textbook definitions people could Wikipedia themselves. It's really just an adaption of our dedication of the science of Applied Behavior Analysis, except that we use it to identify and address problem behaviors in workplace settings. So either workplace performance employees not doing what they need to do or workplace design. So kind of those those Companies that probably we've all worked in at least once where the job is impossible and therefore people are upset and unhappy. So OBM takes the same kind of approach to identifying the function of behavior and addressing it in a really systematic way, but we're just doing it with people who don't have diagnosis because like we said right applied Behavior Analysis can be used for anybody because human behavior is across the board. It does not discriminate between between anyone and I think that is why and what we want to stress in our podcast is that it is not just for autism and it shouldn't be pigeonholed into that. I've seen much worse problem behaviors from CEOs, then folks on the autism spectrum. There you go. See you just gotta operationally defined why they're assholes or what asshole looks like yes, that should probably be a subspecialty of the fields of OBM totally and bye. Hey guys, this if you are studying for the test, this would go a long with we know we talked about the four. The four functions of behavior. No, no, no and Alan we might need it cut this part out, but we talked about the four branches. We talked about the four branches of Applied behavioral analysis. And this would fall under I'm I would think that this would fall under the like behavioral Service delivery. It does. Yeah, it does. Yeah, I would say a lot of times were there. Sometimes I get the joy of doing even eat. Be kind of research looking at how employees work and what influences performance but yeah. Typically we're looking at applied practice and Service delivery aspects. Okay, I love that. So how did you get into OBM because what I've seen of OPM I like what I would know how to go look for a job working with kids with autism. I type in bcba, right so I can have a PCB right now. What would how would I get into OBM if I was interested? So I think the first this is my always my first advice to someone who says I really love OBM or am interested in OBM. What do I how do I get started is apply the science in your own organization. So OBM opportunities are probably where our probably available wherever you work and that can be a really great way to kind of get started in the field. If you're if you happen to be in a practicum or mentorship or fieldwork type experience. There's even an Awesome article that came out last year in the Journal of organizational behavior management that that will take the entire task list for you all those things that you got to check off as you go through your supervisor experience and translates them into how you could do that in an organization rather than with an individual. So I always give people that article and then I say, what's your article called? Do you know it's called on the compatibility of organizational behavior management and be a CBS. Certification I feel like that's correct and one could get their entire supervision. Doing OBM. Yeah, and I actually have several students who do have that experience. They've already been in RBT for a long time. They've worked in autism field when they come to get their masters and so they want to try something different. So if they want to do that, we really just started at the beginning of the task list. And again, I mean, it's all Behavior. So we're just applying it in a different way and I think we can also look at the seven dimensions. And as long as we are staying true to those Dimensions, we're still doing Behavior. Analysis doesn't really matter who our client is or where we're working it. Can it can still be that really cool. Can I say magic? That's not an f word, but I feel like that's a bad word on this magic stuff. No, I love it. So we have some questions that whether you're And for this board exam whether you work for an ABA clinic right now, whether you feel like you're treated like trash and your workplace whether it's a a be a clinic or not, whether you go to work everyday dreading whether your Sunday's ruined by your Monday, as I saw someone posts something on one of the confessions and engines. I love him so much. Yeah, don't let your Sunday ruin your Monday like sitting on the lake already stressing out about today because I knew I had like a full workday podcast and teach class. I started getting like really really really anxious and I saw that and I was like like there's nothing I can do right now to change the fact that Monday is coming. So make your Monday matter, right? So if you're whatever environment you're in the workplace is somewhere where we see a lot of issues in general at and I'm sure everyone who's listening to this Kimber late. They've had an asshole boss. They feel like they're not trained adequately whatever it is. And so we have Maggie here to answer all our questions. Status and I did and I'm going to talk a little bit just from looking at a ba Services themselves and just because that's what I know more about and what I did some research in and it says that there is a turnover rate for Behavior technicians at clinics as high as 75% Apparently the average is around 50 something. Apparently the data suggests that the retention is higher among supervisor roles, but it still is very high numbers like Maggie. Why do you think these people are not lasting at these companies? So that's actually why I got into OBM originally was I moved up out of that direct support kind of roll and realized that I had no skills as far as retaining employees. Nobody had ever taught me how to do. That and so I've learned a lot since then don't be an asshole as the biggest one, but we can put that in some some specific terms to I think a lot of times we have managers and Human Services that just don't know how to be a manager. They make right really good task analyses or you know conduct skill assessments really well, but no one's really sat down with them and said, hey in order to be a good manager. We also need a shape that behavior. So turnover is certainly as high as you as you mentioned and I think in 2015 the Kazemi study found that it was between 45 and 75 percent in residential facilities, which is really scary. But I think there's a there's a lot of reasons why the first one is lack of training for managers. So if you are in a mattress program or you're getting your bcba recognize that you're gonna be a supervisor, you are not going to stay a be an rvt rest of your life and make sure that you're getting some of that that skill development most of my students in their last semester are no longer doing Any type of RBT work there, they're preparing to go out and be a director or a clinical supervisor. So getting that experience is really important and having someone who can kind of shape that experience can be really helpful to So I I personally feel like there is a huge jump in our field going from like one second. You're considered a technician which even though you're you have a masters or whatever it is. I mean, you don't even have to necessarily you go from that. It could be someone who was literally like working at Subway the day before now their behavior technician, right or you can have a master's level and be a behavior technician and then when you pass this big bad test hashtag set Did you know it's a be a you can but now you're suddenly in charge of you'll go into a place be cba's are so needed and you are supposed to be running the place the expert on everything know what gear you're like speaking my life. Yeah, literally I haven't I've drawn on my paper a rainbow Arc of DSP. So direct support or behavior text right? I'm in my area the average between ten and fifteen dollars an hour. You can make that up. Way, okay and they're doing the hard work on the ground with these clients and then there's no growth in the field. There's no like oh you can get a raise in a year. It's in our state. It's capped right? You cannot go above $15 an hour and I'm pretty sure in most areas. You don't go above that no matter what and then the RBT, but even our Wheaties like they're not making much more money at all and then all of a sudden you get your Master's huge pay salary and a huge Disability and you may have just been yesterday like me working as an rvt. And you are now expected to be the expert because you have passed this exam which you know is great and I'm so excited. But yeah, there's no there's it's a weird feel to me. Like I look at other fields. I look at my fiance's field and there's steps, you know each year. He gets a you know, if he's doing his job. He gets a five percent increase and some more responsibility, but that doesn't happen in this field. I I completely remember the first time that I had a minor imposter syndrome moment in my office and had to shut the door and I was like, oh my God, there's 50 people who are going to come to me and look for answers that I don't know if I have them. Yes, totally. Yeah, it's odd that we don't kind of push that a little more that that's about to happen to you when you when you pass that test. So I like that we've already kind of brought in one of my big pieces of advice has as a supervisor to remember that there's competing contingencies. If you're paying somebody $10 an hour to do something really really hard. They'll probably go to McDonald's and flip burgers for the same amount right have asked about the matching law. There's yeah reinforcing go or behavior goes our reinforcement flows and what I try to do and you can bring Maggie probably more of this but like some of my things now as a supervisor is providing amazing support like I am On the ground with them training from the beginning. I am not just sitting in my office and I need to be in my office doing paperwork. I can't do that. I am with them supporting them always available for questions teaching them and also providing because we can't provide more pay, you know figuring out how I can give gift cards to certain places giving them preference assessments to staff not just to clients. But what is most motivating for you? Do you like Starbucks or do you like Dunkin? It's do you like need gas or are you good with the mileage? Do you want, you know of gift card to a grocery store? You're making my OBM heart. So happy right now. Thank you, you know more about them than you thought Casey I can see I didn't know that girl. If you understand behavior of the cool thing about it. I really feel is like, I think that also by the way side note is why sometimes behavior analyst come across as assholes which by the way this goes in general because you do feel like you understand the world in a different way. In your radical Behavior as right every single thing is behavior. So wow, I could apply it to my goldfish. I could apply it to my dog. I could apply it to the workplace. I could apply it to a kid with autism. So I think that is a big reason why the field could come across as assholes because you actually do know a lot about different things but still don't be an asshole but I think the things that we were just talking about help that to like just because you got those letters behind your name. Mmmmmm doesn't mean that your job is now more important than anyone elses. Melissa was one of the ones that really helped me see that to like if you're a bcba and you're by yourself, you can serve one person at a time, which is great. Great. That's wonderful change one person's life, but I think it's really fascinating and exciting to think about like wow, but if I build a team and this team behaves in a way that produces useful results for the people that we serve like that explain. Ripple in a pond right? What's that you throw a rock in a pond keeps going you can actually change a big corner of the world if you really wanted to so, I think that's the organization is so important to do but that's kind of I mean to be honest. That's why I started study notes a VA because I was like I don't know at least working. Clinically. I personally I felt like there was never enough of me like we couldn't. Yeah, like there was it was I was one bcba there wasn't enough. Like if I wanted to be giving the quality that I could give I was never happy with the quality. I never felt like it was good enough because you're only one person. You're only one person. How can you train every person how can you multiple use the top to the parents that are calling you at 10:30 at night, you know and and do all of this and so like I mean personally now as a A reinforcement schedule for myself. I feel much more reinforced getting more badass be cda's out there than I did working in one clinic trying to I mean, I don't know what I'm do you have I'm trying to get at it's like amazing to see like everybody has that like aha moment in the field at some point where like you're working with a client and they do something impossible or that was said it was going to be impossible and you feel incredible like you're so proud of them and amazing, but I think when we look at OBM you can have that same feeling but now it becomes your employees when you're fully implements a program that changes someone's life. You can have that same like, oh my gosh. Look at what you did. This is incredible hater, man. So funny that you say that because right now I manage. eight clients, but like 12 staff and Being able to get through to my staff has been so reinforcing to me when they're like, you know, I say, oh try this and they come back the next day and they're like, oh my God, you know so-and-so did that and I'm like, oh, okay. So I also realize you're not an imposter. You're like, maybe I actually do know something that's funny cause I have a sign on my in my office that says I'm a clinician not a magician which I've probably been impressed, but I have to remind people a lot that I'm like when they come to me with these things on Mike. Okay, I can give you some tactics and we can talk through this but it's not like you said Behavior magic but like a lot of the times I think people feel like it's not working or you're not doing enough or you don't know enough and when you get those moments, you're like, yes, and I now that I'm talking with you Maggie. It's so funny. You're right. I'm doing more OBM than I think I'm doing giving feedback providing, you know, appropriate criticisms and our critiques and also positive reinforcement. Is he Huge I could say like hey, you did really great interacting with that client and then you know, I don't even think about it because I am used to positive positively reinforcing people but then I get an email from a mom who says wow. That was so great that you positively reinforce my staff. I don't think they get enough of that and I'm like, oh, I like want to cry. So that is the most common maybe suggestion or intervention that I that I end up using in the in the OBM field is just looking at how People provide feedback and it sounds really simple but like you said if we look at if we look at that feedback contingency, you know, we're really good at applying that to kids with autism, right? We know it has to be immediate. We know it has to be valuable. You know, it has to be a motivation are the mo has to be didn't have to be in place but it's surprising to me how many times we forget to apply that to the to our our staff or to the people who are out there doing the Dirty Work to like they have a hard job. They probably We need something maintaining that behavior that's and it's and it needs to come from you as the manager a lot of the time. I think that like, you know, we I one thing I learned about autism is some people be like, well, they should just do that. Like they should just be able to do that without reinforcement. It's like, oh do you just go to work for no money. Do you just do that for just because you should like so yeah. I have to remember that for staff to like sometimes I do get like frustrated like they should just do that then I'm like, no, we all need that feedback. I need feedback from when I teach I need feedback from my staff saying thank you so much for the support because if not, then I don't have to know nothing about my behavior and I am not being reinforced to want to increase that behavior like and not to bring up. Obviously, you're not this kind of manager, but I'm sure we've all met this type of manager like who made a fire or punish someone and they might just use a label for why like, oh, well, they're lazy or they don't they don't give a but they don't get a they don't care. There we go. Yeah. You don't hear about their about their job. So I'm just going to punish them or I'm just going to fire them and get somebody new like we wouldn't do that to a kid with autism, right? We were taught day one like ladies. He's not a behavior. We're not going to say someone's lazy. So we need to as managers. We're contingency managers. We need to create environments that produce the behavior. We want to see so I think that not being an asshole and seeing yourself as this kind of Mentor support person like you're talking about is really important. What what settings do you offer OBM services and right now, so I've scaled back a bit just because I like to jump around in the field, but I still work with to behavior analysis agencies that are residential. So I find that that's the place where maybe Services tend to deteriorate a little bit and and there are some pretty consistent reasons. Why But I do that and then to be totally honest the rest of my OBM work has nothing to do with autism. That's what I want to hear about tell help tell me I want to know what other places it is. And then once I asked you that I want to know what issues. Do you see the most across multiple settings whether it's autism not autism FedEx, I don't care. So I guess my my probably most unique setting that's been pretty consistent is I actually work with a circus. Studio I work with their trapeze artist trainers on how to be better trainers. So why not we look at I'm using behavioral skills training. I also was certified in tag teach. So sometimes I'm going to provide very specific ways to improve athletic performance because that's that's their outcome that's important right to use a little but little clicker. So in trapeze you're too far away to hear the clicker. So we Different things the air horn air horn being a circus Studio. We have a lot of horn. It's things the really depends on on the individual and it's interesting because we also have to make sure that whatever that Q is I don't know. I don't want to jump in and scare them but it doesn't scare them and it's not something that they're already conditioned to respond to. So if the clown uses the clown horn and it means something specific in the show can't then use that as my auditory cue. For reinforcement, so just make a novel a novel stimulus. Yes. So we've come up with some pretty interesting things out there. How cool like how did you find this place Maggie like just for you? Were you like doing trapeze work or something? So actually yes, I jumped off of a ledge and jumped right into it. I I took a trapeze class to celebrate being a year cancer free and loved it and just fell hard for it, but I was learning when I was teaching myself or learning how to do trapeze do flying trapeze. I was like Hey, like there's a room there's room for Behavior Analysis here. You guys could be more effective and they were really open to that. So sometimes sometimes it's just about getting into OBM is just about being able to say what Behavior Analysis can do in a way that other people can listen to it which comes back to like not being a pretentious asshole right being able to say anything I can help you train better. Here's what I would do something personal I want to tell you that's amazing that I but not just that that fact that you said that you obviously that struggle with cancer and now you're cancer-free. Yes the great when you're pregnant. Yes, so that is amazing to hear. Also. I just want to say like go you and hey, you know very much how it is to to balance life and work and chronic health issues. So totally so But you know what? I really do think it changes you for the better. You see life in a totally different way is it is a kind of think of it as like an Mo right? It makes your reinforcers more valuable temporarily when you start to think about. Oh, I might not have those forever right on days that I feel good like the amount of behaviors I could get done in that day are like you can't effing stop me. Like I either go from like like dead like Early, like when I was just in Israel, for example, I was like I couldn't do a thing for myself had to be like carried from here to like to like, there's no like middle for me. It's like I got it utilize the days that I feel good. So when the mo is there I'm like, let's go baby, you know, hopefully hopefully my students haven't talked to you too much about me then because I think I think I have a similar reputation among them. They say I never sleep which I do sleep. Actually. I have really good work-life balance. But but when I were her I'd Valance what is what is that? I like to call it maximizing reinforcers right there is no work life balance. It's just making sure that your behavior is contacting reinforcers that are that are really valuable to you. So if you can do that with both, that's awesome in real life. She's so cool. She's just chill and just beautiful and really does a big mattered but I love hanging out. I spend all my time all my days thinking about applied Behavior Analysis. I mean since I started the Graham and I had that light bulb moment where I was like this makes sense. I understand I can talk about this stuff and tell my friends and you need to come up and help my aunt with their kids or whatever. It needs to be like done. I have not stopped geeking out on it. And that's when I met Leo I'm like I need to teach now I need to do everything I need to do a podcast because I'm like was not that you need a pass this test. I really like thinking about you. I have big dreams of my youth is huge there. I had so I could Come you know the ayats like sidekick man. Yeah, right can also and again. It's a balance like you said contacting reinforcement. So I feel there's so much times that I'm all day going through this crazy stuff. But when I sit back and think about it after I'm like I have to make a list of like the good stuff. I'd done that day like the reinforcement that did happen without me even realizing it like, okay. I was able to send this email and teach this parent how to do ABC data in the home and she got it. I was able to do this. I was able to realize that our outlines for Cenote be Were needing a lot of help and that is aniseed and intervention is write out a long aversive list and that every time you get to remove something off that list you cross it off negative reinforcement, baby. You feel good. But anyways, Maggie, so tell me what is the most common issue you see across organizational settings. So, I don't know if I'm able to narrow it to one but I feel it's fine. I think maybe we want to divide them into kind of what I call low hanging fruit, like easy fixes and more time-consuming ones. So I'd say on the easy fix side low-hanging fruit tell us prioritizing profit over training when we see organizations that put people who have who have had like, yeah. I don't know they've watched a video. And signed some papers and then you go put them out to work with a human because you want to get that billable hour done. I really pisses me off. I'm like feeling myself finally warm up. I'm finally getting blood to my hands right now. It is really upsetting but it also doesn't work great. So it's ineffective and crappy for the people that we work with. So, I think that getting managers to see that actually investing in training. Training that's not just like a like a PowerPoint presentation like actual behavioral skills training or like you guys said like going out and actually doing that in Vivo training where you're helping people shape their behavior on the job that that can create more profit is really easy. It's really easy and and it changes it makes big changes in organization. So that's probably the most What what I've seen at places I mean and I don't know if it's just like where I worked. I've seen a lot of issues with like, oh, we don't want to turn a client down that we could give these hours to so okay hurry, we'll just hire someone quickly. So then someone who was already shittily trained is now training someone else is now being shadowed and now it's like a shitty shitty shitty shitty shitty shitty, you know, like when you're in this field like you Have to remember you're not working with hamburgers and lumber like you can't just you can't just serve a bad hamburger and go on to the next day. Like you can fuck up someone's life. That was your F-bomb. That's for one of our clients who has a volunteer job in a restaurant and I used to bartend in waitress and I think back on my life then and I thought it was so stressful when you had like He drink tickets, but you could serve a shitty drink to someone and they're not going to like affect but if you have shitty services to people you have people's lives in your hand not like a doctor even though you are a doctor but like still it could have no but like a doctor you're still prescribing hours like yes to take it seriously like you are like and that's what the one person that we put in a position when they didn't have proper training. We've been paying workman's comp for like years and it's costly right people. Are you look at the short-term? You're like, oh, I just need somebody in that spot for an hour. Like no make sure that you're doing this the right way because it's it will it will come back and bite you and we have great research that actually backs that up. You know, if you if you don't train people. Well, those are those are the 75% you know, those are the ones that are getting really really high turnover rate and they're not making a difference in the individuals that they serve so it's kind of a double training training is huge feedback. Huge and yeah, we use on an online kind of like 10 hour training that they watch videos and have to take a quiz but that is a no way that is just extra that we pay them for that is a no way different than me being there for 30 to 35 hours a week with them for at least two weeks. What am I a hundred percent, but can I tell you something I've seen also I've seen so will you hire someone right? I'm not working anywhere. So I'm not talking about about anywhere. Are in particular I'm just saying hi or someone you get them up. You buy them a 40-hour RBT training video. Hmm. Not even paying them for doing those hours. No, there's no funding. What does that teach somebody about the training right? It's not that it's not valuable. Like like I just need you to do it like that's exactly what it is. And that is so concerning to me. Have you seen this at multiple places? I like I said, I think that's the most wide-ranging and it's not just in Behavior Analysis. I'd say it's in all of all of Human Services. I've worked with Hospital settings and you know things like that where you see, how old are you? I'm not telling that. She's 34. No, I'm not. I'm not even going to give you any like I'm not going to shape that answer. You're not having any successful approximations to that. You're not shaving. Okay fine reinforcing and don't ever ask a woman her age lie why I think it's I think it's empowering because we're 28. I'm 29 and to in two weeks write it down pants early up Noah Leo the first day of a Leo and I'm a hardly. Oh, I was going to say I'm a Cancer and I don't see that in you. What are you? What's your sign Maggie? Scorpio so I'm going along with any of you totally off topic. Okay, what are your high hanging fruit? Yeah, what are the high hanging fruit process flaws so job design being wrong. And this one I think is actually really the cool part is it's easy to test if you have a manager who doesn't want to take a jump in and take somebody else's job and are BTS job for an hour or two. The job is not designed correctly. I see that all the time. And I think that is a little bit more of a difficult skill to learn how to do process analysis, but it's worth it. If you wanted to like take some time and learn an OB M skill that would pay off long-term learning how to do process analysis is a bit of a jump into something new you got to be a little brave, but when you know how to do it it can really take you can take that instead of just doing like a job task analysis. You can take that to that next level and look at what influences this is the what are the N Mo's and the consequences from different departments or from different areas of your organization and are they lined up or do you have people that are you know spending a whole lot of effort and time doing engaging in a behavior that they're not getting reinforced for it all are you having do you have do you have this is my favorite one. You have a data collection procedure that involves more than five steps. It's not going to happen. No, it might look really nice on paper, but it's not going to happen for real or you're going to get bad data which then makes your job hard treatment Integrity guys. So I see that does not worth anything nothing and it's hard to get people and then there's no validity guys validity and then you get people like well, why isn't my Private Client making progress? Well, it's because you're making data-based decisions on data that doesn't mean anything so Process analysis is just a way to kind of identify where that process breaks down. And can you compare that to a component analysis just for someone studying? Let's say can you could I use those words interchangeably. Like I want to look at what components are effectively working or not. Not quite it's a little bit of a shift but but definitely knowing how to do component composite analyses can help you learn process analysis much faster. It's like a maybe that what is a process analysis for process. And also this is when we actually look at starting from the very beginning antecedents. How does a product get produced in an organization? So an ABA typical ABA agency that product might be a student learns a new Behavior, right? A rightly Burns how to command great well process analysis takes that product and looks at what what steps are required who's doing those steps. Are there are there SDS for those? Apps or are we looking at a mix schedule where people don't know what the hell is going on? Are there consequences for each of those steps are those steps being repeated in ways that are not effective like maybe you've got three people taking ABC data for one client just because that's their role. So we want to eliminate those what we call Process flaws or areas for improvement and make things more streamlined. So if somebody's doing a be doing a behavior at work that behavior is directly then tied to the outcome of the student learning. So we take out all of these extra things that typically are in agencies just because they're there they weren't actually designed to produce a hostage right to see if they get work. I've come across that a lot and becoming a program director is all these steps all these things that they were told or taught. I'm like that is so useless in getting them to actually emit the behavior. We want them to admit and But I didn't know again starting as starting as early in the process is like interviewing someone like when I was working somewhere. I saw the interview question and I'm like and I'm like, wow this like why is this even in here? It was like someone's is like what is protocol mean to you? Who cares? Like, I don't know like what is someone going to say to that like so that was in their thing and I'm like it takes someone actually taking out a simple thing like that and being like wait that's not necessary. But people just continue to do the same thing because it's in there and never being like, well does this make sense that we have it in here? Is it out related to Outcomes you want to see it your organization. If not, don't do it. Don't do it doesn't work. That's that's by definition of time. Don't make people do more work that isn't actually useful for the outcome of behavior or the outcome that you want to see I came in and streamlined. I'm like listen, you don't need to be taking data on all this stuff because unless we're using that to then direct your program. There is no reason to be taking all this stuff and you haven't said example. That's exactly what I'm talking about. Yeah, a lot of people taking all This data and then the data sits in the stack or sits in a pile on heater. Don't do that have those people actually out there doing things that are useful and creating the kind of things you want to see for real not just checking about they feel stronger about their work because then they're seeing why they're doing it and it makes them want to do it more. Absolutely. Absolutely. Why would you take data if no one's ever going to look at it? Yeah. We haven't you ever had our Beatty is that are frustrated. Because they're doing something and they don't have any idea. Why yes, he's if you can't specifically tie that to an outcome that makes a socially significant difference for your clients don't have them do it anymore. And if they don't know why they're doing it, then they're not realizing what they're actually even counting. It's like, you know, like for what purpose it's like. Okay, every time someone talks, right but like they don't know that they're doing it for manding or something or what the importance of a man is. So it's like now they're recording every time this kids like even like coughs or something and he you know any sound they're hearing and so you're getting incorrect data. So there's a huge concern in the training. It's just Yeah, yeah absolutely training is huge feedback is really important, you know, making sure that those behaviors that you want to see alright are defined just as well as the behaviors. You don't want to see a lot of times I see that too or at least have a bunch of things that what's the problem your organization you get a bunch of answers about like what people aren't doing. Well, what do you want them to do? Because if you haven't designed in the contingency or an environment that's going to produce that behavior that's on you. I have one for um You know with like don't use your cell phone don't do this and I am like, okay. How about I teach them that I want. What I want to see is fo 100 percent engagement with your client unless it's lunchtime and then you can have time to do that. But I what I want to see is that engagement I do not want to see people in the community seeing staff on their phones. You need to be hanging out with your client like you'd hang out with your bestie. Yeah, so instead of punishing cell phone you straight that would just that would just perhaps agree with it. But really now you now you want it or it would have the opposite effect right intermittent reinforcement rather than punishment. Yeah. We want to just find ways. Do you want engagement Define what those behaviors are and I get set up the mo set up the SDS set up reinforcements contingencies that are actually going to produce that. You know, it's I hate to say Because I but maybe it will be encouraging to people it's not that hard. It's something you're already doing with your clients, but we have to just translate level all people. It is human behavior human not a developmental disability Behavior. It is a human behavior. You can do it with your husband. You can do it with your friend. You can do it with kids that don't have disabilities. You can do it right now. I could do Italy or Maggie like right you guys are crushing this podcast guys. Maybe they're like, yeah, or I can be like okay time. Time's up. So we gotta go and then it's punished and then we might stop but no you can do it. Anyone really. What is something that you see in that you've seen a manager and you're like you are just a badass. You are doing amazing people love working for you. They love this environment. You have you've done it baby. What what are some characteristics or operational definitions? You could give of different behaviors that you see of a badass manager and what can someone listening to this due to be a badass manager supervisor director call it fish badass managers take data on their own behavior. Bringing this down because because if you want to Be an Effective again a bit effective Behavior change agent, you need data to show that you're being effective. And if you if your data shows, you're not being effective then about ask manager changes their strategy. So not being just like tied to one way of managing an employee and that maybe is my second one is bad as managers. Remember that reinforcement is individualized. So what might be reinforcing for one person's workplace behaviors may not be for the other one. But if you have that data, you can find that that issue and make sure that your reassessing preferences for that individual or redesigning their workplace. So that it is reinforcing for that person's Behavior. So what you mean by that I'm assuming that not every person is just motivated by money. Yeah, like the generalized conditioned reinforcer that we often. No, she ate like okay. Yeah, I'll pay you extra to do this. Right that's not necessarily the right not necessarily the case and not necessarily always available. Right? We can't just always I'd love to pay $12 like sure that would probably change some performance. Maybe not though, but you know finding out getting to know your staff just like you'd get to know your clients like build rapport. Hashtag your hairy pair. Yeah. And be flexible, you know, just because you don't I'm going to bring the same the same silly anecdote that keeps the came into a be a study notes classless last time, you know, one of my favorite stories of odd reinforcers is a client that is his most preferred item was being able to carry a breakfast sausage in a plastic baggie. It's that's not I don't know if you've ever seen on the Instagram or the Facebook about people posting. Like most interesting reinforcers, they seen with clients. It's so fun. Like I totally weird right now, like a piece of grass a piece of grass that one piece of crap out of them are like vacuuming is very popular. My son was a was a huge and evacuating. My nephew is huge in to vacuuming. My brother is huge and to vacuum if you don't have a Dyson you are not cool compared and I just got one not to brag concern Earth. What does the word according to my nine-year-old nephew? It's true though. It really as I got. One it's totally worth it. Yeah, preference assessments are huge. And again, like you said individualized for each staff as you would individualize for your clients. And if you start doing preference assessments with how you deliver feedback, it will change your life because again people have different preferences there and even though you might like especially I'll go throw myself under the bus like I don't like being called out in a public setting what by sorry not reinforcing a lot of Sorry, sorry, I punished her for getting her doctorate and taking care of her students. I'm so sorry. I won't do that again. I am much more likely to like like I think I can I don't think anyone from my school will listen to this. I'm not a huge fan of faculty meetings, right? Because that's like a big audience where people are getting Awards and things like that. Like I am I am probably going to avoid that situation. It's definitely not going to be reinforcing. Well, thank you for being on this podcast because you're going to get lots of attention. We are about to blow you off. Up. Hopefully you blow up, you know the behavior of going into OBM even if it's scary. I hope people are doing that. Yeah, I agree. But now you've totally opened my eyes in mind to it. Yeah, you're already doing it already in it. Well it so just remember that your employees might have different preferences to so if you're not seeing Behavior change and that would be one of the first places to look great. Are you actually providing reinforcers that are valuable for that person and a lot of times they're not monetary. I bet I bet. A lot of your employees love the fact that you will actually go out on the floor with them and that actually creates some Behavior change. I see that I've and I've gotten that feedback is it's not so much about the money but it's coming from a new organization. Like they've come from an organization that provided zero training and they were put in really scary situations and to come to me where I'm like, I'm not leaving you for two weeks girl. I got you bird man who ever there's not many men this build but or at least the direct support level, but I'm like no I got you right here like you don't have to worry. Out anything until you are a hundred percent ready to be alone with this client. And if you're not you tell me and again though that comes like that. I'm on a salary that does not know we are near cover the amount of time I have to put in but I do it because it's again monetary for me isn't as reinforcing as my staff being happy. Like I could get a salary and be doing half the job I'm doing but I would have people that were not happy and I don't like people that aren't happy or safe or you know feeling supported and that's Biggest thing is you have to get support a huge that one article that I accidentally sent to both you yesterday, but I meant to send for you to read Casey but that article by ronit molko that the PHD bcba. She does a lot of work on it seems like she does a lot of OBM herself with these different agencies and the one quote in there that she said is that employees who feel invested in feel valued, right? So like If we're showing that we care about them individually, I mean, these are also like an all these basic business books you read to I mean, like even How to Win Friends and Influence People, it's like just call them by their first name, you know, like say how can I go around my office during the day when all the clients and staff for their and I do this thing and I think it's probably ridiculous, but I'm like, you're awesome. You're amazing like Kai fives like just for like no non-contingent reinforcement. Like just give them make them laugh make them smile make them feel. Noticed make them feel that their job matters and it takes me five seconds to do that. I get my office. I leave my you know my desk and I go out on the floor and I'm like crushing life guys. Do you want awesome look how you know, like just little things like that and that is something that they don't teach, you know, like, you know, like attention is huge like a huge reinforcer that alone. I mean, I know a lot of my these when I was working in a clinic would love when I would just like Maggie said go out and actually get on the floor with them see what they're doing model things for them like that. Those things alone are huge and it's also benefiting view because it's your client. Hmm. Now there's something I want to talk about that really warms my blood and I've seen it so and I hear about it people reach out to me all the time through study notes saying they're in these different dilemmas and and Ben and it myself and it's in the field of ABA and I'm talking because I know this field but I'm sure it's in a lot of other fields too. And this topic is done done done non-compete Clause has a non-compete Clause meaning. I work somewhere. I work at ABC me behavior. And listen, I'm giving you your supervision while you're here. Okay. I'm the bcba your the are. BTW the behavior technician and you need me to supervise you okay fine, but you can't go work anywhere else within a hundred miles for five years five years, or you have to pay your company to pay me back for my supervision now. How does that reinforce anyone behave like what the hell if especially? I'm sorry, if we are behavioral agencies working with behavior. Why are we putting this punishment contract into place? Well, how do you feel about these Maggie? So who I was so excited when you when you said you wanted to talk about this. It really pisses me off like really I have seen it really hurt people and I think that that's Not the point of our field right but I think that I've tried to step back and look at it again. Look at the contingencies that create these types of behaviors because putting a non-compete Clause into your hiring procedure is a behavior and I think it's really out of fear. I think that you know, if you have an agency where people love to come to work, they maximize their reinforcers when they're there. They see you that the work they're doing makes a difference then you don't need to worry about I'm leaving and they leave they're probably going to go and do good work that you couldn't do in your agency. They're going to go do more things. I mean, there are so few B cba's none of us do the waiting list at your program or do you have right? None of us are hurting for new clients. I could get a job at 400 different places around me. Literally while we're sitting here. I just got offered a job in Baltimore. Okay. I just got to my Apple watch so in feel it. It feels where demand is really low. I think non-competes have a different function, right? They are meant to protect an agency from losing employees that and then they can't get any more. But when I see non-competes in this field, all I think is wow, you must not have a good management system because we are different believing and I think it is against I think that they go against almost all of our behavioral principles and and just Skynyrd's vision for what this science. Supposed to do we shouldn't be getting would be pissed. I'm just saying what he's rolling over right now. Yeah totes he's pissed Skinner is pit because all that does is reduce behavior that you just trained right? You train someone to go do something. Well, we don't want to punish that behavior. We want them to go always say to into our to our own treatment plans like always use reinforcement reinforcement reinforcement first punishment of the last thing and it's like, but if you leave us we will never let you rest. If your life there, I think that's my f bombs that I used to. I'm not sure. Well, I think you're very hot topic. I think we have to be really careful. If you're if you're considering using one of these I think you have to be really careful because we actually have ethics codes that go against them to as supervisors. We are not allowed to exploit people that are that report to us and don't have to supervise them. Anyways, like I'm saying like these are our clients. Okay. Let's say Joe Schmo is a little client you Have with autism. I'm just talking about an autism clinic for example now, right? This is my client. I'm the bcba. Okay, I have an R BT who is doing all the hard direct work with this client, but it is still my kid. Like if something goes wrong with them. It's under my name. So how can I have someone working in my place and not offer them supervision? Right? What well and that's kind of what I hit I actually have a personal story about non-competes. I had a student who was under a non-compete agreement was completing your supervision hours getting ready for the test. She was incredibly great clinician, you know, just very skilled very flexible great great Behavior analytic knowledge and as she worked for this agency, she realized that there were some things going on there that were that were violations of the ethics code. But that put her in a really interesting situation because she had to choose whether she was going to uphold our ethics code which all of us would hope she does right. That's that's the goal or pay $8,000 to leave that agency. She's awesome. And and to me that that contingency that is exploitation and we actually consulted with dr. Bailey himself who is very accessible. I don't think people understand that if you if you email dr. Bailey like the Bailey and Burge Bailey, he will email you back and guys that's from your ethics book as in like Bailey and versus she's saying that it's like your ethics like you all better have that book and be reading it if you're studying for the exam. Yes, please do but don't hesitate to reach out either my state in New Hampshire. They are non-compete clauses are actually illegal in my state, but I know of agencies that are requiring them and I've had a few friends who have gotten hired without that being a clause and then implements as a clause like two months into their job and I mean and how I messed up is it like here? I am a hot commodity being a bcba. We do not have nearly enough be cba's out there right and now I'm in a city and let's say it's somewhere like where you live Casey, right? Yeah. You can't go what rural area like, yeah. We can't go help anyone else know for a 200-mile radius. So I would literally not be able to work as some of these I've heard these non-compete clauses from friends of mine that have left that job because it's insane like literally you could not work for to I think it was two years within a 200-mile radius providing any Behavior analytic programs or skills. And so that would be any job you would never who could travel over 200 miles to get to work for two years. You couldn't so it's weird God. We've all been just talking. How Behavior analytic work can be any work with humans, right? You're gonna have to go. Yeah. Well, you're not to go 200 miles away and you're going to have to work with at Home Depot. Yeah with go humans just just makes a good thing loving each other talk and make sure that they're not doing for sales and they should be like better than taking on how much your stocking shelves don't try to improve that workplace either. Yeah, so just talking about this. Behaviourally the the non-compete would be A Punisher right or well only but only if it decreases the future frequency of behavior. It's maybe an aversive stimuli. It also could be like an antecedent intervention in terms of like a scare tactic right? Like you're threatening like a threat is not a consequence. So I'm trying to think what it is right now. I'm not saying I think I'm mostly dealing with rule-governed behavior in those instances because people aren't actually contacting those those contingencies directly. But if they do if they do it's likely going to punish their behavior of going to work somewhere else that has that contract in the future. Absolutely. If it did then it would be a Punisher. Right. So what is and I'll turn itive. I know we're getting kind of long on time. But I just want to what would you say a good alternative is to get someone to say, you know, like offering them something that increases over time. Like what is I mean aside from a quality happy workplace to be in what is a good alternative we could use instead of non-competes instead of non-competes. I think I would just say reinforcements right like provide. Yeah contacts that they can. Into that is positively reinforcing to the behaviors that you want to see. I mean if you have an employee that I mean, first of all, first of all, you need to build trust in your organization, so that employee can come to you and say hey, I think I'm going to leave and you do that by making sure that your verbal Behavior becomes an SD for a reinforcement. If I tell you that you need to do this thing. Then I'm telling you that there's an opportunity for reinforcements. That's I think that that builds trust and then in the you haven't please I can come and say hey, you know what? I am thinking about going to another agency because my commutes too long. Well great. There's a problem that you can solve rather than having this big ugly non-compete Clause that just makes people figure out how to get out of it. You could actually try to fix that. Hey, maybe we need to do some job sharing. Maybe we need to look at your case load and see if we can readjust, you know Finding solutions for those actual problems rather than putting this blanket rule over everybody that's in an agency. I said do you want people who like when I hear about these different people reach out to me through the study notes thing and they're like, I'm so unhappy here. I haven't got any supervision. Like I literally like I mean, but I apparently I've got my quote on quote supervision here. So what do you want people who aren't happy and like, I mean, that's also what upsets me like you you're trapping people in somewhere. They don't want to be well and I don't think that those people then like, I think that's what you're hinting at. They don't then behave the way that you would want them. To behave in your agency and you re cleaning them they didn't leave but they're doing crappy work or they can't lose their sign to court and they can't leave. Yeah, I like that. You said though about finding solutions for the problems that your staff may be having and making yourself available for reinforcement making yourself trustworthy. I've had clients staff come being like I'm just not happy and this with this client due to the Z and I'm like, okay. Well, I know that you do really good work. So why don't instead of you quitting or giving your notice because of things that I can actually solve I can solve those problems, but if they never came to me or trusted that they could come to me to express their concerns, then they would just leave but instead I'm like, let's find you a new one. We got plenty of people that need help and I will find someone else for that that may be a better match and I don't want to guarantee it but I could almost guarantee it if you have those conversations and they still end up leaving your age. She's not going to suffer. They're going to go talk good things about you. They're going to go do their job somewhere else, which is great for every for the community, but they may even you know, if your workplace that they still enjoy but let's say let's say it is a commute issue, right? You can't fix it. Yeah. It's a money issue or money issue. You can't fix it. You know, they may send you the best referral you've ever had as an employee or you know, they may go and work for an agency that has a huge wait list and say, oh, you know what? I actually know another That might be a good fit for you. It's not going to it's not going to turn out as badly as you think because I'm a huge whirring in my ear and I'm like, I think my employees are hearing me who's talking about me. You're always saying good things. This is really great Maggie this I was really not nervous but a little apprehensive about this episode just because I wasn't sure if I really understood it and after talking with you I have you could see see my notes no one else on but I have ripped up my outline with notes. I've never taken notes on a podcast before don't like writing all this stuff with me one thing about you. Let me give you a compliment cause I think you actually do like public compliments come like Maggie according to my preference assessment I've done with you. Yeah, you are like literally the best student ever like no matter what class setting you're in I mean whether you are in my Collective when I was teaching you you were like more prepared than me now. You're teaching the study notes Collective you watch every video before class. You can notes again. You've basically sat through it like 30 times. I took nervous. You are the best student like keep that up. That is amazing my best friend Whataburger. Just just I want to continue that chain of reinforcement. Like please keep being a student. Once you get those letters. It doesn't stop then it starts then my God. I have a awesome quote you guys, hold on cause I know I love to pull this. Shit up from the podcast. I listen to please talk. I just didn't want to tell you one thing that guys that I just got this app called blankest you guys heard of it all like the top book and 15 minutes like all these that today I listen to three books. I read three full books. I listened to Tipping Point. I listen to how to make people like you because I've really been having issues with that. I'm just getting I know you guys all love me and one of the things was saying in this is A side note not related we're talking about it's like if you come across a good quote or something say it a lot and write it down so that you could use it in the perfect moment like Casey you are falling into this issue right now that you can't remember the quote. I know I have it written down. I found it. It's a - okay, it was behavioral observations podcast love him. And I think we all like should listen to as many podcasts as we can to be a well-versed human being but he always had someone I believe it was, dr. Pat Fryman who I am obsessed with And he said getting your degree and certification means you are literally just born from the womb and now you must begin learning how to walk and talk and then also keep studying and learning as a professional as a behaviorist. We have to be able to work with people who don't think like us so being online and continuing to study and I think being able to teach say no se va is making me always on the ball and I love learning my best friend says she's like you're a student for life. It's just what you love which is why I To become a doctor to Maggie. So if you have any PHD programs, let me know. Yeah, let's let's chat off. Are we also give up for shownotes? Can I give some reading and podcasting? Yes. Yes you to get that please. What? Can you tell us right now? And we'll put them in the show notes also, so this may not be my comprehensive. I might send you more when I have time to write them down my butt off the top of my head. The my favorite OBM books. If you're a book person would be there's a there's a series of four books called OBM applied and it's actually applied with an exclamation point getting anything right now. I think that right now in Egypt I'm typing on Amazon. It's pretty reasonable. It's got great information and it's kind of set up like a workbook so you can really take people take it will be M project. Yeah, you can take an OB M project from like step one all the way through social validity and follow-up and it does cover some of those higher-level kinds of analyses that you could do, but it's very readable. I love it Shannon the Auggie and I'm pulling it up. Don't worry. I got I love Shannon boggy, by the way, and this is a guy named Daniel Sundberg or something Sundberg and and also isn't a Rodriguez Manuel Rodriguez. Manny. Manny is great too. I think that's probably one of the most readable OBM kind of books that you could go and start with supervision. I'm not going to say like go run do this on your own but but with minimal additional help you could actually conduct an OB M study in your He's Asian using that obviously you need Bailey and Birch also going to say Aubrey Daniels bringing out the best in people. I have to read that one. I have the Performance Management when I think Performance Management is great for textbook. I think bringing out the best in people is like that that OBM book that you can read in your pajamas a before bed and still like feel like they're reading fiction, but it's really good information. So pumped for that. Oh, I hope it's on blankets and then probably Lee I'm going to say instructional design made easy from dr. Guy Bruce and major and pipes analyzing performance problems. Hold on. I'm probably gonna be a huge huge list later, but they have to give us to these these ones written. Yeah. I'm typing I would just text us later and why welcome I'll do them. Okay, so I know we said we were going to make this podcast shorter than the others which I am definitely realizing it's not but we had so much good stuff to talk about with dr. Maggie Pavone. You are amazing and we're so grateful that you came on this podcast today. Yeah you guys for having me you guys I love having any feel like there's a lot more. I want to ask you all. So we had to bring you on talk about eating disorders. We got to bring you in to talk about chronic illnesses. I mean, we're not even with usually the liad Kathy and Maggie show started. Well, it's a it's good company to be in I appreciate it. You guys are awesome. Please don't become the assholes that we've been talking about today. Just amen. Seriously? Yeah. Well, thank you Maggie. And also thank you all for joining in and listening as long as you have to all the amazing things that we have to disseminate. We have a lot to say we haven't spoken. I mean we had it last week off when I know double know. Yeah, so go subscribe to us Apple podcast Spotify podcast any podcast platform that you listen to We are sure to be there. Thank you to Alan at pretty easy podcast who gets us all out there. And also if you can like we said subscribe write a review if you love us if you don't love us than just don't write a review. We're good. Thank you. Good night. Good day. Have a great session. Whatever you're doing. Good. Bye. Love you mean it. Hey guys, it's Lia out here. And I just wanted to take the time for just a single second of your time and tell you about something awesome. As you know, Casey and I are super into this podcast thing going on here and getting it started and I just want to let you know that there's an easy way to get it done. And that is what I'm going to tell you right now about pretty easy podcast. Thank God we got in touch with the team at pretty easy podcast they help you do. Everything from start to finish they will get your show up there. They will record episode for you. They will produce it. They will add bleeps in if you're full of f-bombs, like myself whatever it is that you need they will do it. When you first said you want to start a podcast. I was like, okay we can do that. We have no idea what we're doing. I never really thought it would get off ground until we met Alan at pretty easy podcast and He put all my fears to rest. He helped us get everything going from all of our audio editing and production and hit our song that we have which is Amazing by the way, we're allowed to record from our own homes. He helps us with our guests. He caters to our schedule. Come on Lea. We are the worst with scheduling. I mean, I know we said we're going to have a podcast a week so far were out a few days, but hey, he works with us. That's what we need. But Point is we were looking at how we could download all these different programs to try learn how to do all this podcasting stuff. But truth is it's affordable. It's much easier have someone do it for you. You could go to pretty easy podcast.com and you can get started today. I say go. I say if you want to be heard if you have something to say like we do we love the sound of our own voices, and we found Alan who lets our voices shine. So, thank you Alan at pretty easy podcast.com</td>\n",
              "      <td>In episode 6 we dive into how the F to keep employees happy through the field of organizational behavior management. Organizational Behavior Management is one application of ABA. Special guest Dr. Maggie Pavone is here to talk to us all about OBM and how the science of applied behavior analysis extends to many fields, not just autism. She is funny, smart, and relatable (duh, just like us). We talk about how to make employees stick with your company,why non-compete clauses suck, and the importance of providing feedback in a way people prefer. Tune in because we know you missed us last week.  Reading Recommendations: Journal of OBM Series of 4 books called “OBM Applied!” (Most readable). Aubrey Daniels, “Bringing Out the Best in People”</td>\n",
              "      <td>show_06DN2th96dYmRtHEQFNKTo:02LLN4j48wMJQW7rscn8e1</td>\n",
              "    </tr>\n",
              "    <tr>\n",
              "      <th>2</th>\n",
              "      <td>Reluctantly crouched at the starting line engines pumping and thumping in time. The green light flashes the flags go up churning and burning the yarn for the cup. They definitely maneuver and muscle for rank burning fast on an empty tank Reckless. And wild they pour through the turns the prowess has potent and secretly Stern as I speed through the finish the flags go down the fans get up and they get out of town. The arena is empty except for one man.Still driving and driving as fast as you can the sun has gone down and the moon has come up and long ago somebody left with the cup but he's driving and driving and hugging the turns. I thinking of someone welcome to talking Giants midweek / game preview show because it's Monday Night Football. We're doing a little a bit of film review a little bit of mail back in a little bit of the preview the Jets game, although we usually get into a lot of x's and o's of what the Jets do and how I counted it. We're doing talk more about the Giants than that. Anyways, I'm your co-host Bobbi Skinner coming to you from Florida on the East Coast on the north side of the East Coast. I'm here with my co-host Danny King Danny Monday Night Football is kind of in the rearview. We got some things to clean up from it. How are you doing? How are you feeling about? And you know how you feeling going into the MetLife Bowl week be quite honest you I thought you actually said Mike one you I thought you meant to say Thursday night football. And but I forgot we played Monday Night Football feels like an eternity ago that we played on Monday night. But I mean I'm down going into the MetLife Bobby. It's always a fun time the MetLife blow, you know, you got neighbor against neighbor you sometimes you got like household are divided. It's always it's always a fun time. But this year's MetLife ball. I mean to get to Too bad teams, and I tweeted out like this game could be hilariously bad at some points because the Jets who knows what the Jets are doing, but the Giants I mean, they they're capable of winning, but sometimes they just don't play all the way through but it's just it's just a fun time. And then this is really to me the only other important game of the whole year. If we don't beat the Jets now, I don't know man. This is the game the Giants have twins the playoffs there there. There's no hope for them. We have to beat the just to at least have some form of Victory this year. Yeah, so we'll get into the Jets preview later. I think I'm going to put the let's go to war song ride in the middle of the episode baby. We're just going to put it's gonna be like a two for one episode anyways, but I wanted to make sure they're clean up some stuff from the Cowboys game because I think there's a lot worse cleaning up that we didn't cover on the on Tuesday show first, you know, the Red Zone struggles were like the biggest storylines. Like, how come we can't convert the Red Zone man. And you know, what's crazy Danny is Wheeler kind of labeling like Daniel Jones truthers like oh you do you just you love everything Daniel Jones is does and I feel like I've been like so critical. It's like I almost like I feel bad almost feels like you're my guy Daniel don't I'm just being credit like I'm pouring out his mistakes and you know what there was mistakes on Monday night in the Red Zone one of the third and goals there. There was a open Evan engram on a corner out. It was almost like the cynics. It was close to the same. Play that his first touchdown of the preseason against the Jets was where he should have made that throw you should have the balls make that throw and I think he would have been like a pretty standard touchdown. He doesn't make that throw and then it goes the other third and goal. There's three of them another third and goal. Danny was the one where he kind of like rolled out to the side and take home was sitting there and he eventually just ran he had slate and just sitting there 101. I don't understand why I like sightings are guy who's won those jump ball battles this year who? Out of the 40 and a half inch vertical jump. I don't know why it is didn't give him a shot. He just kind of, you know ran to the ground and like wasn't going to get the first and then the other one was a decent Blitzen sent by the Cowboys and the o-line didn't pick it up. It was it looked to me like it was on her lap. I feel like I just want to clean it like those 3/3 and goals. It's like and where the doesn't play like a caller claimed. It was kind of fun Daniel Johnston back and he didn't he didn't pull the trigger twice which is you know, that's like unlike him he's using some of this, you know willing to pull that trigger. But like I said, I don't want to be over critical of Daniel Jones though because these these are like rookie mistakes, you know, so, you know, they're the fumbles and all that like the rookie mistakes and I was I was even talking to somebody today that is not a Giants fan and I was looking a lot like I'm really not worried about him all but there is mistakes. He's a rookie it making mistake this stuff that will get cleaned up and you know what Danny? I'm sorry. I'm ranting and not letting you too. But after the Arizona game fuck, you know, he's got to learn to pick and choose and find those Tech towns. He did it against the Detroit. So like he's just a learning from week to week to week. He's got to get better and I fully believe that it will That's the problem. I guess sometimes like New York fed. We forget that he's a rookie and we just in general. Sometimes we give players a rookie. They're gonna have rookie mistakes. And while we expect nothing but the best we're going to deal with that. We had Eli Man and who was it who turned out to be a fraud seven sixteen years Eli Manning. He did a we didn't have to deal with so much rookie mistakes, and I've only had to deal of rookie mistakes. We think that the end of the world he's a boss. He's not going to succeed in this league. We just have to tone it down obviously. We all know he has issues protecting the ball in the Red Zone office. This week was apparently a major issue really wasn't past weeks and then decision making I feel like he's improved his decision-making. He has checked it down when he needs to check it out. He's not forcing the ball. Now, you may say I'll buddy force that ball at the half before the half of like yeah, that was a poor mistake. But once again, I love the people sorry. I hate UI love the revisionist history on that decision to like try and score. For they're like, I put out a post. I've been out tweets like you gotta go for it lots of likes on it and they go for it. It's like you gotta play it safe for getting the balls like bull crap. Like, you know that people that would have been on the other side if they just ran it three times and went into a half and they're like there's a whore but it was a bad play called by Shermer like was it was it like was the play called? Hey Daniel Jones throwing the double coverage and Darius, like don't get your hair. Like was that if you think that was a play called then I then I agree with you. Click all the play called wasn't hey Daniel Jones. You got covered three throw the double coverage in Slayton. Don't get your head around on the play that I'm I'm pretty confident. That wasn't the play call. And plus when you think about it pat Curran been aggressive in this situation all throughout the year. He's not gonna be conservative when he has an opportunity to go out there and get point. He's gonna get points. But also we have to remember guess what a learning experience or Daniel Jones run the two-minute drill now maybe this was January Jones leg er5, maybe there wouldn't be this much aggressive but since his rookie year get him in those. Those two minutes girls have him run this offense. It's we all know Sherman was not the issue in this game. Now we have I said some things that were I'm trying to think of the word. I was very hot a key if you want to say like that. I think we both were we were frustrate. We record a right after the game. It was like Eleven Forty or something at night. We were frustrated that John has lost that game. We had to say up a record. So we're said things that we're going to take back and we're We're changing some of our narratives from Monday's show. So we just to make things better understanding of Jones the rookie and we're going to deal with these mistakes and it will get better as you mentioned. He made the check down decisions. That's a problem. We said he had and he's made the adjustment and on that fumble play which he had the ball knocked out. He tried to tuck it away. I'll give him credit. He did he talked it away. He tried his best, but just it was like just a angle that the helmet head like his elbow or something in the ball just popped out so he did his best to protect him, but unfortunately was fumbled and now all we have in our Mind is that is ball secures initiate while it is he made an attempt and that's something he really had it done on his past almost like that. One of the Dallas game his very first time he didn't make any attempt to hold that ball. He just went for it and it fumbled so it's we're just have to deal with the ups and downs of Daniel Jones and like like now people are like completely thrown away that the Troy came he had a great Detroit game. He didn't have the best of Dallas games, but he made good decisions here and there he made a poor decision. But once again, he's a rookie and he's gonna learn from all this. Yeah. And there's criticism to be had a passion like and I and I clarify was like listen II do criticize patch. I'm just not freaking out. Like I will say this bothered me the was 6 minutes ago on fourth down and we didn't go for a renowned two possessions. You got to go for it that he seems so inconsistent with that guy with like those kind of things like and this original as well. Yeah, that actually leads me to a good point though because take one had the 68-yard screen pass. And I've been seeing this narratives like do Carolina like does so many things to get stuff open for Chris McCaffrey. They make it easy for him. They make him a focal part of the offense. Like it's Christmas Caffrey has always opened and they have them running routes pack. Summer doesn't do that. Well one and I saw someone make a good point Greg Olson remember he was commentating on the Cardinals game where he said he's like this giant office uses stuff from Caroline, so, We're using some of the same things like that Carolina does with McCaffrey and Greg. Let's not like Greg Greg. Olsen is literally on the team now so he knows what plays are being read and too. I saw a fake one run wheel routes on Monday night. I saw him run Arrow routes. I saw him run out routes. I saw him line up wide and I saw him take a screen pass 68 yards and to be honest. I don't think he's fully healthy because he wasn't on the field the next week plays because of that and he just looked like he wasn't hit the holes hardest I eat like I understand you had a big play, but he just doesn't look that like fully healthy to me. And you want to know something say corn and McCaffrey's like yards per catch average is separated by point two yards. So I know this point has been repeated that Caroline Caroline. Does this you know, what it is is you we see the highlights from the Carolina game. We don't watch the whole Carolina game. You're seeing the highlights. You're seeing these big plays from the Caffrey. I watched that London game against Tampa. Guess what McCaffrey's like best best catch was it was just a check down he breeds. Two people and with 30 yards for a touchdown wasn't some crazy scheme. It was just making a good play. So I just feel like we forget that the whole world doesn't revolve around the Giants and we see highlights of other things and it's like that's doesn't tell the whole story. If you look around the league say Quan, he'd been used more than some running back and you hit it on the head the guys coming off a high ankle. Sprain. I'm a few. I don't think he's fully healthy. He seems very hesitant at times while that Detroit game. He didn't seem hesitant. Maybe it just spurred up a little bit before this game and her just a little short. We don't know what's going on say Quan. He's not going to tell us. Yeah. I'm injured he I mean, I think he for some reason he they mentioned something I like that when he was being interviewed by like moss young and on Monday night countdown. Like his ankles those are like fully there but still he's getting used and it's just up to Daniel Jones if he wants to pass it to him. It's at but when he's running and he just got shut down that Dallas game and the difference is between us and Carolina Carolina there. They try everything with Christian McCaffrey. Like he's their focal point of their offense. He's out there like every snap pretty much they Quan he gets brakes because he's a normal human being I don't Carolina just run a Christian McCaffrey into the ground. So yeah, that's it. Yeah, and he's getting like somebody has a game. It's ridiculous. He had 15 plus touches again. I went and looked at the numbers Danny. Yeah, she's getting 15 plus touches every single game in Quan Quan, Berkeley. Don't want to you know what this season's loss. I don't want the Run Sake One to the ground. You know, it's a rebuilding year and you know, I think pastor Murray has and this is just a guess. I think Dan McGann is totally listen man. Like you don't have to go out and coach for your job every week like this season's over we're rebuilding like don't lose your mind. Don't run sake 1 into the ground. I don't know. I'm literally guessing what that so yeah. I mean, that's I don't really have anything else on the office. I think Jones Miss some guys. He made some really good players, but I think he did miss some guys. Is he even on the play before the touchdown? He miss a wider than Benny Fowler. I mean a why of him Benny Fowler and his eyes sheds rare. Yeah, and that was that was a play. They ran at Duke to member coach cutcliffe to that got film room for us like that play was on there. It was the play it was there like a fake RPO if that makes any sense. So fake our po 2 yard line and your slot guy runs a slant at that safety and linebacker Pullin. You got to hit that slant. And it was there he didn't hit it. So there is Guys open that Jones just didn't hit on Monday night. So like and that's what that's rookie stuff. Yeah, and also since I want this was really the first month at first game, we're really feel like the read option Daniel Jones took himself. He did not take it that many times when the read option if it was ran in the past. So it was another thing to John's out of the Jones Arsenal and the Cowboys. They took advantage of the I did the Cowboys are still of the mindset almost that like, it's Eli Manning for a majority of the game because Dan Jones when he was able to run and he had a whole lot of room. Iran is like that for like oh God. He's our he could he can't run. So this offense it's it's still coming. I wanted we still have it to this office with all their weapons. Now most of them are there, but we are without Sara Shepard so and I don't we I'm not expecting to see him for the rest of year. But this often it has the talent to win. It's just something sounds like something just is a click and every once in a while and I truly believe this offense. Next year will be great. It's just can they figure out why? They can't finish the game because that the that first first two chords of Dallas they were getting they were getting drives going obviously intended a field goals, but they got down into the red zone. Why does this solve a set of stop happen in the second half that this offense just falls apart. They can't get consistent drives going. That's something that we don't have an answer to at least I don't have an answer to and that's something I got to find out this Sunday against the Jets and they're at the figure that out going to buy because even after the by there's still a whole month of December of football and they're still at least Two weeks of November left so they still got to figure this out because there's still plenty of football left to be played and I know some people are like, oh get a good draft pick. I don't at this point. I just want wins. I I'm past draft picks. I just want to have when in Sunday for one day and be happy talking to you after a game because I've not been happy to talk to you after lost five straight losses. I'm frustrated. No offense Bobby. Yeah, it's her it's her it's hard in these streets, but John's went down like like it's like it's like a drug. You need a win. We have a Godwin and we're craving that right now. I know I know we need our fix the other thing. I wanted to move the defense real quick. The other thing Jaylon Smith is so freaking good. He had a better performance in any Defenders had against the Giants all year better than Shaq fare better than Stephon Gilmore IR Stephon Gilmore. He was a beast man. Like he had a huge role in this game. And that leads me to my next Point as we switch over to the defense some of the cleanup Ogletree and David met He'll suck over now. I'm sure he's not. Ogletree is what it is at this point. He's going to have games where he's making plays and it's gonna have games where he's just like lost and horrible out there. That's what the house like when Zeke like said like, oh the easiest hundred forty yards to ever gone. He wasn't joking. It was there's holes line up. They ran that outside Zone all game and what the difference was is that they could constantly block mayo and Ogletree they could constantly seal them off. We're on like the other side ro1 could never see law. Awfully and and Smith is constantly and that's why I like people have come at me for saying like I think David made it kind of sucks. I could get some tackles and when he's like the number two to kind of aggressive guy and calmly like he has some good moments, but I think David male sucks. I think Tay Davis is better than him. Hey Davis has better qualities. And even I think I even said this on Tuesday show, but David males just not a good middle linebacker. He should not be a starter for a team and I get that injuries are part of this with Ryan Connolly Don but liked a Davis should not have moved on to keep the Male around David males not a good football player. I don't care how many tackles he wrecks up. Give him a right. He's not the best football player and we still very much differ on the teide this thing. I'm still a firm believer that we should have kept BJ Goodson obviously wanted a package now. He's not doing much with the Packers but I still feel like he would be a better option than Taye Davis and David Mayo, but we're stuck with if we ever are calling we wouldn't be having this conversation, but unfortunately an injury happened now at the deal of to have a male and I'll go tree. He gets the job done at times. He has mistakes here and there but he's still a quality middle linebacker for Giants what we've had over the past few years. It's gonna be very interesting how the Giants handle that position and the offseason whether they trade all the tree do they caught him do they just keep him in pairing with Connolly? That's a position that will have to watch in the offseason. I feel like maybe the giant if they are gonna get someone I don't expect the free agency pick. I feel like that would be a draft choice because you want to have a young God to pair of Connolly because they want to get that And land vanderock Jaylon Smith combo. Obviously, you're not going to find another Jaylon Smith in the draft. I feel like he was just a gem even have to hold knee injury. He had and Notre Dame so they just got to get the ice. As I said, I feel like Ryan Connolly is are late and Vander rush now. I'm not saying he's as good as Van Der s but he's like are comparing virgin and we need to find a Jaylon Smith for Ryan Connolly and I feel like there's gotta be someone out there in this draft that could pair well with him, but yet the linebacker position. It has been a problem for years for the Giants and while with tree if felt like a good sign at the time he has a blown anyone away and he's had his games here and there but like 2728 team is his best year 2017. It's been a down year for Ogletree. Yeah, I thought balance I'm at some good moments obviously had some bad ones, but I thought Ballantine had a good some good moments Baker did not have a good game. But let's we were all talking about how good baker has been since week two hee hee. He's learning he had a bad game Pancham. Yeah, and we'll get into that in mail back. Anything else. Anything else came before we had to mail back? I'm trying to think I can't think of anything else. I think we covered. I think I mean, I mean I said I said this to you before we start I just want to give an home the Fair Credit. This is the best game of the giant so good, but it's still with babysat for Antoine Bethea. And this was like a very little step. I mean, I guarantee you this Sunday, we're gonna be like ranting on Antoine Buffet, but small steps Antoine small steps, I think quick You won't get into the mailbag. So a lot of people starting podcast today. If you haven't heard about anchors to easiest way to make a podcast. Let me explain it's free their creation tools allow you to record edit your podcast right from your phone or computer ankle will just be able to distribute your podcast for you. So it can be heard on Spotify Apple podcast and many more you can make money from your podcast with no minimum listenership. It's everything you need to make a podcast in one play download the free anchor app or go to Anchor dot f m-- to get Started you'll be glad you did. Melt here's the mail it never fails it make you wanna wake myself 20 comes I want to well. Thanks, Steve from Blue's Clues Danny. Let's get in through the mail. First question comes from Jeff board at underscore. The Boyd got a little wordplay there the Boyd wonder he s he has what's your guys takes on Williams. Do you think he's in here for the Long Haul he better be or else we're gonna have a major problem. Yeah. Well, there's a report that they want to lock him up for it before Thanksgiving released by Thanksgiving. So he's here for the Long Haul. No Josh did not trade for a guy answer free agency. Lost year just half and walk if they do that gave government. I want to get checked out by every doctor known to mankind and then I want him fired right after that. Yeah, that would be like like, you know, there's definitely some like hits on galvanized record more. So in free agency, but that would be the one room like that's just unacceptable like you traded Pieces away and you didn't bring her back. So yeah II a hundred percent guarantee that he'll be back for the Long Haul and then as far as the Cowboys game, I thought he had good moments, but overall. Overall, I thought he had not a very good game Travis fed your pancake them on one play. So and I you know, I was I was an advocate for the trade and I'm not like saying I'm not anymore but I will say I wasn't really impressed with him from Dallas. Although was there was some a few fat a few flash place. I wasn't expecting at least me personally go out there and jump off. Like I was like, it's his first game he's gonna have to get the feeler. I mean this he's got an opportunity to go out there and hits him down and I mean, I expect him to lay the load on good old Sam that Trying to get a roughing the passer call. No and Leonard Williams. He got one on Dak Prescott when he's actually like pile dragged him into the ground. So good old letter was I yeah, if he's not here for Long Haul good boy. Next question comes from a mall. He has Mall season 11. He has will Gelman go after big names in free agency. He hasn't really gone after big names while he hasn't had the money for the past years. The Joshi has really gone out there even with Carolina feels like a got big-name guys. She's more of a big boulder was only one. Yes solder but like that was because he desperately needed left tackle. But I expect at least get one decent big-name defensive guy least that's was my fault. But I feel like he's still focus on building this team up through the draft because that's what you do now free agency is for the fillers if you just were like a few needs here and there but drafted where you need to build up your team because that's gonna be the core of your team for hopefully yours account because look at the look at the teams around the league draft picks are their Foundation look, Giants they had like there's no draft picks on this roster from 2015-2016. Eli apples gone. I can't think of anyone else. Who does that guy Aussie Zach that well. Yeah. How fast our exact day. I'll see what a living legend. Well that guy's Never Gonna retire. I refuse to believe he's going to be this long snap for us what he's 80 years old. But yeah, you build your team for the draft and that's how you build relator success. Yeah, I don't think it's going after big name. I remember we did we talk about free agency 2023 agency. They also do went through the list and there wasn't a lot of big names only guys are like clowning who I expect to see Hawks to re-sign Tyler Taylor Conklin or Tyler Conklin the attacker from Tennessee. Don't fall for that. Do not fall for that Jack Coughlin Jack Cochran. Yeah, the guy from Michigan State don't fall for that. I don't see that happening. I would have to See more of a party say definitive but I don't know how good he is, but I don't see us going out and getting like getting out the biggest contract. I could see us spending like maybe eight to 10 mil on one guy on maybe a shorter deal. You know, someone may be in the middle linebacker role or so are sometimes I don't know it's hard to say without looking at the list and honestly right now I'm not willing to go looking 2023 agency list. Yeah there I thought Gelman the least pick up one big name guy. But yeah, then that Conklin the tie is not picked up his fifth year options a big red flag to me. Next question comes from William germ race in here at William. There's a gym arson to Morrison. I'm glad I stuck a named person gamer said Thank you. Thank you question for the podcast how close the sample to take the field for? How close is Sam be able to take the field for consecutive snaps that it's question because I expected a giant to trade Jenkins and that's where I expected be able to be slotted in. Now that Jenkins is still here. I don't know where those slot him. And because he's not a slot Corner DeAndre Baker. I know people are saying he stalks and they want to get bench but he's a rookie you expect struggles. I don't know where they're going to fit sample in. Obviously. I think he'll get special teams roles and I mean he's been activated. I just don't maybe they wrote do like a few rotations with him and Baker. But you want bigger. They got all these snaps because we all we all got angry when Hamilton and Baker were doing the were rotating in and out. How is he Doctor Baker was thousands first game, but still we were Furious then but now now when he And after we you said we wanted to see him do the playing this game we're now saying let's have him rotate in and out or let's just bench Baker entirely. We make no sense as a Twitter. We we tried to I have never been the same. That's the best example of it. Yeah, it's not everyone not everyone but there is a good handful people saying that if your little sisters, you know, who were you know, we're talking about you, but it's just we're just Frustrated why can't we just stick to one point obviously opinions change, but that's not an opinion. That should change what we want to see our rookie corner. I just don't know what's in it feels kind of play. He will get playing time. I don't doubt that. It's just where and maybe one game. They're just like let's just puts ambulance to start the game a little bit. We'll put Baker and they could do that. It's just I just don't know where they'll play him because the cornerback position is so full right now. Yeah, I don't see him getting in less injury and less the only way without injury is towards. The season and they're like, hey generous. We want to see this guy play. We're going to give him some series. Well, I don't see them like flat-out starting him. So maybe towards the end is like last couple games. But right now I just don't I don't see any time in the next few weeks and getting forget consecutive snaps not even like one snap as like a top fully corner. He coming on like a dime package or something. But yeah, I just don't see it happening at this point. Yeah. It's it's gonna be a bitch to see how they handle that. Next question comes from her. - Ryan at Brian gold 17 he has is it better for Danny the keeps trimmer or hire a new head coach. It's in C. I posted what I said on to our Monday or Tuesday show about how get a rid of pouch. I use the example of a San Antonio Gates house am Darkness very much struggling with Adam gase. I said if we get rid of Shermer and bring in a new guy, maybe this could be what happened to Joan Chen. I feel like changing the head coach so soon into a rookies career is harmful, and I did had a lot of disagreements with So well, everyone has had their opinion II do believe fire and Shermer will it will hurt Daniel Jones development because look at Eli he had Tom Coughlin for all those years and that really helped him settle into a new head coach. So I believe why I would talk about me. Like I feel like the Giants lose to the Jets on Sunday that it could recreate it the hot deceiver Shermer will warm up a little bit more. I do believe someone said to me that gentleman and Daniel Jones are tied together while that is true. I still believe Pat Schirmer is tied with Daniel Jones because I truly believe if you fire your head coach with your rookie quarterback, it will stunt their growth and I will use that same Donald and Adam gase example till the day I die because it's and Jonna has very much struggled with Adam gase while he did not he played you didn't play amazing under top bowls Sam darling looked much more capable with bowls that he did with gays. So that's my fault on that Bobby. What are your thoughts if you can find a better head coach than yeah, but I don't, you know, we've done the whole Should server get fired and I think sure was a good coach but like you got to I can't like I love this saying Mike McCarthy. That's just because that's the name that ours familiar. Anyways, yeah, I think sure mistake. That's basically what that's that's all I'm gonna say on it. Next question comes from Zach Mahoney. Add Zach underscore Mahoney two yeses patch numbers run ski, maximizing our offensive lineman's talents. Yeah. I mean, they're just struggling really, I mean they sold her who knows when they soldiers doing over there Hernandez. I feel like he's played fine. I've been yeah, he's been playing fine. Haha po I'm intrigued to see how pulley and Hernandez and dilate perform because Jones With during training camp he's working mainly with pulley because he was a second string Center. So I feel like their chemistry will already be developed because when he went in there floppy, oh, he was just thrown in there and they had to build a chemistry together pulling him already have it. So I feel like Patrick Murray. His run scheme is maximizing our off with the lime is talents. It's just they just can't get a push really and Soldier struggling Hernandez hasn't blown anyone away. He's played great not great. He's played good, but he just hasn't blown anyone away zeiler his shoulder injuries. Definitely hampering his Bilities to play because she's had penalties past you he said he never had with Cleveland and rumors. He's playing fine. He's playing better than I would have expected it to but now he has that back injury, so he may not have a play on Sunday. So I'm intrigued to see if I'll buy I'm ranch right now. That's just focusing on next this Sunday. What do you think? I think they go has been good. I do think he's a little banged up but for you know, this season is having four point six yards per carry and that was like six yards per carry before The injury when I do think the injury has played some role. He didn't we didn't really any outside runs against Dallas. I think that was because of how good Jaylon Smith and chao-li were I really think that was a game plan thing. That's why there's so many runs with the middle as because of how good those two are and there was a couple outside runs. It's just take one caught him back. Yeah. I mean, I'm not going to sing it for Tech pretending like I'm some expert of the Run scheme everyone references, San Francisco. And I'm actually going to take some time in the offseason and get together with somebody and I'm going to have them like show me what San Francisco does us different. I've seen a couple plays here and there but I want to see what they consistently do. So yeah, it's honestly, it's I don't want to like just spout and say yes, it's great without me knowing but I haven't seen like anything that's been like horrible in the Run game speak of San Francisco. I'm looking forward to that Monday night game because one I just want to see as I wash them with her tonight, but this is the true test for them to see how good they are. See I got ya little alive you do. Is it really tough it off you I think Seattle's going to pull it off. Well, so well said he's so good. He's my MVP from what I see from this little bit. I watch him he's dead. Yes, of course Dan Jones. Yes, of course, but that's just this to me. It was so annoying. Once again. We're going back to Monday night right here. You could tell how so excited they were for that game and they really didn't care about Giants Cowboys. I was saying was last year because after John's 49ers, they had Chiefs Rams and they were pushing that game and then like but we got Giants Niners is We don't care about this game and they clearly didn't care about John's Cowboys. They wanted 49ers Seahawks. Next question is out from Zack again. He has how detrimental would it be to all the rookie teams and players they fire better and bring in a new coordinator. I like him but complicated system will take a few years to come together will front office give him the time it takes the letter words in my mind. We've been the strongest where everyone's like, you know, what James better just doesn't have the pieces of do it. Yeah. I don't know maybe he's just be like we're getting beat anyway, so why not be aggressive with it? My mind is blown with this and then James better the one guy who I've been like super critical of everyone's like you can't really blame. Like, I don't know. I think you can't like I get that are secondary is an amazing and it's hard to lead them to man coverage. But you know, what else is hard to do leave them in zone coverage and have them get torn up in advance on but they'll get past his throne underneath him all freaking game long and haven't played 30 yards back and just sit in the middle of the field instead of picking a side and going and covering it. I'm not a big fan of better. Maybe it can get like all put together with Leonard Williams. I don't know we'll see as the season goes on. But yeah, as far as the question he said how would it be, you know be in the defensive players if they fired richer and bringing the coordinator. It depends who they bring in and what kind of guy they bring in, you know, if they changed them for three. It could be some things because then you got to got to got to shuffle you got to shuffle players because you have all these like these for interior D lineman with with what Dex Dalvin Leonard Williams and beat a hill and then you gotta run. So Carter and golden or maybe not golden. He's going to be a free agent. You have learns or Karger oceans gimenez on the edge. So you got like a lot of guys who are trying to fit in the one spot and you don't really have those outside line. Actors that logo for for I don't know. I don't know. I don't know. I'm really I really have no clue pictures gonna be gone or not either. I I really would have a I think is a coin flip at this point. Now I've been saying James better is going to be the Fall Guy that they get rid of you. And I love you. I've been wanting pictures far and now everyone's like yeah, really? He's the one that I won't defend and I'm like wait, wait, wait, wait, wait, why are you defending? That's like - I feel like she was from the head coach the guy if you're if you like butcher, but you don't like Shermer sure my bra temperature it Chinese Twitter. It's a fantastic place. But the trade of letter Wing is made me think I'm like, they're gonna bring him back aren't they? Because I feel like James bet you very much. An input on this like hey, we got this talented defensive player that we could possibly get. Will he fit in your scheme? He's like, yeah. Well, obviously, I feel like he would have said that anyway, but it really makes me wonder if bring a lot of ones in does that sing they'll single that bet your could be back. Yes this game. He is given is complicated especially for a rookie players to understand somebody the second year. They'll come out of dominate, but I'm not sure because it's like high side like right now or they may be keep him and it'll help her rookie players develop. But say the 2020 season rolls around and our defense is just as bad were like, oh we made a mistake for keeping him. So we won't know really this off season is gonna be fascinating and so many aspects of what they do with coaching would do they keep Shermer do the sure he make changes. I it's gonna be such a fun offseason and that's why I'm really looking forward to cover in it. I was you still have plenty of games to play but we're talking about the sausage is gonna be it's just such a fascinated option to talk about New York Giants football with yeah. It's just kind of Sing alright, that's it for mailbag. We got a little bit of chance to preview. Let's go to war. I don't know but here we stand on opposing sides. Let's go to war. The MetLife bull is here Danny for a game that has a combined three wins out of the two teams feel like this is pretty important. One is to MetLife, but we only get this once every four years besides the preseason. It's bragging rights the next four years, you know, you have to beat the other team that lives in your Stadium. You got Leonard Williams versus old team. We got the whole say Donald over to our sake want over Sam darn old debate Daniel Jones versus Sam dong. Who's the better QB debate both. These coaches are on the hot seat Adam gase a lot more than patch sturmer. I feel like this is actually kind of like a low-key important game maybe for the fans more than the teams. Yeah, this is this is the last important game on the giant schedule Unless somehow they just go on like a stupid miraculous Ron. This is the only other point game that the Giants and need to wait because you cannot I mean not let the just beauteous especially the state they're in we lost I've found correct the last Met Life but we lost to the Jets and that would that was a hurtful because I believe you lost on a field goal. Mr. Fitzpatrick. He had that drive the very end of the game fucking Fitzpatrick hate that guy we got to see him when we play the Dolphins. But that's weeks away. You gotta beat the Jets. There is the preseason if you lose in the preseason layer, I will also appreciate about you must what you play. The regular season is a must win. And yeah, I will see you die. This just came with the Jaws loose. Who knows what could happen Dave going may just have a change of heart shape a Tremor and the ends of the offseason in the offseason. He met Pat Sherman get up and I'm gay so you got who knows what he's doing and with the Jets so we it's a must when you there. Is no excuse to lose this game. This is a game where I expect everyone to be on their a game because if you don't win this game, you're gonna hear it from the fan. You're probably going to hear from your coaches. You're gonna hear from yourself. You will not be able to live this down that you lost to the one and seven Jets and their quarterback that sees ghosts he sees ghosts and we we may lose to him. The problem is I'm very nervous of the game because they're still the whole possibility Josh could lose this game. I hate to say that but we could lose this game. That's a problem to me. Yeah, it really is important. Just how I want to want to record a win winning a so it's been a while. It's been a while. Now. We had some injuries Ingram sore foot. It seems like he's going to be out. Hello po I can almost guarantee. He's going to be out remembers didn't practice today, but I'm expecting him to play because I think he was out there for the Tuesday walkthrough for the ones they walk through. Excuse me. Let's talk about hell a PO and pulley first. A lot of people were pulling no pun intended for pulley to start. Anyways, as we collapse those coming off his worst game and I think the whole Apple criticism a little overblown now this battle this last game against Dallas was really bad, but besides before that, I feel I he got the blame for some things that weren't his fault. I don't think he played great but he also he wasn't playing as bad as people made him out to be that being said, I think nine weeks into the season and he had like he hasn't shown He's going to be the Sanford a long term you might as well give Polly even without the injury the shot because he's younger. He's locked up for the next 32 years after this and he has more experience. So yeah, I'm looking forward to seeing pulley out there and seeing what he can do. My guy Spencer pulley. I was pulling for him. I see what I did there. No pun intended. I literally just had the pun. The pun was intended. It was I'm not gonna lie to myself that very much intended that point. I'm proud of that one, but I I was I was rooting for In The Wind that job obviously whole apia when I was five whole apia went but I'm a pulley fan and I believe he'll go out there and win the starting center job because as I said somewhere in the show during the training camp Daniel Jones his Center that he was working with was Spencer pulley. So there there's there. I don't believe there should be a warming period I'll say they got to get used to each other real game action, but they know each other well enough that I expected to go out there and just have a game. I am Che see how this benefits Hernandez and Mainly Hernandez because if you remember the Giants offensive line was good when it was pulley at Center, so maybe that will maybe help Hernandez out. I'm not trying to help out Sylar, but I dig will benefit Hernandez as well. So I'm intrigued to see how the center position Works down the right tackle. Sherman said it was game store in his former members of his back. But let's say he doesn't play it and I'm on the minds of right now that he's not. That's just me. Nick is who I wish I was high on him. You were high on him. This is a real chance to go out there and say do we have our right tackle on our team right now? I believe they said he'd go out there and play any position on the officer line. That's how confident Drive coaches aren't him. It's a big game from the go out there and prove himself because we my grandma's here. He's been good this year, but he's not as he's not the long-term answer at least I believe he'll be gone after the season because I believe he'll get a nice steel somewhere else. I want to see what Nick is go out there and brings to us and this is I'm not as worried as him a right tackle because Jones idly, she'll see what's coming at him while solder it if Nick Gates on the left side, I'd be scared to death. So I'm intrigued to see how Nick gets handled the right tackle, but I'm pumped to see pulley at center. It's 6 that hello feels injured, but unfortunately next man up mentality and pulley has a real opportunity to go out there and stamp stuff. Like why did you paint them all she's not complain that it got pays to be like why am I on the bench? I'm the starting center of the New York football Giants. Yeah, Nikki. Yeah, pulliam's I'm definitely excited to see him just because kind of fresh blood Gates and I like Gates and we both like Gates. I don't know how much I trust him a tackle. I do want to see with the shot as he's got how good he is but II like Gates but I like him for who he is This is Swing guy. In fact, I would have liked to see him not now. I'm not saying over a pulley, but I would love to see what he can do at Center. Like I really think this guy is just offensive lineman who does The right way and guys like that find themselves away in the NFL he put He did play tackle and college so I don't think it's going to play I do think my kremers is going to be out there. But if he is, I'll definitely have an eye on him to see how he does and my grammars is a guy who's had a good season. He had a bad game against Dallas and there was one other game. He thought he was bad and I can't remember but so I think my Kramer's has been a pretty good option to from the Giants this season. I'm not saying that's long term. But yeah if Nick Gates plays I'm definitely going to be keeping a close eye on him. Wait, don't don't get me wrong. I'm rather much have rumors out there, but I just don't feel like he's gonna play and I mean, he's a tough guy and want to shock me if he does but Nick gate I got confidence in them. But I'm a few I it's still very shaky. I know I was probably saying so no. Yeah, but people are saying bench Soldier. I'm like, would you rather have Chad slate or whoever be protecting your franchise quarterback and now I'm out there like putting a case out there. No problem whatsoever. So yeah, there's obviously nerves but I believe I have faith in Nick gates to get it done. Other guy that's probably out Evan engram. And I had two injuries, you know, and one was like off a really bad hit off the excess from the Texans. And we're definitely going to pick up his fifth year option. But the more and more I look at it if we can get a decent trade like piece for him. I don't I wouldn't be mad at if we can get some kind of a decent deal for him because like, you know, he has he does have injury problems. He's not the most consistent guy in the world and I love him. He's a huge playmaker and I would hate to have Daniel Jones lose him. And I want I got I'm not I wouldn't want red else as a starter and this might be more of an emotional take But man, the fact that how he's you know, this is the second time this year that he's kind of, you know, he's missing do from a different injury. This is the fourth time in three years. I mean, it's just becoming a point of you know, availability is the best ability. I would disagree with that just because you said it Daniel Jones and I regret Ingram. I feel like Dan Jones trust Evan and grow and and ugh and said it. He said the Giants have not brought anyone in for the game Sunday. So is that a sign that this is just a one-game thing. And then after the by of an Ingram will be back. Also, I don't know where this whole conversation started but all of a sudden last night on Twitter, I see people talk about everything room in his fifth year option. I don't know where this came up in but now people are saying do we pick up because he's injury-prone. Yeah, the guys injury-prone, but if you Look at the he's such a talented player and I know people are all but he's a wide receiver playing tight end. But just look at that boxing the way you took that ball up field and ran it all the way for a touch-up. He said I believe it is a key part of this offense going forward and while yes injuries are a problem. I mean, yeah, he's injured arm prom and that's just unfortunately who he is. He hasn't he's an injury prone guy it but just the talent is there and the he just got to fix up something that I feel like his run blocking ads approved. This year drops are still somewhat of an issue sometimes but it's improved in my opinion that Cardinals game it was bad. So I don't want him traded. I believe his fifth year option will get picked up because that's a conversation fans are having now its fifth year option is 100% game picked up. Yeah. So II don't want Evan engram Grand Isle s he is it just gets worse from here. He struggles to run block. You can't catch football and he's just injured every and he's just injured like every other game then The wind gone, but right now in this moment, I'm not confident I'm saying I want him gone because he's a key part of this offense going forward and he's not someone I would want to lose for it sucks losing for a game, but I will not want him off my team in general. Yeah, I think he's a great player. It's just it's just become more like a you know available is the best build. I love Evan engram and the reason I wouldn't want to go is because he is a planning for Daniel Jonesy and for our young QB. You don't want to take away Playmakers. And I think that I think the role would have to be filled if you were to get rid of a guy but that being said, I don't think he plays Sunday. I think Alison can do a decent enough job. I think they'll try and run the ball and you know, that will lead to more to my giant Factor. That being said, I don't think there's any other injuries we need to clean up on. Is there Danny? I don't think so. Obviously. Yeah Shepard. That's who knows what's going on Shepherd. But yeah, I think that's all the injuries right there. Yeah. All right, Danny, you know what that means. It's time for our giant factors of the week. This is where we take our X Factor and we call a giant Factor because we are New York Giants podcast. It's a little play on words for the phrase and like I always say I hope to not have to explain this before every time a run. Daddy, who is your giant factor for the week 10 MetLife Bowl verse the New York Jets now got one John factor. I don't got to who is the giant Factor Danny? It's the whole team. This is the midlife Bowl. Oh my gosh. We were like, who's he said John's Factor. I'm like crap. I don't Have one but it when I sat them like that. It's the whole team. This is the MetLife Bowl. There's there's no reason to go out there and loosen the stinkin Jets. This is this is a literal War. This is the game the Giants have to win. You gotta go out there. You gotta be the judge. You gotta have the bragging rights for New York City. I'll lets players off that need to improve their game right here right now DeAndre Baker. I know you're a rookie, but it proved these haters wrong go out there. I know he he got caught in that. Oh, I don't know the Playbook thing and people are like, oh that guy sucks you played. Well you Have a play great, but you play well go out there and make a name for yourself. Who else we got. We got Cody Cody Latimer, you're gonna be seeing a lot of reps as well with Shepherd being out go out there and make your name for your next contract. Next year solder. What the hell are you doing out there you're doing nothing at this point. It's solidify yourself on that offensive line. I I turn out the game the moment. I saw him get beat in that Cowboys game because I knew was going to be a fumble on the moment. I saw you get picked up. I turned it off Aldergrove sauce. I need you to make feel close we miss won't on but it's an issue. That's now he has all the time in the world and I still have faith in him that if the Giants need to go out there and kick a field goal. He's the guy to do it. I still have faith in him. He's got to fix a mechanic, but I believe in him David mail. If you list the pressures, I'm a fan of David mayo and I still believe he could be the guy. I want you to go out there and dominate make good. He made good plays before go out there get a sack on. And on let's Blitz David mail for one play but no I have my Giant fact in after rantin. It's Leonard Williams. He said this is his first the Jets threw em away. They don't believe in him go out there on Sunday and beat that just sacked hits and Arnold you show them that like you stand over Sandra me like this is your franchise quarterback now, I'm the guy you just traded away and I'm standing over your franchise quarterback against Euro trash off the line. He didn't have a great game against Dallas, but I expected to go out there with that fire underneath in the go out there. And just destroy the Jets off in the make their life a living nightmare. So after I just rented at half half of the really think of who my giant factors, it's the whole team. Really Bobby. Who's your giant? Fuck you should have said it's the pride to team Pride that frog well, well, you know confidence if we're winning players confidence or up. Yeah. Shut up can't do that on the show. All right, let me regroup. My giant factor is go Kate Golden Tate has not been getting Separation on man coverage. Now. He can find a hole in his own like nobody's business. But if you look when they hit play Man coverage, he just doesn't get separation with Sterling Shepherd out and maybe out for the season take we gotta get separation. You gotta be a playmaker now granted. He's made some amazing catches. We saw on a Monday night football at one end its neck Odell who that was a beast catch and I can be excited about it. Now. They're not pissed off about that game. But make it easier for Daniel Jones. If you can get open over the middle and man covers that makes Daniel Jones like so much easier. It really does Golden Tate you I love you. You're my man. But you got to be a little bit quicker and getting open in man coverage Golden Tate. You are my giant factor of the week Danny. It's time for game predictions. I am going giant 77 jet 0 MetLife Bowl Hampi is woohoo. I like that train joke Train sound right there, but also I just remembered I tweeted this out. Whoo-hoo that black cap. That's be a state that have but that black hat best be out of the stadium on Sunday because I don't believe in that stuff but on Sunday, I believe I on Monday I believed in it and someone said well the Jets are the home team that my older maybe we should keep the cat. I never get that cat out of there. I don't want to see another cat run on the field because according to some place you have like 500 feet like a cat outside my life saying about Prediction Bobby I'm gonna I'm Gonna Wanna not gonna one-up you this week. I'm gonna say Giants 75 Jets negative 10 because sound Arnold sees ghosts. Oh my gets negative 10 fantasy points that he's done that before boys and girls. All right. That's a show we appreciate you guys. I know this one is a little longer. You want to get it all in the one and then want to rush our cleanup and mailbag. We appreciate you guys. We will see you on Monday, hopefully a bit. Victory episode. Hopefully, we can play The Sweet Victory song that we haven't gotten to play and it feels like 10 years until then. Let's go big.</td>\n",
              "      <td>The guys clean up the Cowboys game after watching the All22 film, answer Mailbag questions and preview the MetLife Bowl --- This episode is sponsored by · Anchor: The easiest way to make a podcast.  https://anchor.fm/app</td>\n",
              "      <td>show_4SdheD3znAAc8jOWx1uqKH:04zV0q0gK6K6UfDtaOFaJz</td>\n",
              "    </tr>\n",
              "    <tr>\n",
              "      <th>3</th>\n",
              "      <td>Mama a word that we all know a word some of us here a thousand times a day and some are anxiously waiting for it's a title a company by immense Joy deep loss and Hearty laughter. I'm Aubrey and I'm Aaron. We love Mamas and we love your strength and your sacrifice. We honor your easy days and the days where you hide in the closet because we have them to we know that moms need moms. And that's where we come in and thePart is you can show up in your messy buns and sweatpants, and we'll never know. In fact, we're probably in ours. Do we hear you and want to connect with you? This is your community. So welcome to our Sisterhood. Welcome to our Circle. Welcome to the mama Hood. Hey mamas, welcome to a very special and highly requested episode of the mama Hood podcast. We are so excited today to bring you two of our very special and most favorite guests because they're our husbands. Hey guys. Hello. Hello. They're a little nervous. We are so honored to have Shea croson and allinger be here today, and we want to Can I make it? And it isn't easy to get them on the show because they are usually the ones wrangling our kids. So our husbands really are the unsung heroes of the podcast because they make everything we do possible and they support us so much and many of you may not know this but my husband Alan actually edits and produces the show for us. Okay. So today we are going to start with kind of a husband's tell all portion of the show think like the men tell all from The Bachelorette, but the Simon's out All of the fighting and arguing and I think that's kind of the best part. Let's bring some right questions. I might get abs and shake and drama. Yeah, we need some drama shave cream. You don't bring out the bones my gosh. So we're also going to talk about love languages today, which should be fun. But we kind of get to put her husband's in the hot seat a little bit today with a few questions we have to so, okay. So I feel like we should ask our special guests what we ask all of our guests which which is for them to share a winner fail from their parenting. So I'd like a data Hood winner fail. Okay. Now I'm really likes to talk about the data. I want to make a data Hood podcast winner fail. Okay? Okay, I'll get I have a I have a I have a funny fail. Okay, so there was There was one weekend where it had just been a little bit rough. Okay, the kids have been crazy. We've been dealing with all this crazy stuff. And I tend to be the one that has the discipline with them and everything and my oldest son at the end of the weekend the next morning on Monday when I was going to go to work I went and said hey Hudson, how would you do? How did you sleep last night? I looked at me said data go to gwark now. Has done for the weekend. He's just been to to discipline e you made me feel sad for me to go to work work is what it is in our house. That's a fail. Okay? Yeah, it's a lot easier to think of the fails. So the fail that came to my mind was the first weekend where I had our oldest to just by myself because Aubree was at one of her Blogger things things Retreats. What are you going to be hard? Easy, whatever they haven't heard this yet. No, you know this story. So I planned this super fun weekend just to be the favorite daddy and kind of to preface. So Shay's kind of more like the stay-at-home mom. You cannot cut in the back you have the might to this is my first time doing this and I can't afford to have people just cut me off like that. Okay, anyways plan this best weekend ever, excuse me start anyways, again, it was going off great. I invited my brother just test to help me with having two kids small kids in the pool with just me smart and so My oldest our five-year-old he was going down on the slides. He loves water slides, but on one slide, he was getting up out of the slide and he slipped and hit his chin on the edge of the slide and got gash pretty good. So I took him to the Lifeguard lifeguard looked at it and he said I'll just kind of queasy when it comes to blood and so he just put a bandaid on. The kid was like 14 years old. I was like, I'm not sure that is going to do it. That's not medically he's not a medical profession and swims and whatever the van is like falling off obviously in the water. It's still bleeding. Yeah, I could just tell that it's not getting any better. So we went to the head I asked for the head lifeguard or whoever was in charge and they said yeah, you're gonna need to go to Instant Care and probably yeah, it's yeah, so my brother takes our 18-month old home and I take five year old or to the insecurity gets seven seven or eight and we got quite a good amount and I was out of town is the saddest thing ever. Oh that was a fail, but you didn't listen 14 year olds. Earth yeah, and like Corinne fixes everything I'm thinking let's dive into some of our has been so long questions. Now some of these are from our listeners and some are just from trying to get the nitty-gritty out of you guys. All right, so just to start Shane odds, I mean, let's we got a lot to get through. So we'll all kind of tell the the shorter version you telling us not to Ramsey in dogs telling me not to Ramble, all right one shot on her head. You don't pass go one. Well, never coming back. Tell us all how you met and your little love story in a nutshell. Well, I met Shay on the night of the month. Dude, it was a party. Okay is a party with like a Foundry women and being shanghaied in the corner. What was your thoughts when you first saw Opry across the what happened to area or wherever it was tell us it was through a car window actually in my driveway like 15. So it was just not as men. Yeah thersites being right now. That is so nice, even though it was her. A friend that was coming over to see me here like you get that friend. Yeah. No, she's my best friend still. So let me just backtrack sounds a little bit confusing. It's intriguing. So my friend my best friend still to this day. She's on my best friends, but his first date was with my best friend and they went to like a dancer some member. We don't have a whole lot of On this podcast is just the Good Deeds. This is what I came for. So anyways, would I even be in the same thing to you what you did to me? Okay continue on then. Thank you. So anyway, he does. So anyways, yeah, so the car was just like first meeting him ever and we were my friend wanted to take him a frosty and I secretly I ate half of the Frosty and I was like, oh sorry, you want to give this to him? So he ate half of my Frosty the day with her saliva exchange. Oh my gosh. It is saliva like, yeah, you can't. Yes, it's true. You're at the dentist because I'm just like where's all of the saliva going? And then who dumps it out? Like this is where my mind goes when I'm at the dentist. Well, I guess it's true. Where does that all go? I don't know. I don't sort of odd ago. It goes through a trap. And then you have to clean out the Trap isn't that - to get clean everywhere note another slab. It goes like down the drain but there's still this the section like cleans out they case it goes into the sewer like the food pieces. And the other things stuck in the town. Yeah. Yeah composite filling. Yeah. So anyways cake for ants, okay, so then we started dating after that really fast, but off and on because pressure from parents and After High School, you know, I go off for two years on a church mission. She goes off and does her partying and Guys multiple lovers and things when I get home, I try and come back. She's engaged that is true. And then he mad at me because he wrote me once we write but once he know I was in Hungary s AKA service isn't great two letters if you didn't do the math lo and behold we running into each other two years later because her engagement Falls through and then pretty fast after that. It was just back to how it was and never looked back. Okay, let me rephrase the ending of that. So let me just give a little more detail because I feel like that's a difference between men and women like exactly how I would tell the story but like you're missing the good guy and then it came back. Larry and then I hate but the girls want to hear all the like gushy details. So he came home from his mission. We like he wrote me this letter that was like I want you back. I want a second chance blah blah blah. No, I was mad at him. So yeah, so I went and dated more people know all the high school things. I gave her throne in the crash. Stop it. He just brought up my biggest regret of my whole life. That's why we doing I'm not the only bad one and then he took me because he Was a crappy friend for four years. He took me out and celebrated for years of Celebration. So for years of birthday, he's like I missed a few birthdays and Christmases and New Year's. So we did like a birthday celebration for dessert and he told the waitress it was my birthday and then took me out and did Chinese New Year. It was kind of cute. So that's cutesy. Can't leave out some of the details. Okay. How did we meet down? We don't remember how we met we've tried so many times to remember the first time that we met. It's As we had the same group of friends. And so we all just got together and played night games. We know what we did. I think I remember her pulling up in the in her friends Mini Cooper thing, but we don't actually like remember the moment that we start we talk to each other. I'm stocked locked and we're sorry we saw each other from across the hall. I looked through the car window if you but did you guys go to the same High School? No. No, we just met through mutual friends that were all friends across. Our high schools and the thing is so I did I liked doing music stuff and I had some friends that did music and they've been trying to get me. I like doing sports stuff too. And then they're trying to get me to be in place and I thought no I'm gonna do that. That's ridiculous. I'm gonna dance around up there. No and they said oh, well, there's this really fun dance around going to group things and they convinced me to go and I didn't realize it quite what it was at first and then I was Crying out and then they're making me dance is like wait stop. This is like a choir. Yeah, I got roped into choir because of that one. Sorry. No, but anyway, so then I realized it was like a local acting group and they're like you made it in and as I understand it all the way and so my senior year my guess I'm like in an acting group now so my God, she was in that but we had we were all friends still before it's kind of weird because those friends I did music with were also friends with her and her friends because they did this acting group together before but they pulled me into it on my senior year. So I got to know them all better. We were like best friend group. He was the lead and I was the supporting actor here are the background. Yeah. I was the governor. I had like half the mayor not as important as the government. I'm serious. He was Kim McAfee about your character's name. MK Market just came at me and I films production of Bye Bye Birdie ever be oh 2011 claim to fame. No, I don't even remember eras. Um, the thing is she didn't want it. She like she wanted to be my friend, but she like if I would have tried anything it would have been a hard. No. No. No you guys it's popular and yeah, she was like the the everyone wanted to know who she was and I was the opposite. Of that so hilarious know what we're saying but opposite he was the popular guy up there and I was kind of in the shadows but our son pooped his pants Oh, did he so well, so this you get a change it. All right, sounds good. So yeah, that's how we met but it's all just in our first kiss was playing spin the bottle wait villain that yeah, it was singer not a good idea. Honestly like in retrospect now, it's like I would die. Well, I'm the best like we almost had we almost had a terrible terrible situation with that because my brother so basically I would have kissed my brother. So she if we let him play which we did not for some weird reason like now you can't play but if he would have liked that just you know my gosh you didn't I just listen Ally dinners that we did you figure it out me dinners. How could you remember when we kiss that was our first kiss but we were still just friends until Till after I've got some when you guys played spin the bottle did you guys like kiss in front of everybody or is it one of those ones that go to bed? I kept on what were you playing your version? Are these your Partiers the Shea is talking about seven minutes. No, but I wanted to keep spinning Marin but I just never did like my friends did but I didn't I was like a Hence use know getting all the deed. She was the best kisser for sure. I can't remember that is hilarious. Always thought about like holy cow. Marin is such a good kisser. That's crazy. It's them guys. This is the men tell all episode. I angry folk back toe all raw and unedited lesson. It has a group of friends were like singing dancing acting people. Yeah dalen pulled them all in and pulled off like most epic proposal ever pretty epic because I knew because she like kennel friends and did all the stage if it's like it's got to be a big thing. You know, I can't fail at this. So I got we got all of her friends together and of coordinator this big dance number to my account falling in love with you. It's favorite song Right dancing singing the old step forward and do solos and stuff and you know, it was happening in those happening. So I didn't I did this Trope where I was like, we're going to go to the show. And all the audience that was there were her friends and family, but she didn't realize it's dark in the theater. So I didn't notice when I walked in I use and then yeah, I like the curtains open and the lights go on and it's like all my best friends. Oh my God, and I pulled it up with is gone and he told me he's going to the bathroom, but then he comes out in like a tuxedo and I was like, how did you do that? And then I brought her up on the stage and sing the last line of the song and then ask her to marry me. She said yes. And then everyone celebrated saying more. How did I want to know how you proposed? All right. So I also was still trying to dig out of that deep hole that I was in so I knew I had to go big as well, but I didn't have really any talents or skills to go big myself. So I rented a hot-air balloon and we went out to Park City. He didn't know what was going on. It was really early like 6:00 a.m. 6:00 a.m. And so on this isn't like getting up early. Yeah morning person. Okay. First of all, I repeat she is not a morning person story is I'm like morning. Oh my God, then we get to the top of the ride and the guy is like because it's shade worked it out with him before but the guys like does anyone have any business to take care of? And I was like like to pee like if I was talking about the bathroom, like we're at the top of this ride like world's highest Parker and that's funny. What a weird question to ask and it was so funny sweet and you got some business and then I landed in our whole family was there so it was kind of fun. Okay. So question for Shay and Alan what is one thing you love or remember about your wedding day. This is a good one. Wow. Starting out strong. We had this crazy photographer guy and like we had a reception this golf course and he had his like riding this golf cart taking all these random pictures. Oh, yeah. It was kind of a thing. That's the greatness of the day. If you were asking you just pick something that was like different different. No, but what was kind of cool about our wedding though is since we had known each other in high school. It was kind of like Huge dream of everybody. This is kind of fun. Like it was like a High School in Louisiana by guys for my fans. Oh my gosh. So I have an undying love for promptly journals, and I'm so so grateful that they're sponsoring us for this episode. I love that. They were created by a mom who just wanted to make memory keeping easy and not overwhelming because that's exactly what they are. It's so true and I actually have all three of the ones that they offer so they have a childhood 1 which is 0 to 18 years. It includes. He is well in there too, and then they have a love story one, which I love because I've been able to document mine and Shay's story and just our memories and then they have a travel one which is so cute. They also recently created a healing Journal I sought for moms who have miscarried one for infertility came what this is amazing it also I think makes a really great gift. If you know someone who goes through a miscarriage or is going through infertility and maybe off and you struggle with knowing what to give or what to say. Just prompts Made Easy and it's just simplified alternate honestly saves you time and money this literally lost their entire life and it's one really special beautiful journal for me to keep forever. And did you hear that? They have an app for it too? Yeah isn't that times? They just released that app so you can do the app now and make it even that much easier totally use honestly think you won't forget to journal or in a document for your kids, and then I'll Was Runnin it will occur like 5 years old and you're like shoot. Yeah backtracking when they were three and the journals are so cute that you can really just keep them like in plain sight. Yeah. I have them on my building like on our shelves. It's they're so cute. And it's fun to journal in the promptly journal and childhood is just so fleeting like the things and the prompts that they give you in there two are so good and the things that I would want to have documented anyway, so promptly journals are now available online and at anthropology and they have been so awesome to give us a discount code for our wonderful listeners. The code is Mama Hood 15 for 15 percent off K tornado to Discount that off and that's awesome. They really don't so yeah, make sure that you take advantage of this and use code Mama Hood 15 for 15 percent off of your promptly Journal. Today's episode is sponsored by Spotify on Spotify. You can listen to all of your favorite artists and podcasts in one place for free. You don't even need to make a premium account Spotify has a huge Catalog of podcast on every topic including Mama Hood and the one you're listening to right now on Spotify. You can follow your favorite podcasts. You never miss an episode and premium users can download episodes to listen to even offline. Wherever you are. You can easily share what you're listening to with all of your friends on Instagram too, which is a huge plus. So if you haven't done so already be sure to download the Spotify app search for them. Oh mama Hood podcast on Spotify or just browse other podcasts in the your library tab. Also, make sure that you follow the mama hood on Spotify. So you never miss an episode of our podcast. Okay back to the show. What about for you guys what was changing for anyone that was gue love we remember about our wedding day. You're gorgeous the whole day you looked amazing. I just thought it was like it was really I reception is the one of the things that I remember like the most because it was just I remember sitting there and looking around or standing in the line and thinking wow, we've just thrown a very expensive and massive party for everyone else except for me. Yeah. Could you like starving time? I can't eat those Crepes. I can't drink those drinks. I gotta keep shaking everybody's hands. Yeah, that's kind of true. I can see why people bag it and take the trip like Take the Money and Run. What was your first fight? Well, who should tell this one? This is the men tell all okay go for it. Just make sure you throw in some swear words and stuff to the best fight ever. We are a little one-bedroom apartment and had just eaten dinner. Aubrey was just going out of her way to make a dessert and just being the best ride ever. Wow. She got the desert out brownies on this new pan that we got obviously if our wedding and Started cutting the brownies on the new pan just with a knife like a real knife not like a plastic knife or a butter knife sharp knife sharp knife and real knife butter knives aren't real. I know creating these huge marks in our brand-new my gosh. Okay. No, this is the fact rap. I was in the back. You know how ungrateful I just played over a box of brownies for him. I'm cutting him a piece he comes over. This is the worst part not only does he get mad he comes over and he squishes his fingers like smooshy my brownies to show me where my marks are made on the brand-new pan. And I was like, are you serious? I just made you brownies and now you just ruined him and he's Are you serious or pan is just ruin and it's brand-new. So I think I that's amazing was in the wrong. So we doing are you gonna do a poll you can eat brownies. However, if they're smushed or we're gonna do a poll on this because how rude is that? Like would I ever come to something you have created and just been like what's this? Like, I would never ruin something in the pan. Yeah, and I still L ate every last brownie, how weird is that though Howard. What about you guys? You remember your first bite? Yes, very thoroughly. Remember our first fight Marian's like I don't remember me. I went to a prestigious Elementary School my gosh and Marin went to the this uneducated place. Oh and my God a song about the states. Oh Maron learned it wrong. You guys Tyler days is still a fight. Oh, it's ongoing. It was at first there's a part in the in the state song. Okay, it's a song where you seeing all the skates. Yeah. Yeah. We'll see if you guys know the song you tell me the you know, the Phoenix. If the United States I won. Okay, where is it? Okay, it goes, New Hampshire, New Jersey, New Mexico, New York, North Carolina, North Dakota, Ohio, Oklahoma, Oregon, Pennsylvania is I don't remember Rhode Island. And so we fought about it ever since. I'm with you mayor. What's so weird when using the same way you do it sound weird to you know, I thought it sounded great. Thank you. Shay. I'm on their side on that. It's the real thing clearly were like you just arguing about whether this this isn't a joke. We hardcore arguing. Have you two better wrong? It was both that it wasn't either of ours. We did go as far as to call my 10 year old nephew who is currently in the fifth grade. Ask him how it was and it was mine. He goes to a bad school to you know, oh my God. Okay. What is something small that me and abs do that was surprising after you got married to us. Just something that surprised you about our being married to me and Ops I say small because I just don't want to get into the bigger things pretty quickly after we got married. Read I remember I was doing I was eating some grapes. Oh anyway as eating some grapes and then I had some crackers and I was just snacking. Thank you very much. I was looking out right just like right now and I remember looking over at Maron and it looked like she had this face, you know, just like of of really have a lot of anger being welled up in her looking over me like what's wrong just like I can hear you chewing you can hear me chewing what she liked. Not like she dislikes it when people chew. She hates it when people are chewing it's good to know. So if I can read and if she can hear you chewing she's cringing and dying on site. That's a small thing Angie did I didn't expect I'm afraid. What did you not like that go down that road with more than milk slurping but you didn't let's hear it, but I'll go something better nicer so rude. Dude, yeah do the noise. Yeah. So anyways, the she slurp milk weird is also nice. Gosh pretty loud. I live on Special K like Special K. I could have her breakfast lunch and dinner and he has to be so judgey about how I eat it. So this is kind of this one's really much better and like Abend sweeter. I don't like chewing and eating sound so me and you can never eat. Really? Yeah, he had government it. Yeah, I wouldn't drive you home so early on. One thing that caught me by surprise is just how tender Ivory is for other people like she began scrolling through Facebook and not even know the person and start crying about whatever is happening to that person in their life for then the nicest thing he's ever said it up. I'm a I'm an easy crier. Yeah, I'm also needs a man's fairies a crier. Hmm. So we're watching like the Olympics and the shot-putter like threw the ball pretty good and I look over and Barons like crying. I was like sweetie what's wrong? She's like this. So happy he had his dreams come true. I love it when people achieve their dreams someone chooses their dreams Marin's she's lost Got Talent Golden Buzzer can't Okay, what surprised you most about pregnancy? And birth most I mean like I got a billion think I'll let you go first. I mean that is loaded. I mean, what about we like what the heck like did not expect that? Yeah about the whole pregnancy the whole process is. Yes. It's insane. Yeah. How is this even possible Right There are multiple times of like how does every person do this? I don't like half sari. How does every half of the person's do this? Like it's insane. I it the thing I mean is I was just like Beyond impressed. Like I can never I can never complain again. There's nothing I can never complain about because this process is so grueling to watch like I just feel like you guys go through so much. Such that is didn't realize like I just figured okay. Yeah, you get pregnant and then the deliveries really hard. Like I knew that there was going to be really difficult for for my wife, but I did not realize that the whole nine months leading up to it is also grueling and difficult to do and yeah, there's no really break almost feel there's fun. Yeah from the other very beginning to the end. It's grueling like you said and like was I more fun sometimes I mean, I think the Motions also can come out come out or during my pregnancy stage as well be referring to is I'm terrible at like cuts and blood and stuff. Like I'm very bad at that. It makes me queasy and everything and I have a really hard time being at a doctor's office to like I have irrational fears about doctors and we won't go into that but I was amazed by how like being in that moment when Marin is delivering so she's Hudson cuz like I never We never experienced it before it's new for both of us. Right so that process of the delivery was just such like a beautiful amazing thing to watch her do something that incredible and that beautiful that that whole process was just so it wasn't queasy or scary or like, you know, like other doctors visits are acted and I was surprised I'm like, it's beautiful. It really is like a beautiful process. It's hard to explain. I mean she didn't think I'd be good with a newborn. I know and all of a sudden he was like holding our oldest and I was like, do you know how to hold him? You do know how to hold him. He's really good and then she started crying. Okay. I thought you guys would say something like the placenta looked weird or something. Those were good. I was looking at the placenta like every time I'm just like, okay this one I specifically know was from a listener. What is something you wish you would have known? Before becoming a dad, I mean since not something you really can prepare for no matter how much you talk to other dads or I think that was something that was most surprising. Just how much love you have. Hmm and then how much you don't think it can have more love for additional children, but then just how that love continues to grow and she's a little bit different in the fact that like, he literally would rather just be with the kids all day long like not everyone's That I feel like obviously there are some things that were adjustment but I felt like that role that there's just some innate things that just come out. I think you just is like the kid person like that's why I joke that he was supposed to be the stay-at-home mom and I keep it's just something he loves like he comes home from work and it's just like this something that's built inside of him. That's just supposed to be a dad sounds like it was natural. Yeah. Okay. Now what was something you wish you would have known before becoming the two things. That might be a little bit. Trajectory. I wish I would have known how hard it was going to be. But also how naturally it would come. It's kind of a combo both of them for me. I feel like the valley like protect this person provide for this person came like immediately. I feel this obligation all send all this anxiety around like making sure they're safe and like I was overly like concerned with that said when he was a little baby because he laying right he must he think he's moving wrong like is he breathing? Okay, and I had a lot of stress and it took me American test is it took me a long time to learn the stuff? Like I was really bad at all of the things like swallowing them up and no I was at first I wasn't first it took some time and I feel like it's been a skill that I've worked really hard on developing being able to do those those no parent type things. I love that because I think it's the same for moms to like, sometimes it feels more naturally than others and then it's funny and you get to number three and you're like, I'm going to create and give him the bottle and good luck. But that's the thing is I almost feel like becoming a parent. If I could go back and talk to myself beforehand, it says like you just need to be patient and you need to be humble enough to accept the fact you don't know what you're doing. I love that. I think it's so important to see and recognize that for yourself too. You know, I think that's awesome. If you could describe us as moms in one word, what would it be? Hmm, you get to go first you go first. I have been the most impressed with meirin in Watching her be a mom. Like I just feel like I'm constantly learning from her and how she is with these kids. It's all my one word. It would be perfect. But I know you probably don't want me to say that sort of thing. No never say that. Okay, so I really do like she loves kids. I would say compassion. There's my one word. She cares so deeply about and can tell about the like slightest things that these kids. Kids are feeling like it's insane. I have the time I don't even realize and she's good at helping me be like because that's what we've have assigned a mcore. I kind of like lay down the hammer out and all that sounds like really mean like I have the rules right and then she's got the compassion side. So we help each other that way and yeah, so compassion's might work for you. Thanks to the funny word would be like anxious. I think with the kids like Spike worry about them. In the middle of the night to am being woken up down down there might be an earthquake go. Can you go take the pictures off the wall and Hudson True? They're gonna fall on his head and then we're gonna Hospital. Yeah. It is a great way as well. Oh man, but as far as another word. Oh, no, you make it seem like I'm gonna say that. What is it? I'm just actually impressed at how flattering they I've been this episode. I thought they'd be so rude. I know okay. I don't know so the word is thoughtful. I feel like she's just really thoughtful and everything. She does with the kids and this thing no activities and structure and timing and little things. Pathan into all things therapy for as this is great. We love you guys. We're in love with her why use surprise? Here's our last husband still all question and then we'll dive into the little last portion. What has been your biggest challenge as a dad like a specific thing in parenting. I mean the easy one is discipline. I feel it's just with each kid and the easy answer. That's the easy answer, right? But when you feel the weight of these souls in your hands and you trying to help them along, but also not you want them to learn on their own and gain experiences and not just give them everything so finding that balance between letting them learn and just doing everything for them protecting them or that's I feel as what's been the most challenging. Yeah, I can agree with you with that for sure my and I think piggyback. That I've had I've had to dial back the amount. I think I have to get that balance of like make myself sound like I'm some like freaking jerk. I'm not I just like I really Marin calls me a turtle all the time because like you just prefer to stay in like your shell and stuff. Like if we're out at the mall and prefer the kids being in the stroller as opposed to being out running around so stressed about managing them and everything, but like I'm trying to be better at that the other thing that's been really hard for me like had to focus on I like become a lot better at is compartmentalizing like when I get home and I pull in the driveway every day. I take a deep breath and I try and just drain everything from the day out and then come home and be the best dad like be one because I get so focused on work and the providing side that a lot of times I was finding that bleeding into parenting. I'd be annoyed easily or like disconnected, but I've tried really hard to make sure like K when I get home. I'm home. And I'm orc. I'm at work and separate the two, you know, okay. Okay. So real quick. Let's talk about our love languages really fast. What are you guys as Love Languages? And how do you I guess like it to be expressed and express it to each other hers. I mean would definitely be serviced. She know that's what she responds. Yeah, like if someone were to make me a meal and bring it on my doorstep. I like I almost am in tears. I'm because I'm like, are you serious? Like I don't mean that is that is like the biggest like like I just for some reason any or if he like cleans my car or if he cleans the house, I'm just like, oh my gosh, I let her sleep in Back to the morning. Yeah. Yeah, you have to sleep in and I'm like, this is Evan. So yeah, I would say that. Okay what change love language all of them all? Hand in hand like close together. It's quality time for sure is like at the very top and physical touch is like right next to it. Yeah, so so like for us it's putting her phone away and spending time with him, which is hard and like when you're trying to do all these different like podcasts or bugs, there's whatever I'm always like my phone or an influencer. - A does it feel to have an improvement that's a whole another podcast but so like putting our fun toys from like 6:00 to 8:00 at night shows like okay, here's like quality time together or he's mr. Disneyland like he loves hunting trip. She I love Disneyland. I reach it. Say and your kids Wheat so dreamy. I just want to say I agree haven't work hours. So important. I wait like we got to the point where realizing we're on our phone so much doing work stuff or I'm on my laptop. This is like the bane of man's existence and so would putting that weighs. Just yeah, it's awesome. And I think too it's important. I mean, obviously we mentioned you edit all of our podcast. So you guys do a lot of work from home. So 2 or 4 in the morning, sometimes it's podcast. So yeah, it's good. But that's quality time. We get to spend together, right? She's like that doesn't like it's work time. It's me fall asleep and then down keeps being like you wearin wake up not gonna do this through podcast. Wake up. I get a text it for you. It's awesome. Behind the scenes K gallons love language is words of affirmation. Yes, it is and I would say physical touch is up there for him too. But like definitely words words of affirmation and it's taking me a minute to realize that it's not just like hey doll like good stuff like really really reassuring and like taking the time to because I don't believe anybody will have to be convinced that someone thing. Like do you write him right now? Basically like we're in a courtroom and I'm a lawyer like presenting evidence as to why I love him words eloquently. I love that but she is so good with words. She is it's a good that's why we're good parents. Yeah. Yep. She was my favorite word's. Marin's love language is a pairing of definitely number one is quality time. Second is physical touch. They're pretty close together. Physical touch only from you. Yes, only for me. Oh, she likes someone. Yeah. Are you a hugger? Like do you like hugging? Hey, I used to be a big hugger, but it's like since I've had kids for some reason you just maybe it's just I feel like I get too much like I'm touched he's been touched every uses that those words touched out on a daily love physical touch from my husband and my kids but probably time high school and like all these are times. I've known marriage. Was like the most like bubbly hugging everybody arms around everybody like all stuff and then having kids. She's like, this is where I am. This is my domain I touch my kids and my husband no one else. That's awesome though. But yeah, I like quality time saying like I would always prefer to do like a fun experience which for me I'm very introverted. Like I'm so introverted sometimes like I just think about being on the top of a mountain by myself just like you can in The wind is really hot. It's nice to dream. But at the same time so it's been good for me like varens like shitting learn how to be in the courtroom with me to prove. I don't know but I've also learned how to like K not being with meirin right now could be communicating something. I gotta think about that like make sure that we're showing those love language is important to know that for sure. I just want to give a little plug though for our listeners, but just like talking about this is so yeah great ass, if you don't know what you are because it's so See, well, I'm not even just saying like this is mine but expressing like how it needs to be expressed to you because when we naturally receive and naturally Give Love differently to yeah like your chest right free counseling. Yeah, like how do you naturally give love? I think I naturally give service. Well, I naturally stress out about whether they know I love them or not. Yes. I'm not sure. I think you naturally the people you're close with its physical. Touch is your natural one? Well like to other people. Yeah, probably survive. So to you give me a few gifts I got is so nice dalen for sure his like natural giving one is words. He's very wordy. See I'm not worthy and I not touchy. I feel like I just give time yeah and I want time. Yeah. Sure. I feel like I'm using GIF the same. Goodbye. Yeah true. I'm words of affirmation. I'm always writing little. Yeah. Yeah big on that. Hmm in a good way. I mean like I when I was little I always just write notes to my siblings and like pop it on their pillow. I've always been kind of a note girl. I used to write apology letters to my mom every time I did anything bad my mom saved all of them and they are really sad. Oh, it's like 10 year old me being like I'm a horrible daughter side note. Okay. So before we do this ending thing, I do want to ask you or would you rather would you rather? Change a really horrible poopy diaper like the worst of the worst kind of poopy diapers or stay with Hudson a while ago. Yeah or sit through an hour of little baby bum / the most annoying kid show that you hate little baby. But yeah, that's my little baby bump. Seriously, really the poop would be over in like two seconds. I would take this because it you have a man brain when I stare at a screen like that. I can I can zone out writing. Absolutely, nothing. It just cuddle zoning call a couple of kids on nails. Yeah, I think it's about how like men thing where like their brain can be thinking of nothing and yeah possible for know it's like when I watched little baby bum, I'm like analyzing it the whole time. Okay to end jobs and I are just going to share our favorite quality about you guys. This is my Dad. I'm gonna need a minute to think about okay. Oh man. He's the best. So where do I begin Shea is so fun and he cracks me up every single day. So sometimes he'll be more like like if he's if he's with people he doesn't know he's not going to be like the center of the room, but we'll go home and were laughing all night long. Like he just has like always making me laugh. So as a husband he's funded date and I honestly have been most surprised at how he's been a death like motherhood doesn't come natural for me, but it comes natural for him like fatherhood is so natural for him. So I've always just been like it's he just takes the kids. He lets me he knows I'm up with the kids at night. And so he'll let me sleep in like he just does so many things for me because he loves me so it's the best. Well I get to sleep in tomorrow my favorite quality about how it's Hudson. He's our child named. Don't worry. It's wrong man. Like an ex-boyfriend my favorite quality and excellent. No, no, no really at my stepmoms birthday party the other day my dad gave her like ruby earrings that she'd been wanting and she said thank you Bob, which is her first husband's name and then she went thank you Bob. I'm so sorry. Oh my God. What's the name, sir? Be thou so that's Factory Bailey. Yes. Okay. Sorry. Go ahead. My favorite quality about Dallin as a husband. I wrote about this actually recently, but he he's always like the one to apologize first or like make the harder but better choice in our marriage like he's always the one to like humble himself and say like I'm wrong even if he wasn't wrong. To try and comfort me or I don't know like he's always just the one to think about me over himself, I guess. Yeah selfless as a husband. Look at this. Why don't we do this more often on the podcast? And as a dad, I love how silly you are as a dad. I think I mean like I just love everything about you as a dad. I think that our kids are really lucky to have a dad. Who wants to spend so much time with them like you're not annoyed at spending time with our kids but just how silly you are with them all of the funny like jokes and games and voices you do when you read books and thanks. I got the Pooh Bear voice down for sure. Yeah, we've got to hear it a small smackerel something delicious. Barry you should talk Mickey Mouse. Wait, do you do Mickey Mouse? Come on? Yeah, I can't do it came out of sight. Yeah. No he used to do Elvis to he has won cheering come on just and you can do it. I'm making of know my husband's is more of the lip thing that really the voice. So, I think we're good. Thank you. Thank you very much. Do your All Shook Up. I'm All Shook Up. Before you conclude me and Shay have something to say. Okay, I've listed as is often script I listened and I know he has well the hundreds and hundreds probably a hundred by now right of hours of the two of you talking just have to say you guys are absolutely amazing. You are killing it on this platform. I think it's one of the most uplifting and wholesome things I've ever listened to and I've had the privilege of working on and it's worth every minute that we're home with the kids while you guys are doing this because you're making an impact and it's very easy to see and you're both awesome. Oh, that is so nice. Yeah, did I can listeners find you find us on Instagram between few names we're thinking either data hood or Papa Hood. So tell us what it is. You want to start? Yeah, we're gonna start a podcast. I'm start of doesn't start many seasons. Yeah the best well, thanks for coming on our podcast. We love you. I love you. I don't love you say that awkward. Just like all of you in like a child of God way. I have a podcast you can find me on the podcast of me. Marin do called both of us podcast. We're going to relaunch pretty soon. I also do a podcast called he Rambles because Marin said if anyone listens to this, all they're going to say is he Rambles so go check those out if I wasn't doing point for all of you guys, I love Of that. Thanks you guys for being on the show.</td>\n",
              "      <td>Think “The Men Tell All” but with our loving husbands! 😂 From love languages to surprises in marriage; from pet peeves to fatherhood woes... today’s episode is everything you’ve been asking for and more! We hope you enjoy a very special interview with Dallin and Shay- our two favorite guys! And we hope that you laugh along with us. Don’t worry- today will be “the most dramatic episode of The Mamahood Podcast yet!” 🌹 Don’t forget to snag a Promptly Journal to write about YOUR love story, children, travel and more! Visit www.promptlyjournals.com and use Code: MAMAHOOD15 for 15% off of your journal today! Both of Us Podcast He Rambles Podcast Also, let us know what you thought of today’s episode by scrolling down and leaving us a review, or contacting us through... insta: @the.mamahood email: themamahoodpodcast@gmail.com Thanks, and have a good week!</td>\n",
              "      <td>show_5u7B7iVU2vkc8Nk3fIKX2D:022lgGoXdlp9NzmUAXY3yQ</td>\n",
              "    </tr>\n",
              "    <tr>\n",
              "      <th>4</th>\n",
              "      <td>Hey everyone. I just want to start this episode off by talking a little bit about anchor the sponsor for this episode anchors. Also what I use to host my podcast and I want to talk a little bit about it. Well, first of all, it's free, there's creation tools that allow you to record and edit your podcast right from your phone or computer anchor distributes your podcast on Spotify Apple podcast and many other podcast platforms you canMake money from your podcast with no minimum listenership. And it's honestly everything that you need to make a podcast in one place. So download the free anchor app or go to Anchor dot. F m-- to get started. It's definitely helped me in my podcasting journey, and I'm sure it will help you too. All right now on to the episode You are now listening to the major jobs podcast. Hey everyone, welcome back to another episode of the major jobs podcast. This is a reupload of the previous ones that you're seeing this in your feeds again. It's on different episodes the same one. I think there were some audio difficulties because I'm using a new audio editor and I'm trying to figure it all out. So that's what I have going for me. So for this episode it is with a good friend of mine. He mentored me through Program called destined for ex's name is Josh Mendoza, and it was a great time getting to know how he started a nonprofit that helps high schoolers get to learn more about Silicon Valley and the different companies inside of it. So we toured different companies and he talks a little bit about that. But this is for people that want to start their own nonprofits. I want to give back to the community. He talks a bit about how he started a non-profit and what that process was like and what it's like actually running it. So without further Ado here is Is the episode? You so much for taking the time out of your day to do this. And before we begin I want to preface this podcast Episode by talking a little bit about who I'm interviewing today. So today I'm interviewing someone named Josh Mendoza and I got the pleasure to be able to know him for four days where he guided me. I think I talked about this in an update. Podcast but he started a non-profit where he would help teenagers go to different parts of Silicon Valley to learn more about the tech industry and I thought it was amazing and he offered his time to come on to the podcast today to talk about what he does and how he will made a non-profit. And also what he does like in general for his job. So I wanna Give you the floor to talk now Josh. This is what I usually say to all of my interviewees, which is the first question. What is your job title? And I know this is kind of a loaded question since you have a lot right now, but I guess when someone asks you what do you do for a living? What would you say? Yeah. Thank you so much too. And for the introduction really appreciate you having me on the podcast you did mention one of my job titles, which is the executive director of Dustin, correct? Which is a nonprofit that I started about three years ago when I was working at Microsoft my second job title, which is technically my primary one is a engineering program manager for chargepoint and I'll talk a little bit more about each of their respective companies that I work for / started my bit but charge Point what we do there is we're really making electric vehicle charging stations. So if you think about Tesla or the Chevy Volt or plug-in Prius has they're just really all the electric vehicles that are out. Out there, they need a place to charge. And so when I was working, well actually even when I was in Middle School, I always wanted to I always cared a lot about the environment and I thought I love I love cars and I thought you know, what? What a great way to combine two of my passions then, you know working for a company where we make stations where you know, you can charge your v's and so chargepoint really focuses on two main aspects. There's more of the the consumer side, which is say you have a Tesla or a Chevy bolt and you want to charge it in your garage. Home can buy our home charger, which is about the size of the it in half by 11 piece of paper. So it's pretty small and then you can just charge your car at home. We also have more industrial applications where we actually know if you're going on a road trip say from SF to La similar to how Tesla has their network of superchargers. We're building out a network of DC fast charger so that you know, instead of plugging your car for six eight hours. You can just plug it in for 10 20 30 minutes and be on your way. So with my a job there a charge point it's a lot of focuses on cables both internal and external cables. So internal cables pretty much everything that connects all the PCB boards together external isn't a pretty much what comes out of the unit and you plug into your vehicle. So there's a lot of working with the product teams marketing teams reliability teams, a lot of different cross-functional teams. Just making sure that you know, if we have a product that needs to be done by a certain date the cable needs to be done by a certain date and the difficult thing about cables is a lot of people think it's her. Simple it's just you know a bunch of wires and then you wrap it in some kind of a insulator and then that's it. You call it a day, but when you're dealing with really high power like you are with electric vehicles. It's really complex and one that I just finished up a couple of weeks ago. It was about a year and a half of development just for the cable. So it's very complex very time-consuming. But that's one of the things that I do and I don't know if you have any specific questions on that before I jump into d4x or Augustine 4X. Yeah, actually we can talk about these two specific companies and then I was thinking we could just jump into what you do for the two different. I guess. I don't know if you would say company, but just like these two projects that you're involved with, I guess sure so for Dustin 4X so before working at chargepoint, I worked for a little over two years at Microsoft here in Mountain View. And so I still live in the Bay Area Silicon Valley and while I was there at Microsoft. Oh, yeah, so that is going to be six months or so into my time there. I started to get really restless and antsy and anxious thinking. Oh my God, I worked my whole life to get to this place in the working at one of the best companies in the world. And at the time I was working on Microsoft hololens, which I'm not sure how much your viewers are familiar with our listeners are familiar with it, but it's basically like Oculus but Microsoft version more geared towards like education and Enterprise and so coming from a family where my dad didn't go to high school. Mom didn't go to high school. They didn't even go to college didn't have those opportunities in Mexico, you know coming here sacrificing a lot for my family for me. It was like this dream come true of like wow, I made a Stanford. Wow, I made it to Microsoft. But after I got there it was like is this it like is this really it like and then I started feel guilty. Like, you know, I'm making so much money again relative to where my family came from. I work at a really good really A company and like there's really great people here. It's a really great product and got a great manager and it really made me want to formalize a way that I gave back to to the world into the community. And even before I worked at Microsoft, I would always go back to my high school and talk to kids about scholarships and talking about college applications and just trying to give them things that I found helpful for me in my career in achieving success both in my educational Endeavors and in my professional Endeavors, and so when I was at Microsoft. I thought you know what I got to do something like just just make it formal like call it something so it's not just like I go, you know how to high schools and talk randomly. It's like there was actually some bigger meaning bigger picture behind everything that I'm doing and so long story short during one of the volunteer sessions at Microsoft. There was this man called Andrew Patterson who he came from New Zealand and he brought I think it was like 10 students here. So all from under privileged underrepresented backgrounds and you know, they they stopped by Laughs and I was just really floored by the quality of questions that they ask, you know connect you with me on LinkedIn afterwards. They asked no really good questions afterwards and they followed up with me and they gave me a little gift for the thank you card. And I was like, wow like an all the the volunteer sessions that I didn't Microsoft that one stood out to me the most just because it it was such a high caliber of students that you know, even for other programs that I volunteered for like, they didn't Focus so much on that professional aspect of like hey, A go up and talk to the person don't connect with them on LinkedIn like reform that professional connection with that person. Don't feel like they're they're like a god or something because they work in Microsoft or just another person like anyone else like build your Professional Network and I told Andrew Patterson afterwards like this is amazing. Like I want to do something really similar to this and I will never forget what he told me. He said just to go do it so that night I went home and I got a free Squarespace trial build up a website. I bought a domain from Google for Barks, I called it Dustin 4X which for me I think is really like we get to shape our own destiny as you know, whether it's you know, you want to go to a specific school or not or you want to study this major or you want to know be this in your professional career or you want to switch and do something completely different after five years like you get to choose but there's a certain set of qualities and skills that will help you throughout the entire process your whole life pretty much and so that's what we really focus on. With dust and directs where each summer we bring in a handful and this year was 13th teal and Pierre Part of those 13. And again, it's really awesome having you you taken like you mentioned two different parts of Silicon Valley to Facebook to Google to Microsoft and you know just introduce them to people that work at these companies people that you know aren't just your typical software Engineers with people who work in Hardware people who are working marketing people who work in product and just getting people a good sense of like, oh, wow. I don't necessarily need to be in Tech to work in time. It's not me. So that's what we do with doesn't Braixen. It's been a huge part of like my moral compass of like how am I giving back to the world and impacting people very directly not just in building physical products like I did at Microsoft recharge point, so it's really fulfilling I love doing it and it's led me to a lot of cool places like being on this podcast. Yeah, and I want to like just like follow from that and I guess talk about my own experiences in the program. So so prior to doing the program, I didn't know that much about networking and the tech industry and you know, I didn't even have a LinkedIn account or anything because I didn't really know anything about that whole kind of industry. So when you know, they started talking to me about the networking and these virtual calls weeks before where they would like prep the whole like cohort of like my peers that were in the group, you know, I what kind of schedule like this like didn't really that important to is networking really that important and then I actually go on to the program and I see like all of these like amazing people like Josh and Jason and I'm just throwing out names here that people don't know but like these people that work in all these like, you know, giant companies and are amazing and I'm seeing that and I'm like, yeah, you actually do need a LinkedIn account for all these things to like keep in touch with them later on and then there's like an Mark to LinkedIn as well, which I would have never known which is like, you know when you send personalized messages to people or when you like. Yeah, when you send personalized messages to people you have to know how to send it and what to write and it was just a lot of great information that I got in from the program and when I was attending I could just tell how passionate everybody was about hosting it especially Josh like you were so passionate. About wanting to impact me and the rest of the group and I can tell that you you probably changed me and everybody else's lives in there. And you know, just seeing the passion in your eyes when you know, we're in we're in the living room and you're trying to prep this all about something or when you're talking to us about something. I can tell that you and the rest of the Destin 4X staff. They really enjoy doing it and I can just tell that it's going to be a successful program for like Now till like whenever and my question is how did that how did that kind of come together? Because not that many people can just build a non-profit like that like just from one day. So how did that nonprofit kind of build up from when you first bought that Sky Google domain to what it is today? Yeah, it's funny you mention that because it was that first year in the time that we got the domain to the time that we actually had students on the ground. What we that first year. We flew State students out from various parts of California. It was about four months and mind you like I never started a non-profit Jason my co-founder had never started a non-profit Nancy who was someone a friend from college and she also joined the she had never started a non facility. We're just like these three young Professionals in like our early 20s. S who are like, how do we do this? Well, we don't know how to figure it out, right, you know going back to the space thing and you know getting the Google domain legit. I mean, I spent a couple of hours and just put you know, where is in a couple of pictures on a website and I was like a horrible website. It still is a horrible website. It could be improved a lot. It could be improved a lot but it's not about the website. It's about the impact but you know that that website I put up on my Facebook and I said, hey anyone want to help me then? Legit was just like here's my idea. I have nothing planned. I have no money. But here's what I want to do. Anyone want to help you. And from there. Like I just got like a bunch of comments like oh my God like yes, I'll give you like 5 bucks or 50 bucks for 500 bucks or like hey, I wanna help join as part of the team or you know, my friends who are working at Facebook or Google or you know other companies like oh my God. Yes, like, you know, let's have a tour of your students at my company like it. I think that really embodied the the korres Essence of what Dustin corrects is about it's not about like and you know, even if the bank with this here where like people were like wow like Josh started this really incredible things like no I'd like I started it but like to be completely honest like it's it's the team it's everyone that came together and you know by team it's not just people on the executive team. That's that my friends did that came out to the banquet, you know people at all these companies, you know people at all the restaurants that donated food so that you guys could, you know, eat lunch and dinner and like, you know be really healthy. Like it's just this Core Essence of like just bringing a whole Community together and you know, it's not just about the tech companies. It's about like I mentioned like the restaurants they have nothing to do with type what they believe in that mission of like giving students an opportunity and I think that's really what what the beauty of it was like it took time, but it was just getting people and rallying them behind an idea. So like give back and make the world a better place and I think if there's any advice that I would give to people is is it if you have an idea just like do that first little thing to get you started and like kind of like an MVP of sorts like, you know, that website was an MVP, but it was just a bunch of words and pictures that there were there was no actual like schedule or anything to together at that point, but just, you know, put something together and show it to other people and you know, if they like it then just keep going until your it out. They don't figure out like why I didn't work and you know, I can talk a little bit more about a second business that I started that you know actually kind of flopped. Because like it, I think it was just difficult to like find product Market fit for that one. And you know what I decided, you know, what what I'm trying to do in this business is very similar to what d4x is doing or like what we've now decided to do and d4x. So why don't I just focus d4x moron like doing this thing is d4x already exists. But yeah, I think it's over the past three years has just been like find people that care about what you do and like individual people like want to see and want to contribute in their own special way. Away, and just let them do it like we had for example Emily this year and Stacy who you met they both came in and maybe like four or five months before the program started and they were like, let's learn more about deep. All right, so, what'd you guys do what you guys don't do it like what the students need and we were like well to be honest. We need a mentorship program. Like we don't have a formal program where after the students go home. They get mentored by someone, you know, even if it's like once a month kind of a thing and they're like, okay, let's go do it. There's just two people like and you know, For months, they are like, okay, like what is the program going to look like choosing to be talking to who like, how is this going to work? Like how often would I be willing to meet up and they just did it. Right? And I think that's the the Bucks part of like unlocking people's talents is just being like what do you want to do? Where do you see a problem? Go fix it? Okay. You need this. Do you need like money? Do you need like a website? Do you need like just go go figure it out like how to do it because we also have people in d4x that like they came from on really excited at first. First and then after a couple weeks they kind of like just didn't show up to meetings anymore and didn't contribute that much and I think it's because they didn't really have a good idea of like how they wanted to contribute and you know on my end also, I think it was during a time where it was unclear like well, okay, we burn our second program. Like what is our third one going to look like? Is it going to be exactly the same but just more people or do we completely like restructure it? So I think you know, the one thing that I've learned is a leader and as the executive directors to like Have people that have a lot of passion and a lot of ideas, but who also want to execute on that? Like it's great that you think we should do this, but I'm not going to be able to do everything. I've got a million other things to do like you need to have some kind of, you know, desire to like drive that change that you want to see so, you know, just I think that would be my word of advice even if you want to work for a company whatever company you are. Like. Hey, I think your company has this problem. I think this is a way to fix it. I think this is how I would do it and like you just showed. That like in an interview like this is how I bring value to your company. This is how I bring value to Dustin pretzel how I bring value to you as a person and just be very clear about that and I like how you touched on Parts about what it's like being an executive director for a non-profit. So what do you think we're things that you did in the past that kind of built you that make you kinda fit to be in this role. Role as an executive director for a non-profit. That's an interesting question because I think I'm learning every single day and I'm still making a ton of mistakes. So I had a conversation with one of our previous staff yesterday. She helped put our second program together and then she had some career stuff she had to deal with so she wasn't able to help out in the past couple months, but she told me something yesterday that like really struck me which was You're really good at just like listening to people and like motivating people and like getting them behind like doing something like whatever it is. And I think that's not necessarily like one of the key roles of being an executive director, but I think it's one of the key things of being a leader and like I mentioned like I'm not perfect by any means I like constantly criticize myself with like how I should have done that. I could've done that better, but I think the one thing that for the most part I think I do pretty well is Just being like all right, we've got to do this and like this is why it matters to you. And this is why I should matter to you because different people have different things that motivates them and as a leader you have to know like okay this person is motivated by title. This person is motivated by money. This person is motivated by impact. This person is motivated by like designing something nice and like just getting a bunch of these people that have completely different motivations, you know, sometimes they line but most of the time they're really different and just saying look you can find a piece of what you're looking for in the spring. Vision of this Grand picture of like what we're going to build now, I would doesn't practice it was like alright this you know from year to year three was we're going to double the number of students and we're going to get a nicer banquet hall and we're going to have this mentorship program and like those are the things that we're going to ask and then like just rallying people behind that like, okay, like I'll do the mentorship program. Okay, I'll help us find like a nice your Venue. Okay, I'll help us like, you know find you know twice as many students. Okay, I'll Fund Raising us so that we can have twice as many students and just getting a bunch of people behind that Vision I think is the The biggest thing for an executive director to be able to do. Yeah, I think that would be it. Okay, and did you ever expect maybe in high school that you would be an executive director at a non-profit? Did you know that you always had that drive in you that you wanted to impact some kind of change? No, I knew I knew I wanted to be the CEO of Apple. So executive director. See I guess it's the same thing. There, you know company is most world's most profitable company versus a non profit, you know, just a little bit different. I still do have you know the aspiration to become the CEO of my own for-profit company that's you know in the works the figuring out exactly what that's going to be even though I didn't really think that you know executive director of a non-profit is something that I would ever do uh-huh, but I think what drew me to it was what like again just my moral compass. Like I've always been really big on like helping underprivileged and underserved youth because that's where I came from another world. A lot of people, you know parents teachers mentors from to help me out get to where I am now and I want to pay it forward and I always had a drive to like start my own things. So I got a lot of questions actually in the past where it was like well, why would you start your own nonprofit? Why wouldn't you just like join a new one? It was like because I like starting things and that I can get going from like it literally does not exist like It exists like that part of that is it's a struggle but it's also what's most exciting to me. Like I like that challenge of like going from like raw idea to like it's actually something versus like someone already had an idea and I just have to make it which is you know, for example, like what I do in my engineering job. It's like here's the product and you know, here's what the specs are for the cable now go build it. So two two completely different different things. So I kind of knew from a very early age that I I always had this entrepreneurial drive like I like starting things. I like creating things. I like building things and not from scratch and I guess that just happened to align with my desire to like give back to the community. So I think one thing that I'd give a piece of advice to your listeners is And you know, I kind of need to tell myself this too is don't look so much for like what title of thing that you want to do just look at like where your differing interests might intersect like for example, like if I thought like, okay like all I like, you know starting things in like building things. That's like okay entrepreneur, but like for what like if they're nonprofit for-profit like and then, you know wanting to give back like, okay, how can like those two intersect like wanting to give back? I'm going to be an entrepreneur start a non-profit. Okay, like and that just kind of happened. Like it wasn't something that like in Middle Schools like yes, executive director. That sounds like and that's gonna do it for this episode of the podcast. Thank you so much for listening tune into the next part were Josh talks more about what it's like being a mechanical engineer and his day job. Alright. See you in the next one. Thanks for listening to the major jobs podcast. If you liked it, please be sure to follow us on Instagram at Major jobs podcast. If you have an interesting career and want to be featured on the show send us an email at Major jobs podcast at gmail.com with your job title and college major if applicable again, thanks for listening and remember life happens wherever you are whether you make it or not.</td>\n",
              "      <td>Today, I talk to Josh Mendoza, who started a Non-profit from the ground up.  Check out destinedforx.com!  ---   This episode is sponsored by  · Anchor: The easiest way to make a podcast.  https://anchor.fm/app</td>\n",
              "      <td>show_6ec9hDE62HkW7ckm2KC17L:03ZBsqa3VH6gjrJ07KO21D</td>\n",
              "    </tr>\n",
              "  </tbody>\n",
              "</table>"
            ],
            "text/plain": [
              "<IPython.core.display.HTML object>"
            ]
          },
          "metadata": {}
        }
      ]
    },
    {
      "cell_type": "markdown",
      "metadata": {
        "id": "lnjDIuQ3IrI-"
      },
      "source": [
        "The metric is an instance of [`datasets.Metric`](https://huggingface.co/docs/datasets/package_reference/main_classes.html#datasets.Metric):"
      ]
    },
    {
      "cell_type": "code",
      "metadata": {
        "id": "5o4rUteaIrI_",
        "colab": {
          "base_uri": "https://localhost:8080/"
        },
        "outputId": "9dbb1135-59e0-47f8-cd87-b2ee42eeb525"
      },
      "source": [
        "metric"
      ],
      "execution_count": 11,
      "outputs": [
        {
          "output_type": "execute_result",
          "data": {
            "text/plain": [
              "Metric(name: \"rouge\", features: {'predictions': Value(dtype='string', id='sequence'), 'references': Value(dtype='string', id='sequence')}, usage: \"\"\"\n",
              "Calculates average rouge scores for a list of hypotheses and references\n",
              "Args:\n",
              "    predictions: list of predictions to score. Each predictions\n",
              "        should be a string with tokens separated by spaces.\n",
              "    references: list of reference for each prediction. Each\n",
              "        reference should be a string with tokens separated by spaces.\n",
              "    rouge_types: A list of rouge types to calculate.\n",
              "        Valid names:\n",
              "        `\"rouge{n}\"` (e.g. `\"rouge1\"`, `\"rouge2\"`) where: {n} is the n-gram based scoring,\n",
              "        `\"rougeL\"`: Longest common subsequence based scoring.\n",
              "        `\"rougeLSum\"`: rougeLsum splits text using `\"\n",
              "\"`.\n",
              "        See details in https://github.com/huggingface/datasets/issues/617\n",
              "    use_stemmer: Bool indicating whether Porter stemmer should be used to strip word suffixes.\n",
              "    use_agregator: Return aggregates if this is set to True\n",
              "Returns:\n",
              "    rouge1: rouge_1 (precision, recall, f1),\n",
              "    rouge2: rouge_2 (precision, recall, f1),\n",
              "    rougeL: rouge_l (precision, recall, f1),\n",
              "    rougeLsum: rouge_lsum (precision, recall, f1)\n",
              "Examples:\n",
              "\n",
              "    >>> rouge = datasets.load_metric('rouge')\n",
              "    >>> predictions = [\"hello there\", \"general kenobi\"]\n",
              "    >>> references = [\"hello there\", \"general kenobi\"]\n",
              "    >>> results = rouge.compute(predictions=predictions, references=references)\n",
              "    >>> print(list(results.keys()))\n",
              "    ['rouge1', 'rouge2', 'rougeL', 'rougeLsum']\n",
              "    >>> print(results[\"rouge1\"])\n",
              "    AggregateScore(low=Score(precision=1.0, recall=1.0, fmeasure=1.0), mid=Score(precision=1.0, recall=1.0, fmeasure=1.0), high=Score(precision=1.0, recall=1.0, fmeasure=1.0))\n",
              "    >>> print(results[\"rouge1\"].mid.fmeasure)\n",
              "    1.0\n",
              "\"\"\", stored examples: 0)"
            ]
          },
          "metadata": {},
          "execution_count": 11
        }
      ]
    },
    {
      "cell_type": "markdown",
      "metadata": {
        "id": "jAWdqcUBIrJC"
      },
      "source": [
        "You can call its `compute` method with your predictions and labels, which need to be list of decoded strings:"
      ]
    },
    {
      "cell_type": "code",
      "metadata": {
        "id": "6XN1Rq0aIrJC",
        "colab": {
          "base_uri": "https://localhost:8080/"
        },
        "outputId": "f2c13329-2777-4a89-b7f0-9b2fa8eb81c0"
      },
      "source": [
        "fake_preds = [\"hello there\", \"general kenobi\"]\n",
        "fake_labels = [\"hello there\", \"general kenobi\"]\n",
        "metric.compute(predictions=fake_preds, references=fake_labels)"
      ],
      "execution_count": 12,
      "outputs": [
        {
          "output_type": "execute_result",
          "data": {
            "text/plain": [
              "{'rouge1': AggregateScore(low=Score(precision=1.0, recall=1.0, fmeasure=1.0), mid=Score(precision=1.0, recall=1.0, fmeasure=1.0), high=Score(precision=1.0, recall=1.0, fmeasure=1.0)),\n",
              " 'rouge2': AggregateScore(low=Score(precision=1.0, recall=1.0, fmeasure=1.0), mid=Score(precision=1.0, recall=1.0, fmeasure=1.0), high=Score(precision=1.0, recall=1.0, fmeasure=1.0)),\n",
              " 'rougeL': AggregateScore(low=Score(precision=1.0, recall=1.0, fmeasure=1.0), mid=Score(precision=1.0, recall=1.0, fmeasure=1.0), high=Score(precision=1.0, recall=1.0, fmeasure=1.0)),\n",
              " 'rougeLsum': AggregateScore(low=Score(precision=1.0, recall=1.0, fmeasure=1.0), mid=Score(precision=1.0, recall=1.0, fmeasure=1.0), high=Score(precision=1.0, recall=1.0, fmeasure=1.0))}"
            ]
          },
          "metadata": {},
          "execution_count": 12
        }
      ]
    },
    {
      "cell_type": "markdown",
      "metadata": {
        "id": "n9qywopnIrJH"
      },
      "source": [
        "## Preprocessing the data"
      ]
    },
    {
      "cell_type": "markdown",
      "metadata": {
        "id": "YVx71GdAIrJH"
      },
      "source": [
        "Before we can feed those texts to our model, we need to preprocess them. This is done by a 🤗 Transformers `Tokenizer` which will (as the name indicates) tokenize the inputs (including converting the tokens to their corresponding IDs in the pretrained vocabulary) and put it in a format the model expects, as well as generate the other inputs that the model requires.\n",
        "\n",
        "To do all of this, we instantiate our tokenizer with the `AutoTokenizer.from_pretrained` method, which will ensure:\n",
        "\n",
        "- we get a tokenizer that corresponds to the model architecture we want to use,\n",
        "- we download the vocabulary used when pretraining this specific checkpoint.\n",
        "\n",
        "That vocabulary will be cached, so it's not downloaded again the next time we run the cell."
      ]
    },
    {
      "cell_type": "code",
      "metadata": {
        "id": "eXNLu_-nIrJI"
      },
      "source": [
        "from transformers import AutoTokenizer\n",
        "    \n",
        "tokenizer = AutoTokenizer.from_pretrained(model_checkpoint)"
      ],
      "execution_count": 13,
      "outputs": []
    },
    {
      "cell_type": "markdown",
      "metadata": {
        "id": "Vl6IidfdIrJK"
      },
      "source": [
        "By default, the call above will use one of the fast tokenizers (backed by Rust) from the 🤗 Tokenizers library."
      ]
    },
    {
      "cell_type": "markdown",
      "metadata": {
        "id": "rowT4iCLIrJK"
      },
      "source": [
        "You can directly call this tokenizer on one sentence or a pair of sentences:"
      ]
    },
    {
      "cell_type": "code",
      "metadata": {
        "id": "a5hBlsrHIrJL",
        "colab": {
          "base_uri": "https://localhost:8080/"
        },
        "outputId": "b09db1a5-8cea-432c-8c7a-43fc93adcea2"
      },
      "source": [
        "tokenizer(\"Hello, this one sentence!\")"
      ],
      "execution_count": 14,
      "outputs": [
        {
          "output_type": "execute_result",
          "data": {
            "text/plain": [
              "{'input_ids': [8774, 6, 48, 80, 7142, 55, 1], 'attention_mask': [1, 1, 1, 1, 1, 1, 1]}"
            ]
          },
          "metadata": {},
          "execution_count": 14
        }
      ]
    },
    {
      "cell_type": "markdown",
      "metadata": {
        "id": "qo_0B1M2IrJM"
      },
      "source": [
        "Depending on the model you selected, you will see different keys in the dictionary returned by the cell above. They don't matter much for what we're doing here (just know they are required by the model we will instantiate later), you can learn more about them in [this tutorial](https://huggingface.co/transformers/preprocessing.html) if you're interested.\n",
        "\n",
        "Instead of one sentence, we can pass along a list of sentences:"
      ]
    },
    {
      "cell_type": "code",
      "metadata": {
        "id": "g7UxUW2tUfcu",
        "colab": {
          "base_uri": "https://localhost:8080/"
        },
        "outputId": "c8327027-ce20-4c54-903b-fb37a66b26b1"
      },
      "source": [
        "tokenizer([\"Hello, this one sentence!\", \"This is another sentence.\"])"
      ],
      "execution_count": 15,
      "outputs": [
        {
          "output_type": "execute_result",
          "data": {
            "text/plain": [
              "{'input_ids': [[8774, 6, 48, 80, 7142, 55, 1], [100, 19, 430, 7142, 5, 1]], 'attention_mask': [[1, 1, 1, 1, 1, 1, 1], [1, 1, 1, 1, 1, 1]]}"
            ]
          },
          "metadata": {},
          "execution_count": 15
        }
      ]
    },
    {
      "cell_type": "markdown",
      "metadata": {
        "id": "k-X9jvc0Ufcu"
      },
      "source": [
        "To prepare the targets for our model, we need to tokenize them inside the `as_target_tokenizer` context manager. This will make sure the tokenizer uses the special tokens corresponding to the targets:"
      ]
    },
    {
      "cell_type": "code",
      "metadata": {
        "id": "i_iwc1PMUfcu",
        "colab": {
          "base_uri": "https://localhost:8080/"
        },
        "outputId": "74ea64d2-6bfa-4366-f35d-7a3b45325dfa"
      },
      "source": [
        "with tokenizer.as_target_tokenizer():\n",
        "    print(tokenizer([\"Hello, this one sentence!\", \"This is another sentence.\"]))"
      ],
      "execution_count": 16,
      "outputs": [
        {
          "output_type": "stream",
          "name": "stdout",
          "text": [
            "{'input_ids': [[8774, 6, 48, 80, 7142, 55, 1], [100, 19, 430, 7142, 5, 1]], 'attention_mask': [[1, 1, 1, 1, 1, 1, 1], [1, 1, 1, 1, 1, 1]]}\n"
          ]
        }
      ]
    },
    {
      "cell_type": "markdown",
      "metadata": {
        "id": "2C0hcmp9IrJQ"
      },
      "source": [
        "If you are using one of the five T5 checkpoints we have to prefix the inputs with \"summarize:\" (the model can also translate and it needs the prefix to know which task it has to perform)."
      ]
    },
    {
      "cell_type": "code",
      "metadata": {
        "id": "UDPir_ehUfcv"
      },
      "source": [
        "if model_checkpoint in [\"t5-small\", \"t5-base\", \"t5-larg\", \"t5-3b\", \"t5-11b\"]:\n",
        "    prefix = \"summarize: \"\n",
        "else:\n",
        "    prefix = \"\""
      ],
      "execution_count": 17,
      "outputs": []
    },
    {
      "cell_type": "markdown",
      "metadata": {
        "id": "U14TiZPTUfcv"
      },
      "source": [
        "We can then write the function that will preprocess our samples. We just feed them to the `tokenizer` with the argument `truncation=True`. This will ensure that an input longer that what the model selected can handle will be truncated to the maximum length accepted by the model. The padding will be dealt with later on (in a data collator) so we pad examples to the longest length in the batch and not the whole dataset."
      ]
    },
    {
      "cell_type": "code",
      "metadata": {
        "id": "vc0BSBLIIrJQ"
      },
      "source": [
        "# this is the original code \n",
        "max_input_length = 1024\n",
        "max_target_length = 128\n",
        "\n",
        "def preprocess_function(examples):\n",
        "    inputs = [prefix + doc for doc in examples[\"document\"]]\n",
        "    model_inputs = tokenizer(inputs, max_length=max_input_length, truncation=True)\n",
        "\n",
        "    # Setup the tokenizer for targets\n",
        "    with tokenizer.as_target_tokenizer():\n",
        "        labels = tokenizer(examples[\"summary\"], max_length=max_target_length, truncation=True)\n",
        "\n",
        "    model_inputs[\"labels\"] = labels[\"input_ids\"]\n",
        "    return model_inputs"
      ],
      "execution_count": 18,
      "outputs": []
    },
    {
      "cell_type": "markdown",
      "metadata": {
        "id": "0lm8ozrJIrJR"
      },
      "source": [
        "This function works with one or several examples. In the case of several examples, the tokenizer will return a list of lists for each key:"
      ]
    },
    {
      "cell_type": "code",
      "metadata": {
        "id": "-b70jh26IrJS",
        "colab": {
          "base_uri": "https://localhost:8080/"
        },
        "outputId": "9a97d830-74f2-4135-db18-3d963d7ce509"
      },
      "source": [
        "preprocess_function(raw_datasets['train'][:2])"
      ],
      "execution_count": 19,
      "outputs": [
        {
          "output_type": "execute_result",
          "data": {
            "text/plain": [
              "{'input_ids': [[21603, 10, 12919, 6, 27, 43, 3, 9, 822, 5, 571, 405, 1163, 161, 248, 822, 8, 3, 13133, 8611, 5, 27, 31, 51, 22577, 11, 27, 31, 51, 12020, 11, 30, 469, 31, 7, 5640, 13, 7370, 5, 27, 43, 3, 9, 822, 5, 499, 822, 19, 149, 405, 1163, 161, 58, 264, 572, 278, 31, 17, 62, 5679, 48, 80, 95, 139, 192, 4064, 8, 7364, 56, 456, 28, 819, 13, 8, 1163, 960, 772, 161, 5, 264, 572, 103, 25, 217, 125, 25, 217, 116, 25, 169, 1163, 11, 3, 9, 511, 2859, 2087, 16, 3, 9, 511, 5640, 5, 101, 31, 195, 217, 149, 231, 97, 62, 43, 19, 149, 405, 1163, 143, 540, 58, 16036, 5, 264, 27, 31, 162, 3, 35, 19279, 25, 228, 114, 4888, 13725, 13, 34, 11, 258, 25, 54, 3011, 12, 8, 269, 1669, 3, 99, 25, 241, 5, 16036, 5, 264, 166, 822, 19, 149, 410, 8, 1163, 960, 772, 161, 58, 264, 1163, 19, 718, 3, 9, 960, 1948, 11, 307, 274, 25, 130, 1919, 269, 230, 78, 623, 5, 27, 133, 580, 3, 9, 765, 3509, 5, 290, 31, 7, 3, 9, 829, 119, 5, 16036, 6, 700, 24, 31, 7, 3, 9, 207, 2859, 21, 3, 9, 647, 3071, 38, 125, 19, 3, 9, 765, 3509, 5, 275, 149, 103, 79, 161, 58, 299, 752, 31, 7, 474, 24, 5915, 5, 264, 752, 31, 7, 131, 992, 30, 960, 7277, 474, 34, 30, 8, 570, 3, 3227, 274, 25, 130, 2170, 116, 8, 1396, 47, 385, 48, 19, 8, 2076, 2777, 7, 5, 290, 130, 3, 9, 7292, 13, 119, 960, 7277, 274, 132, 47, 1163, 857, 34, 42, 59, 11, 11, 8, 1288, 1330, 78, 114, 27, 580, 34, 44, 48, 500, 5, 11475, 5, 27, 31, 162, 150, 800, 5, 571, 54, 25, 960, 7277, 58, 1072, 25, 857, 16, 132, 47, 3, 9, 97, 274, 34, 116, 132, 47, 8, 1396, 68, 34, 47, 274, 1163, 78, 1362, 42, 3513, 3011, 12, 48, 56, 56, 7881, 128, 778, 960, 7277, 24, 25, 31, 162, 470, 1943, 13, 12020, 114, 4588, 9, 16695, 11, 1215, 8464, 125, 11, 114, 178, 33, 175, 11, 11, 15670, 55, 148, 1077, 1943, 13, 3, 63, 31, 1748, 6, 269, 58, 11475, 5, 16036, 5, 264, 273, 130, 66, 960, 7277, 274, 274, 1163, 530, 708, 11, 273, 778, 960, 7277, 5, 328, 1971, 12, 7958, 251, 30, 8, 1284, 57, 578, 3, 9, 234, 543, 131, 114, 8, 1163, 22844, 5, 299, 68, 8, 1396, 47, 78, 422, 223, 5, 37, 29, 132, 130, 78, 360, 765, 1688, 24, 79, 133, 700, 609, 853, 4921, 475, 5, 264, 3, 99, 25, 877, 12, 1215, 8464, 42, 4588, 9, 16695, 6, 21, 677, 6, 25, 133, 281, 12, 114, 25, 1214, 30, 3, 9, 2218, 24, 845, 5716, 11, 132, 133, 36, 114, 8, 604, 5716, 3395, 11, 25, 1214, 461, 3, 9, 2218, 24, 133, 497, 114, 4527, 12, 36, 114, 2059, 2658, 3369, 960, 2100, 5, 465, 6, 25, 737, 31, 17, 25, 131, 114, 25, 2868, 11, 25, 11, 25, 877, 12, 175, 315, 5897, 5, 264, 24, 47, 149, 778, 960, 1279, 5, 299, 572, 103, 25, 317, 24, 19, 29, 31, 17, 8, 194, 34, 930, 7595, 58, 363, 877, 58, 1548, 125, 2906, 78, 231, 1842, 21, 140, 250, 114, 27, 54, 497, 114, 8498, 467, 772, 13, 336, 706, 1446, 13, 114, 2100, 11, 131, 114, 897, 24, 34, 31, 7, 79, 31, 60, 6171, 24, 31, 7, 269, 960, 772, 33, 78, 231, 394, 5, 2751, 394, 6, 68, 125, 1307, 2130, 81, 8, 1396, 45, 8, 778, 477, 16, 8, 778, 477, 132, 130, 29393, 230, 8, 1396, 47, 2755, 223, 258, 69, 422, 269, 132, 130, 131, 194, 194, 3, 10643, 3395, 11, 230, 132, 33, 114, 3, 9, 2111, 21045, 381, 13, 3395, 78, 24, 24, 3295, 609, 9624, 11498, 8128, 378, 737, 31, 17, 161, 7595, 5, 264, 8529, 5184, 15, 1163, 16, 113, 341, 141, 150, 5, 465, 15670, 55, 363, 27, 31, 51, 352, 12, 5530, 230, 19, 149, 941, 960, 7277, 161, 11, 1163, 11, 15670, 6, 11, 272, 53, 33, 8, 386, 5, 2734, 122, 222, 132, 33, 3, 9, 1158, 717, 92, 11, 700, 15670, 55, 2048, 7, 272, 53, 7, 748, 230, 6161, 6, 78, 34, 31, 7, 6171, 1163, 19, 125, 62, 31, 60, 352, 12, 1350, 81, 5, 264, 1163, 764, 590, 11, 8, 12, 576, 14435, 7, 13, 1163, 3384, 24, 609, 9624, 11498, 8128, 3395, 47, 59, 352, 12, 161, 11, 78, 79, 764, 95, 28, 3, 9, 126, 800, 11, 70, 800, 47, 12, 483, 8, 960, 772, 30, 8, 475, 166, 151, 12, 103, 48, 5, 2163, 3, 390, 30, 149, 186, 13936, 119, 3395, 5229, 12, 315, 765, 1688, 250, 79, 243, 8957, 3, 99, 25, 43, 3, 9, 475, 11, 25, 854, 12, 1309, 12, 430, 475, 24, 19, 3, 9, 2902, 5, 466, 31, 7, 25, 10601, 11, 2145, 27, 317, 48, 119, 475, 19, 1134, 1633, 5, 264, 114, 25, 530, 39, 1180, 475, 3, 9, 11, 752, 31, 7, 497, 34, 31, 7, 3, 9, 3529, 475, 213, 25, 1431, 46, 1108, 11, 25, 31, 60, 114, 11, 8, 2984, 81, 2416, 16, 1692, 5, 2163, 16, 8, 1108, 19, 81, 6, 25, 214, 6, 248, 4257, 10944, 11, 39, 11, 8, 1108, 19, 114, 3359, 6, 3, 12534, 9, 6, 3, 12534, 9, 5, 100, 47, 3, 9, 248, 4257, 3954, 19, 12263, 11, 25, 854, 12, 143, 12263, 36, 3, 9, 1309, 12, 12263, 5, 287, 5, 16036, 128, 475, 81, 12263, 5, 11475, 5, 264, 24, 31, 7, 25, 10601, 5, 466, 31, 7, 25, 2145, 27, 317, 3, 60, 7, 5, 287, 19, 3, 9, 248, 475, 5, 275, 78, 125, 1163, 405, 19, 34, 65, 3, 9, 478, 718, 3, 9, 18612, 11, 34, 1550, 91, 2400, 8, 1396, 11, 34, 1214, 7, 11, 1214, 128, 14352, 11, 1214, 7, 11, 34, 1550, 12, 3, 9, 765, 1], [21603, 10, 9459, 3413, 6, 2222, 223, 12, 8, 8021, 208, 342, 8661, 3, 9, 504, 213, 62, 830, 25, 1113, 1329, 7639, 3886, 8917, 1269, 1937, 11, 231, 72, 143, 417, 12, 1049, 2895, 30, 584, 519, 25, 5, 287, 5, 101, 31, 60, 39, 9855, 28888, 1060, 11, 70, 16041, 3413, 6, 143, 417, 12, 691, 223, 28, 178, 3842, 1049, 95, 18, 235, 18, 5522, 129, 9014, 52, 2316, 6, 310, 669, 125, 34, 1217, 12, 129, 909, 12, 8, 416, 593, 1130, 178, 44, 584, 519, 497, 196, 47, 30, 8, 3, 5096, 11, 38, 373, 1423, 1049, 15712, 5, 5242, 12, 8, 504, 5, 5242, 223, 12, 8, 504, 223, 5, 101, 4785, 25, 5, 100, 19, 2879, 5, 12035, 5, 1562, 25, 541, 3088, 5, 2840, 31, 7, 6964, 58, 11475, 6, 34, 31, 7, 830, 34, 223, 11, 830, 376, 223, 423, 18, 17378, 13647, 2175, 5, 11342, 5, 27, 31, 51, 3413, 5, 1008, 31, 17, 3516, 5, 27, 31, 51, 270, 5, 27, 31, 51, 223, 5, 13685, 5, 1548, 6, 2049, 5, 1333, 21, 15539, 16, 3413, 5, 1960, 5, 101, 31, 60, 352, 12, 36, 2508, 81, 4454, 1134, 1134, 359, 2859, 21, 8611, 5, 101, 31, 60, 352, 12, 661, 190, 8, 7922, 4246, 270, 6, 25, 214, 6, 62, 31, 195, 1350, 3, 9, 385, 720, 81, 4239, 280, 4454, 25, 56, 720, 81, 114, 4454, 13, 717, 11, 4454, 13, 909, 16, 39, 1075, 16, 1085, 6, 84, 19, 1355, 359, 5, 264, 6964, 6, 27, 214, 62, 31, 60, 773, 13, 26463, 53, 274, 652, 48, 589, 8394, 11, 25, 141, 128, 248, 3376, 30, 48, 5, 27, 7, 132, 3461, 24, 25, 1114, 12, 456, 34, 326, 58, 1548, 6, 17945, 6, 700, 27, 25, 214, 16, 2508, 28, 3, 9, 418, 13, 315, 7144, 7, 11, 16, 70, 2458, 11, 351, 5, 101, 3536, 1590, 710, 116, 34, 639, 12, 1898, 8, 269, 4454, 21, 6257, 11, 11, 62, 31, 195, 129, 139, 3, 9, 385, 720, 72, 38, 623, 38, 1898, 2006, 773, 13, 3, 17979, 3242, 5, 299, 3, 9, 418, 13, 648, 27, 31, 195, 43, 9029, 28, 3852, 7, 11, 62, 31, 195, 2561, 323, 11, 27, 31, 195, 497, 8957, 1633, 5, 363, 31, 7, 39, 125, 31, 7, 39, 1288, 11, 27, 453, 773, 13, 453, 34, 4358, 24522, 12, 773, 13, 217, 125, 2212, 79, 31, 60, 352, 12, 240, 28, 34, 6, 25, 214, 125, 27, 1243, 58, 275, 11, 3, 9, 418, 13, 648, 34, 5542, 95, 5, 18354, 269, 223, 12, 125, 79, 700, 174, 12, 7905, 11, 79, 31, 195, 497, 168, 82, 1288, 12855, 310, 82, 1288, 19, 131, 12, 25, 214, 6, 125, 3, 99, 27, 228, 143, 305, 1907, 16, 3, 9, 847, 6, 27, 31, 26, 36, 27, 31, 26, 36, 356, 27, 31, 26, 36, 207, 6, 269, 58, 11475, 6, 27, 1243, 11, 11, 27, 43, 12, 27, 43, 12, 6264, 132, 47, 3, 9, 500, 16, 97, 16, 82, 280, 203, 977, 274, 652, 139, 48, 681, 213, 27, 261, 12, 317, 24, 396, 6, 25, 214, 6, 11, 27, 47, 114, 6, 17945, 3, 99, 27, 54, 143, 874, 1907, 3, 9, 847, 2093, 5, 11475, 6, 66, 82, 7200, 33, 5199, 11, 27, 43, 3, 9, 1158, 6189, 996, 22508, 996, 334, 712, 2039, 11, 27, 1243, 27, 228, 1097, 326, 13, 24, 5, 27, 31, 51, 5188, 25, 16, 48, 613, 24, 56, 5781, 25, 5, 94, 56, 6672, 17227, 25, 1431, 34, 56, 1190, 25, 45, 2188, 53, 250, 125, 2906, 11, 27, 31, 162, 894, 34, 78, 186, 648, 175, 3852, 7, 56, 161, 70, 522, 326, 5, 328, 31, 195, 161, 70, 522, 326, 552, 79, 1560, 24, 2185, 269, 132, 5, 275, 258, 38, 1116, 38, 79, 1560, 24, 2185, 3382, 125, 2906, 13997, 3793, 16, 8, 15580, 6, 27, 31, 51, 612, 5, 27, 278, 31, 17, 174, 7595, 5, 27, 31, 51, 207, 28, 125, 27, 43, 6, 25, 214, 6, 3536, 275, 258, 125, 2906, 19, 79, 79, 474, 24, 79, 474, 24, 2006, 30, 1452, 2058, 5, 27, 43, 12, 424, 24, 31, 7, 1434, 30, 82, 809, 5, 27, 1310, 141, 3, 9, 3634, 28, 8, 3852, 11, 27, 47, 2508, 12, 376, 81, 82, 351, 44, 8, 2137, 11, 27, 47, 25, 214, 8335, 16851, 11, 2088, 31, 17, 492, 5542, 942, 11, 27, 47, 114, 6, 17945, 6, 27, 47, 131, 3140, 21, 584, 519, 116, 25, 130, 464, 34, 6699, 44, 8, 2137, 5, 7271, 102, 5, 11475, 274, 584, 519, 11, 275, 3, 88, 31, 7, 114, 168, 149, 231, 62, 149, 231, 130, 25, 492, 114, 4279, 7, 140, 490, 58, 27, 47, 1119, 12, 43, 3, 9, 490, 3634, 28, 376, 5, 27, 31, 51, 114, 6, 8957, 6, 27, 47, 492, 213, 27, 47, 3, 9, 1158, 13, 203, 5, 27, 263, 943, 3, 9, 1158, 203, 13, 263, 3, 24620, 5, 216, 31, 7, 114, 6, 3, 32, 107, 78, 25, 130, 700, 692, 1134, 207, 11, 27, 31, 51, 114, 17081, 5, 465, 5, 11475, 5, 27, 214, 27, 47, 59, 692, 207, 11, 150, 24, 19, 59, 207, 540, 6, 269, 58, 148, 214, 125, 24, 31, 7, 24, 54, 36, 294, 13, 8, 682, 19, 213, 11, 34, 31, 7, 514, 12, 217, 149, 10843, 133, 1590, 139, 24, 9684, 6, 269, 213, 955, 25, 214, 6, 25, 31, 60, 840, 39, 27669, 19, 705, 145, 114, 8, 2559, 12, 7905, 5, 5068, 58, 275, 78, 25, 31, 60, 25, 31, 60, 692, 2891, 34, 1217, 39, 24564, 540, 39, 147, 16773, 39, 905, 6, 25, 31, 60, 25, 214, 6, 838, 91, 998, 2356, 25, 31, 60, 692, 11, 27, 31, 162, 894, 48, 6, 25, 214, 5388, 18, 134, 2916, 11, 11, 27, 31, 162, 118, 16, 8, 1102, 38, 168, 5, 2792, 27, 817, 8, 733, 116, 27, 47, 3, 9, 3852, 11, 27, 47, 2191, 6, 25, 214, 6, 27, 47, 1]], 'attention_mask': [[1, 1, 1, 1, 1, 1, 1, 1, 1, 1, 1, 1, 1, 1, 1, 1, 1, 1, 1, 1, 1, 1, 1, 1, 1, 1, 1, 1, 1, 1, 1, 1, 1, 1, 1, 1, 1, 1, 1, 1, 1, 1, 1, 1, 1, 1, 1, 1, 1, 1, 1, 1, 1, 1, 1, 1, 1, 1, 1, 1, 1, 1, 1, 1, 1, 1, 1, 1, 1, 1, 1, 1, 1, 1, 1, 1, 1, 1, 1, 1, 1, 1, 1, 1, 1, 1, 1, 1, 1, 1, 1, 1, 1, 1, 1, 1, 1, 1, 1, 1, 1, 1, 1, 1, 1, 1, 1, 1, 1, 1, 1, 1, 1, 1, 1, 1, 1, 1, 1, 1, 1, 1, 1, 1, 1, 1, 1, 1, 1, 1, 1, 1, 1, 1, 1, 1, 1, 1, 1, 1, 1, 1, 1, 1, 1, 1, 1, 1, 1, 1, 1, 1, 1, 1, 1, 1, 1, 1, 1, 1, 1, 1, 1, 1, 1, 1, 1, 1, 1, 1, 1, 1, 1, 1, 1, 1, 1, 1, 1, 1, 1, 1, 1, 1, 1, 1, 1, 1, 1, 1, 1, 1, 1, 1, 1, 1, 1, 1, 1, 1, 1, 1, 1, 1, 1, 1, 1, 1, 1, 1, 1, 1, 1, 1, 1, 1, 1, 1, 1, 1, 1, 1, 1, 1, 1, 1, 1, 1, 1, 1, 1, 1, 1, 1, 1, 1, 1, 1, 1, 1, 1, 1, 1, 1, 1, 1, 1, 1, 1, 1, 1, 1, 1, 1, 1, 1, 1, 1, 1, 1, 1, 1, 1, 1, 1, 1, 1, 1, 1, 1, 1, 1, 1, 1, 1, 1, 1, 1, 1, 1, 1, 1, 1, 1, 1, 1, 1, 1, 1, 1, 1, 1, 1, 1, 1, 1, 1, 1, 1, 1, 1, 1, 1, 1, 1, 1, 1, 1, 1, 1, 1, 1, 1, 1, 1, 1, 1, 1, 1, 1, 1, 1, 1, 1, 1, 1, 1, 1, 1, 1, 1, 1, 1, 1, 1, 1, 1, 1, 1, 1, 1, 1, 1, 1, 1, 1, 1, 1, 1, 1, 1, 1, 1, 1, 1, 1, 1, 1, 1, 1, 1, 1, 1, 1, 1, 1, 1, 1, 1, 1, 1, 1, 1, 1, 1, 1, 1, 1, 1, 1, 1, 1, 1, 1, 1, 1, 1, 1, 1, 1, 1, 1, 1, 1, 1, 1, 1, 1, 1, 1, 1, 1, 1, 1, 1, 1, 1, 1, 1, 1, 1, 1, 1, 1, 1, 1, 1, 1, 1, 1, 1, 1, 1, 1, 1, 1, 1, 1, 1, 1, 1, 1, 1, 1, 1, 1, 1, 1, 1, 1, 1, 1, 1, 1, 1, 1, 1, 1, 1, 1, 1, 1, 1, 1, 1, 1, 1, 1, 1, 1, 1, 1, 1, 1, 1, 1, 1, 1, 1, 1, 1, 1, 1, 1, 1, 1, 1, 1, 1, 1, 1, 1, 1, 1, 1, 1, 1, 1, 1, 1, 1, 1, 1, 1, 1, 1, 1, 1, 1, 1, 1, 1, 1, 1, 1, 1, 1, 1, 1, 1, 1, 1, 1, 1, 1, 1, 1, 1, 1, 1, 1, 1, 1, 1, 1, 1, 1, 1, 1, 1, 1, 1, 1, 1, 1, 1, 1, 1, 1, 1, 1, 1, 1, 1, 1, 1, 1, 1, 1, 1, 1, 1, 1, 1, 1, 1, 1, 1, 1, 1, 1, 1, 1, 1, 1, 1, 1, 1, 1, 1, 1, 1, 1, 1, 1, 1, 1, 1, 1, 1, 1, 1, 1, 1, 1, 1, 1, 1, 1, 1, 1, 1, 1, 1, 1, 1, 1, 1, 1, 1, 1, 1, 1, 1, 1, 1, 1, 1, 1, 1, 1, 1, 1, 1, 1, 1, 1, 1, 1, 1, 1, 1, 1, 1, 1, 1, 1, 1, 1, 1, 1, 1, 1, 1, 1, 1, 1, 1, 1, 1, 1, 1, 1, 1, 1, 1, 1, 1, 1, 1, 1, 1, 1, 1, 1, 1, 1, 1, 1, 1, 1, 1, 1, 1, 1, 1, 1, 1, 1, 1, 1, 1, 1, 1, 1, 1, 1, 1, 1, 1, 1, 1, 1, 1, 1, 1, 1, 1, 1, 1, 1, 1, 1, 1, 1, 1, 1, 1, 1, 1, 1, 1, 1, 1, 1, 1, 1, 1, 1, 1, 1, 1, 1, 1, 1, 1, 1, 1, 1, 1, 1, 1, 1, 1, 1, 1, 1, 1, 1, 1, 1, 1, 1, 1, 1, 1, 1, 1, 1, 1, 1, 1, 1, 1, 1, 1, 1, 1, 1, 1, 1, 1, 1, 1, 1, 1, 1, 1, 1, 1, 1, 1, 1, 1, 1, 1, 1, 1, 1, 1, 1, 1, 1, 1, 1, 1, 1, 1, 1, 1, 1, 1, 1, 1, 1, 1, 1, 1, 1, 1, 1, 1, 1, 1, 1, 1, 1, 1, 1, 1, 1, 1, 1, 1, 1, 1, 1, 1, 1, 1, 1, 1, 1, 1, 1, 1, 1, 1, 1, 1, 1, 1, 1, 1, 1, 1, 1, 1, 1, 1, 1, 1, 1, 1, 1, 1, 1, 1, 1, 1, 1, 1, 1, 1, 1, 1, 1, 1, 1, 1, 1, 1, 1, 1, 1, 1, 1, 1, 1, 1, 1, 1, 1, 1, 1, 1, 1, 1, 1, 1, 1, 1, 1, 1, 1, 1, 1, 1, 1, 1, 1, 1, 1, 1, 1, 1, 1, 1, 1, 1, 1, 1, 1, 1, 1, 1, 1, 1, 1, 1, 1, 1, 1, 1, 1, 1, 1, 1, 1, 1, 1, 1, 1, 1, 1, 1, 1, 1, 1, 1, 1, 1, 1, 1, 1, 1, 1, 1, 1, 1, 1, 1, 1, 1, 1, 1, 1, 1, 1, 1, 1, 1, 1, 1, 1, 1, 1, 1, 1, 1, 1, 1, 1, 1, 1, 1, 1, 1, 1, 1, 1, 1, 1, 1, 1, 1, 1, 1, 1, 1, 1, 1, 1, 1, 1, 1, 1, 1, 1, 1, 1, 1, 1, 1, 1, 1, 1, 1, 1, 1, 1, 1, 1, 1, 1, 1, 1, 1, 1, 1, 1, 1, 1, 1, 1, 1, 1, 1, 1, 1, 1, 1, 1, 1, 1, 1, 1, 1, 1, 1, 1, 1, 1, 1], [1, 1, 1, 1, 1, 1, 1, 1, 1, 1, 1, 1, 1, 1, 1, 1, 1, 1, 1, 1, 1, 1, 1, 1, 1, 1, 1, 1, 1, 1, 1, 1, 1, 1, 1, 1, 1, 1, 1, 1, 1, 1, 1, 1, 1, 1, 1, 1, 1, 1, 1, 1, 1, 1, 1, 1, 1, 1, 1, 1, 1, 1, 1, 1, 1, 1, 1, 1, 1, 1, 1, 1, 1, 1, 1, 1, 1, 1, 1, 1, 1, 1, 1, 1, 1, 1, 1, 1, 1, 1, 1, 1, 1, 1, 1, 1, 1, 1, 1, 1, 1, 1, 1, 1, 1, 1, 1, 1, 1, 1, 1, 1, 1, 1, 1, 1, 1, 1, 1, 1, 1, 1, 1, 1, 1, 1, 1, 1, 1, 1, 1, 1, 1, 1, 1, 1, 1, 1, 1, 1, 1, 1, 1, 1, 1, 1, 1, 1, 1, 1, 1, 1, 1, 1, 1, 1, 1, 1, 1, 1, 1, 1, 1, 1, 1, 1, 1, 1, 1, 1, 1, 1, 1, 1, 1, 1, 1, 1, 1, 1, 1, 1, 1, 1, 1, 1, 1, 1, 1, 1, 1, 1, 1, 1, 1, 1, 1, 1, 1, 1, 1, 1, 1, 1, 1, 1, 1, 1, 1, 1, 1, 1, 1, 1, 1, 1, 1, 1, 1, 1, 1, 1, 1, 1, 1, 1, 1, 1, 1, 1, 1, 1, 1, 1, 1, 1, 1, 1, 1, 1, 1, 1, 1, 1, 1, 1, 1, 1, 1, 1, 1, 1, 1, 1, 1, 1, 1, 1, 1, 1, 1, 1, 1, 1, 1, 1, 1, 1, 1, 1, 1, 1, 1, 1, 1, 1, 1, 1, 1, 1, 1, 1, 1, 1, 1, 1, 1, 1, 1, 1, 1, 1, 1, 1, 1, 1, 1, 1, 1, 1, 1, 1, 1, 1, 1, 1, 1, 1, 1, 1, 1, 1, 1, 1, 1, 1, 1, 1, 1, 1, 1, 1, 1, 1, 1, 1, 1, 1, 1, 1, 1, 1, 1, 1, 1, 1, 1, 1, 1, 1, 1, 1, 1, 1, 1, 1, 1, 1, 1, 1, 1, 1, 1, 1, 1, 1, 1, 1, 1, 1, 1, 1, 1, 1, 1, 1, 1, 1, 1, 1, 1, 1, 1, 1, 1, 1, 1, 1, 1, 1, 1, 1, 1, 1, 1, 1, 1, 1, 1, 1, 1, 1, 1, 1, 1, 1, 1, 1, 1, 1, 1, 1, 1, 1, 1, 1, 1, 1, 1, 1, 1, 1, 1, 1, 1, 1, 1, 1, 1, 1, 1, 1, 1, 1, 1, 1, 1, 1, 1, 1, 1, 1, 1, 1, 1, 1, 1, 1, 1, 1, 1, 1, 1, 1, 1, 1, 1, 1, 1, 1, 1, 1, 1, 1, 1, 1, 1, 1, 1, 1, 1, 1, 1, 1, 1, 1, 1, 1, 1, 1, 1, 1, 1, 1, 1, 1, 1, 1, 1, 1, 1, 1, 1, 1, 1, 1, 1, 1, 1, 1, 1, 1, 1, 1, 1, 1, 1, 1, 1, 1, 1, 1, 1, 1, 1, 1, 1, 1, 1, 1, 1, 1, 1, 1, 1, 1, 1, 1, 1, 1, 1, 1, 1, 1, 1, 1, 1, 1, 1, 1, 1, 1, 1, 1, 1, 1, 1, 1, 1, 1, 1, 1, 1, 1, 1, 1, 1, 1, 1, 1, 1, 1, 1, 1, 1, 1, 1, 1, 1, 1, 1, 1, 1, 1, 1, 1, 1, 1, 1, 1, 1, 1, 1, 1, 1, 1, 1, 1, 1, 1, 1, 1, 1, 1, 1, 1, 1, 1, 1, 1, 1, 1, 1, 1, 1, 1, 1, 1, 1, 1, 1, 1, 1, 1, 1, 1, 1, 1, 1, 1, 1, 1, 1, 1, 1, 1, 1, 1, 1, 1, 1, 1, 1, 1, 1, 1, 1, 1, 1, 1, 1, 1, 1, 1, 1, 1, 1, 1, 1, 1, 1, 1, 1, 1, 1, 1, 1, 1, 1, 1, 1, 1, 1, 1, 1, 1, 1, 1, 1, 1, 1, 1, 1, 1, 1, 1, 1, 1, 1, 1, 1, 1, 1, 1, 1, 1, 1, 1, 1, 1, 1, 1, 1, 1, 1, 1, 1, 1, 1, 1, 1, 1, 1, 1, 1, 1, 1, 1, 1, 1, 1, 1, 1, 1, 1, 1, 1, 1, 1, 1, 1, 1, 1, 1, 1, 1, 1, 1, 1, 1, 1, 1, 1, 1, 1, 1, 1, 1, 1, 1, 1, 1, 1, 1, 1, 1, 1, 1, 1, 1, 1, 1, 1, 1, 1, 1, 1, 1, 1, 1, 1, 1, 1, 1, 1, 1, 1, 1, 1, 1, 1, 1, 1, 1, 1, 1, 1, 1, 1, 1, 1, 1, 1, 1, 1, 1, 1, 1, 1, 1, 1, 1, 1, 1, 1, 1, 1, 1, 1, 1, 1, 1, 1, 1, 1, 1, 1, 1, 1, 1, 1, 1, 1, 1, 1, 1, 1, 1, 1, 1, 1, 1, 1, 1, 1, 1, 1, 1, 1, 1, 1, 1, 1, 1, 1, 1, 1, 1, 1, 1, 1, 1, 1, 1, 1, 1, 1, 1, 1, 1, 1, 1, 1, 1, 1, 1, 1, 1, 1, 1, 1, 1, 1, 1, 1, 1, 1, 1, 1, 1, 1, 1, 1, 1, 1, 1, 1, 1, 1, 1, 1, 1, 1, 1, 1, 1, 1, 1, 1, 1, 1, 1, 1, 1, 1, 1, 1, 1, 1, 1, 1, 1, 1, 1, 1, 1, 1, 1, 1, 1, 1, 1, 1, 1, 1, 1, 1, 1, 1, 1, 1, 1, 1, 1, 1, 1, 1, 1, 1, 1, 1, 1, 1, 1, 1, 1, 1, 1, 1, 1, 1, 1, 1, 1, 1, 1, 1, 1, 1, 1, 1, 1, 1, 1, 1, 1, 1, 1, 1, 1, 1, 1, 1, 1, 1, 1, 1, 1, 1, 1, 1, 1, 1, 1, 1, 1, 1, 1, 1, 1, 1, 1, 1, 1, 1, 1, 1, 1, 1, 1, 1, 1, 1, 1, 1, 1, 1, 1, 1, 1, 1, 1, 1, 1, 1, 1, 1, 1, 1, 1, 1, 1, 1, 1, 1, 1, 1, 1, 1, 1, 1, 1, 1, 1, 1, 1, 1, 1, 1, 1, 1, 1, 1, 1]], 'labels': [[101, 2497, 149, 10283, 960, 772, 161, 5, 86, 8, 416, 5640, 6, 62, 56, 2497, 149, 10283, 656, 540, 5, 3, 14817, 9384, 16, 3, 9, 2249, 1569, 10, 4893, 1303, 152, 19220, 5, 89, 51, 87, 7, 3208, 2110, 18, 52, 9, 7, 75, 1647, 87, 2687, 7, 545, 1], [4001, 149, 12, 356, 8, 2024, 4454, 21, 909, 6, 39, 3852, 7, 6, 11, 39, 372, 5, 1]]}"
            ]
          },
          "metadata": {},
          "execution_count": 19
        }
      ]
    },
    {
      "cell_type": "markdown",
      "metadata": {
        "id": "zS-6iXTkIrJT"
      },
      "source": [
        "To apply this function on all the pairs of sentences in our dataset, we just use the `map` method of our `dataset` object we created earlier. This will apply the function on all the elements of all the splits in `dataset`, so our training, validation and testing data will be preprocessed in one single command."
      ]
    },
    {
      "cell_type": "code",
      "metadata": {
        "id": "DDtsaJeVIrJT",
        "colab": {
          "base_uri": "https://localhost:8080/"
        },
        "outputId": "58bdf4a3-3d78-4ad2-8ed1-f69e9c85323b"
      },
      "source": [
        "tokenized_datasets = raw_datasets.map(preprocess_function, batched=True)"
      ],
      "execution_count": 20,
      "outputs": [
        {
          "output_type": "stream",
          "name": "stderr",
          "text": [
            "Loading cached processed dataset at /root/.cache/huggingface/datasets/json/default-87b4d7ad970ac453/0.0.0/c2d554c3377ea79c7664b93dc65d0803b45e3279000f993c7bfd18937fd7f426/cache-878fe4bdaa3584d9.arrow\n",
            "Loading cached processed dataset at /root/.cache/huggingface/datasets/json/default-87b4d7ad970ac453/0.0.0/c2d554c3377ea79c7664b93dc65d0803b45e3279000f993c7bfd18937fd7f426/cache-10cba7587ac686c1.arrow\n",
            "Loading cached processed dataset at /root/.cache/huggingface/datasets/json/default-87b4d7ad970ac453/0.0.0/c2d554c3377ea79c7664b93dc65d0803b45e3279000f993c7bfd18937fd7f426/cache-6dddb679dc794fb2.arrow\n"
          ]
        }
      ]
    },
    {
      "cell_type": "markdown",
      "metadata": {
        "id": "voWiw8C7IrJV"
      },
      "source": [
        "Even better, the results are automatically cached by the 🤗 Datasets library to avoid spending time on this step the next time you run your notebook. The 🤗 Datasets library is normally smart enough to detect when the function you pass to map has changed (and thus requires to not use the cache data). For instance, it will properly detect if you change the task in the first cell and rerun the notebook. 🤗 Datasets warns you when it uses cached files, you can pass `load_from_cache_file=False` in the call to `map` to not use the cached files and force the preprocessing to be applied again.\n",
        "\n",
        "Note that we passed `batched=True` to encode the texts by batches together. This is to leverage the full benefit of the fast tokenizer we loaded earlier, which will use multi-threading to treat the texts in a batch concurrently."
      ]
    },
    {
      "cell_type": "markdown",
      "metadata": {
        "id": "545PP3o8IrJV"
      },
      "source": [
        "## Fine-tuning the model"
      ]
    },
    {
      "cell_type": "markdown",
      "metadata": {
        "id": "FBiW8UpKIrJW"
      },
      "source": [
        "Now that our data is ready, we can download the pretrained model and fine-tune it. Since our task is of the sequence-to-sequence kind, we use the `AutoModelForSeq2SeqLM` class. Like with the tokenizer, the `from_pretrained` method will download and cache the model for us."
      ]
    },
    {
      "cell_type": "code",
      "metadata": {
        "id": "TlqNaB8jIrJW"
      },
      "source": [
        "from transformers import AutoModelForSeq2SeqLM, DataCollatorForSeq2Seq, Seq2SeqTrainingArguments, Seq2SeqTrainer\n",
        "\n",
        "model = AutoModelForSeq2SeqLM.from_pretrained(model_checkpoint)"
      ],
      "execution_count": 21,
      "outputs": []
    },
    {
      "cell_type": "markdown",
      "metadata": {
        "id": "CczA5lJlIrJX"
      },
      "source": [
        "Note that  we don't get a warning like in our classification example. This means we used all the weights of the pretrained model and there is no randomly initialized head in this case."
      ]
    },
    {
      "cell_type": "markdown",
      "metadata": {
        "id": "_N8urzhyIrJY"
      },
      "source": [
        "To instantiate a `Seq2SeqTrainer`, we will need to define three more things. The most important is the [`Seq2SeqTrainingArguments`](https://huggingface.co/transformers/main_classes/trainer.html#transformers.Seq2SeqTrainingArguments), which is a class that contains all the attributes to customize the training. It requires one folder name, which will be used to save the checkpoints of the model, and all other arguments are optional:"
      ]
    },
    {
      "cell_type": "code",
      "metadata": {
        "id": "HThcA5dDUfcx"
      },
      "source": [
        "batch_size = 4\n",
        "model_name = model_checkpoint.split(\"/\")[-1]\n",
        "args = Seq2SeqTrainingArguments(\n",
        "    f\"{model_name}-finetuned-xsum\",\n",
        "    evaluation_strategy = \"epoch\",\n",
        "    learning_rate=2e-5,\n",
        "    per_device_train_batch_size=batch_size,\n",
        "    per_device_eval_batch_size=batch_size,\n",
        "    weight_decay=0.01,\n",
        "    save_total_limit=3,\n",
        "    num_train_epochs=1,\n",
        "    predict_with_generate=True,\n",
        "    #fp16=True,\n",
        "    #push_to_hub=True,\n",
        ")"
      ],
      "execution_count": 22,
      "outputs": []
    },
    {
      "cell_type": "markdown",
      "metadata": {
        "id": "km3pGVdTIrJc"
      },
      "source": [
        "Here we set the evaluation to be done at the end of each epoch, tweak the learning rate, use the `batch_size` defined at the top of the cell and customize the weight decay. Since the `Seq2SeqTrainer` will save the model regularly and our dataset is quite large, we tell it to make three saves maximum. Lastly, we use the `predict_with_generate` option (to properly generate summaries) and activate mixed precision training (to go a bit faster).\n",
        "\n",
        "The last argument to setup everything so we can push the model to the [Hub](https://huggingface.co/models) regularly during training. Remove it if you didn't follow the installation steps at the top of the notebook. If you want to save your model locally in a name that is different than the name of the repository it will be pushed, or if you want to push your model under an organization and not your name space, use the `hub_model_id` argument to set the repo name (it needs to be the full name, including your namespace: for instance `\"sgugger/t5-finetuned-xsum\"` or `\"huggingface/t5-finetuned-xsum\"`).\n",
        "\n",
        "Then, we need a special kind of data collator, which will not only pad the inputs to the maximum length in the batch, but also the labels:"
      ]
    },
    {
      "cell_type": "code",
      "metadata": {
        "id": "5Fw_Yr_XUfcx"
      },
      "source": [
        "data_collator = DataCollatorForSeq2Seq(tokenizer, model=model)"
      ],
      "execution_count": 23,
      "outputs": []
    },
    {
      "cell_type": "markdown",
      "metadata": {
        "id": "7sZOdRlRIrJd"
      },
      "source": [
        "The last thing to define for our `Seq2SeqTrainer` is how to compute the metrics from the predictions. We need to define a function for this, which will just use the `metric` we loaded earlier, and we have to do a bit of pre-processing to decode the predictions into texts:"
      ]
    },
    {
      "cell_type": "code",
      "metadata": {
        "id": "UmvbnJ9JIrJd"
      },
      "source": [
        "import nltk\n",
        "import numpy as np\n",
        "\n",
        "def compute_metrics(eval_pred):\n",
        "    predictions, labels = eval_pred\n",
        "    decoded_preds = tokenizer.batch_decode(predictions, skip_special_tokens=True)\n",
        "    # Replace -100 in the labels as we can't decode them.\n",
        "    labels = np.where(labels != -100, labels, tokenizer.pad_token_id)\n",
        "    decoded_labels = tokenizer.batch_decode(labels, skip_special_tokens=True)\n",
        "    \n",
        "    # Rouge expects a newline after each sentence\n",
        "    decoded_preds = [\"\\n\".join(nltk.sent_tokenize(pred.strip())) for pred in decoded_preds]\n",
        "    decoded_labels = [\"\\n\".join(nltk.sent_tokenize(label.strip())) for label in decoded_labels]\n",
        "    \n",
        "    result = metric.compute(predictions=decoded_preds, references=decoded_labels, use_stemmer=True)\n",
        "    # Extract a few results\n",
        "    result = {key: value.mid.fmeasure * 100 for key, value in result.items()}\n",
        "    \n",
        "    # Add mean generated length\n",
        "    prediction_lens = [np.count_nonzero(pred != tokenizer.pad_token_id) for pred in predictions]\n",
        "    result[\"gen_len\"] = np.mean(prediction_lens)\n",
        "    \n",
        "    return {k: round(v, 4) for k, v in result.items()}"
      ],
      "execution_count": 24,
      "outputs": []
    },
    {
      "cell_type": "markdown",
      "metadata": {
        "id": "rXuFTAzDIrJe"
      },
      "source": [
        "Then we just need to pass all of this along with our datasets to the `Seq2SeqTrainer`:"
      ]
    },
    {
      "cell_type": "code",
      "metadata": {
        "id": "imY1oC3SIrJf"
      },
      "source": [
        "trainer = Seq2SeqTrainer(\n",
        "    model,\n",
        "    args,\n",
        "    train_dataset=tokenized_datasets[\"train\"],\n",
        "    eval_dataset=tokenized_datasets[\"validation\"],\n",
        "    data_collator=data_collator,\n",
        "    tokenizer=tokenizer,\n",
        "    compute_metrics=compute_metrics\n",
        ")"
      ],
      "execution_count": 25,
      "outputs": []
    },
    {
      "cell_type": "markdown",
      "metadata": {
        "id": "CdzABDVcIrJg"
      },
      "source": [
        "We can now finetune our model by just calling the `train` method:"
      ]
    },
    {
      "cell_type": "code",
      "metadata": {
        "colab": {
          "base_uri": "https://localhost:8080/"
        },
        "id": "2y5D9v5_zIXu",
        "outputId": "e75b2f70-d006-4fb4-a134-5e76102c056f"
      },
      "source": [
        "import nltk\n",
        "nltk.download('punkt')"
      ],
      "execution_count": 26,
      "outputs": [
        {
          "output_type": "stream",
          "name": "stdout",
          "text": [
            "[nltk_data] Downloading package punkt to /root/nltk_data...\n",
            "[nltk_data]   Package punkt is already up-to-date!\n"
          ]
        },
        {
          "output_type": "execute_result",
          "data": {
            "text/plain": [
              "True"
            ]
          },
          "metadata": {},
          "execution_count": 26
        }
      ]
    },
    {
      "cell_type": "code",
      "metadata": {
        "id": "uNx5pyRlIrJh",
        "scrolled": false,
        "colab": {
          "base_uri": "https://localhost:8080/",
          "height": 457
        },
        "outputId": "f383aba4-5194-49e1-bd35-49be0f7e3519"
      },
      "source": [
        "trainer.train()"
      ],
      "execution_count": 27,
      "outputs": [
        {
          "output_type": "stream",
          "name": "stderr",
          "text": [
            "The following columns in the training set  don't have a corresponding argument in `T5ForConditionalGeneration.forward` and have been ignored: id, document, summary.\n",
            "***** Running training *****\n",
            "  Num examples = 1000\n",
            "  Num Epochs = 1\n",
            "  Instantaneous batch size per device = 4\n",
            "  Total train batch size (w. parallel, distributed & accumulation) = 4\n",
            "  Gradient Accumulation steps = 1\n",
            "  Total optimization steps = 250\n"
          ]
        },
        {
          "output_type": "display_data",
          "data": {
            "text/html": [
              "\n",
              "    <div>\n",
              "      \n",
              "      <progress value='250' max='250' style='width:300px; height:20px; vertical-align: middle;'></progress>\n",
              "      [250/250 1:26:13, Epoch 1/1]\n",
              "    </div>\n",
              "    <table border=\"1\" class=\"dataframe\">\n",
              "  <thead>\n",
              "    <tr style=\"text-align: left;\">\n",
              "      <th>Epoch</th>\n",
              "      <th>Training Loss</th>\n",
              "      <th>Validation Loss</th>\n",
              "      <th>Rouge1</th>\n",
              "      <th>Rouge2</th>\n",
              "      <th>Rougel</th>\n",
              "      <th>Rougelsum</th>\n",
              "      <th>Gen Len</th>\n",
              "    </tr>\n",
              "  </thead>\n",
              "  <tbody>\n",
              "    <tr>\n",
              "      <td>1</td>\n",
              "      <td>No log</td>\n",
              "      <td>3.929612</td>\n",
              "      <td>12.668700</td>\n",
              "      <td>2.187500</td>\n",
              "      <td>10.405600</td>\n",
              "      <td>11.763400</td>\n",
              "      <td>19.000000</td>\n",
              "    </tr>\n",
              "  </tbody>\n",
              "</table><p>"
            ],
            "text/plain": [
              "<IPython.core.display.HTML object>"
            ]
          },
          "metadata": {}
        },
        {
          "output_type": "stream",
          "name": "stderr",
          "text": [
            "The following columns in the evaluation set  don't have a corresponding argument in `T5ForConditionalGeneration.forward` and have been ignored: id, document, summary.\n",
            "***** Running Evaluation *****\n",
            "  Num examples = 50\n",
            "  Batch size = 4\n",
            "\n",
            "\n",
            "Training completed. Do not forget to share your model on huggingface.co/models =)\n",
            "\n",
            "\n"
          ]
        },
        {
          "output_type": "execute_result",
          "data": {
            "text/plain": [
              "TrainOutput(global_step=250, training_loss=4.32569580078125, metrics={'train_runtime': 5194.7396, 'train_samples_per_second': 0.193, 'train_steps_per_second': 0.048, 'total_flos': 303221675261952.0, 'train_loss': 4.32569580078125, 'epoch': 1.0})"
            ]
          },
          "metadata": {},
          "execution_count": 27
        }
      ]
    },
    {
      "cell_type": "markdown",
      "metadata": {
        "id": "62Yn2VMVUfcy"
      },
      "source": [
        "You can now upload the result of the training to the Hub, just execute this instruction:"
      ]
    },
    {
      "cell_type": "code",
      "metadata": {
        "id": "UVqbjR5WUfcy",
        "colab": {
          "base_uri": "https://localhost:8080/",
          "height": 481
        },
        "outputId": "cc7e3261-87ed-425b-ad3f-4bc28d8e06d9"
      },
      "source": [
        "trainer.push_to_hub()"
      ],
      "execution_count": 28,
      "outputs": [
        {
          "output_type": "stream",
          "name": "stderr",
          "text": [
            "Saving model checkpoint to t5-small-finetuned-xsum\n",
            "Configuration saved in t5-small-finetuned-xsum/config.json\n",
            "Model weights saved in t5-small-finetuned-xsum/pytorch_model.bin\n",
            "tokenizer config file saved in t5-small-finetuned-xsum/tokenizer_config.json\n",
            "Special tokens file saved in t5-small-finetuned-xsum/special_tokens_map.json\n"
          ]
        },
        {
          "output_type": "error",
          "ename": "AttributeError",
          "evalue": "ignored",
          "traceback": [
            "\u001b[0;31m---------------------------------------------------------------------------\u001b[0m",
            "\u001b[0;31mAttributeError\u001b[0m                            Traceback (most recent call last)",
            "\u001b[0;32m<ipython-input-28-8fcc5527db7e>\u001b[0m in \u001b[0;36m<module>\u001b[0;34m()\u001b[0m\n\u001b[0;32m----> 1\u001b[0;31m \u001b[0mtrainer\u001b[0m\u001b[0;34m.\u001b[0m\u001b[0mpush_to_hub\u001b[0m\u001b[0;34m(\u001b[0m\u001b[0;34m)\u001b[0m\u001b[0;34m\u001b[0m\u001b[0;34m\u001b[0m\u001b[0m\n\u001b[0m",
            "\u001b[0;32m/usr/local/lib/python3.7/dist-packages/transformers/trainer.py\u001b[0m in \u001b[0;36mpush_to_hub\u001b[0;34m(self, commit_message, blocking, **kwargs)\u001b[0m\n\u001b[1;32m   2681\u001b[0m             \u001b[0;32mreturn\u001b[0m\u001b[0;34m\u001b[0m\u001b[0;34m\u001b[0m\u001b[0m\n\u001b[1;32m   2682\u001b[0m \u001b[0;34m\u001b[0m\u001b[0m\n\u001b[0;32m-> 2683\u001b[0;31m         \u001b[0mgit_head_commit_url\u001b[0m \u001b[0;34m=\u001b[0m \u001b[0mself\u001b[0m\u001b[0;34m.\u001b[0m\u001b[0mrepo\u001b[0m\u001b[0;34m.\u001b[0m\u001b[0mpush_to_hub\u001b[0m\u001b[0;34m(\u001b[0m\u001b[0mcommit_message\u001b[0m\u001b[0;34m=\u001b[0m\u001b[0mcommit_message\u001b[0m\u001b[0;34m,\u001b[0m \u001b[0mblocking\u001b[0m\u001b[0;34m=\u001b[0m\u001b[0mblocking\u001b[0m\u001b[0;34m)\u001b[0m\u001b[0;34m\u001b[0m\u001b[0;34m\u001b[0m\u001b[0m\n\u001b[0m\u001b[1;32m   2684\u001b[0m         \u001b[0;31m# push separately the model card to be independant from the rest of the model\u001b[0m\u001b[0;34m\u001b[0m\u001b[0;34m\u001b[0m\u001b[0;34m\u001b[0m\u001b[0m\n\u001b[1;32m   2685\u001b[0m         \u001b[0;32mif\u001b[0m \u001b[0mself\u001b[0m\u001b[0;34m.\u001b[0m\u001b[0margs\u001b[0m\u001b[0;34m.\u001b[0m\u001b[0mshould_save\u001b[0m\u001b[0;34m:\u001b[0m\u001b[0;34m\u001b[0m\u001b[0;34m\u001b[0m\u001b[0m\n",
            "\u001b[0;31mAttributeError\u001b[0m: 'Seq2SeqTrainer' object has no attribute 'repo'"
          ]
        }
      ]
    },
    {
      "cell_type": "markdown",
      "metadata": {
        "id": "j_O-XltMUfcy"
      },
      "source": [
        "You can now share this model with all your friends, family, favorite pets: they can all load it with the identifier `\"your-username/the-name-you-picked\"` so for instance:\n",
        "\n",
        "```python\n",
        "from transformers import AutoModelForSeq2SeqLM\n",
        "\n",
        "model = AutoModelForSeq2SeqLM.from_pretrained(\"sgugger/my-awesome-model\")\n",
        "```"
      ]
    }
  ]
}